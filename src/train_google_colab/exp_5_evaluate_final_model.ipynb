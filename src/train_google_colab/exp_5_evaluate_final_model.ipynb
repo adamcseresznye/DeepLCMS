{
 "cells": [
  {
   "cell_type": "markdown",
   "metadata": {
    "id": "M7o1Je1x0XQU"
   },
   "source": [
    "# Mount drive and append path to PYTONPATH\n"
   ]
  },
  {
   "cell_type": "code",
   "execution_count": null,
   "metadata": {
    "colab": {
     "base_uri": "https://localhost:8080/"
    },
    "executionInfo": {
     "elapsed": 25219,
     "status": "ok",
     "timestamp": 1702829804214,
     "user": {
      "displayName": "Adam Cseresznye",
      "userId": "14068185396312405589"
     },
     "user_tz": -60
    },
    "id": "S9vhq3fcEHwj",
    "outputId": "457ef61f-12d7-4fdf-c8d0-d39a20cbb545"
   },
   "outputs": [],
   "source": [
    "import os\n",
    "import sys\n",
    "\n",
    "from google.colab import drive, files, runtime\n",
    "\n",
    "drive.mount(\"/content/drive\")\n",
    "sys.path.append(\"/content/drive/MyDrive/DeepLCMS/train_google_colab\")"
   ]
  },
  {
   "cell_type": "markdown",
   "metadata": {
    "id": "B10ISUtcE4nE"
   },
   "source": [
    "# Import and install libraries"
   ]
  },
  {
   "cell_type": "code",
   "execution_count": null,
   "metadata": {
    "id": "EaleshIpENkS"
   },
   "outputs": [],
   "source": [
    "%%capture\n",
    "!pip install lightning\n",
    "!pip install timm\n",
    "!pip install torchinfo\n",
    "!pip install scikit-posthocs\n",
    "!pip install optuna\n",
    "!pip install torchcam"
   ]
  },
  {
   "cell_type": "code",
   "execution_count": null,
   "metadata": {
    "id": "eQbyJQmAXznU"
   },
   "outputs": [],
   "source": [
    "import colab_functions\n",
    "import colab_utils\n",
    "import pandas as pd\n",
    "import prepare_data\n",
    "import timm\n",
    "import train_NN\n",
    "from lightning.pytorch import loggers, callbacks, tuner, trainer, LightningModule\n",
    "\n",
    "from pathlib import Path"
   ]
  },
  {
   "cell_type": "code",
   "execution_count": null,
   "metadata": {
    "id": "gvVdxwYfiHwl"
   },
   "outputs": [],
   "source": [
    "# Set the CUDA_VISIBLE_DEVICES environment variable\n",
    "os.environ[\"CUDA_VISIBLE_DEVICES\"] = \"0\""
   ]
  },
  {
   "cell_type": "markdown",
   "metadata": {
    "id": "yjCM3Grt0NWP"
   },
   "source": [
    "# Unzip data"
   ]
  },
  {
   "cell_type": "code",
   "execution_count": null,
   "metadata": {
    "id": "vYo52Rm30Q-k"
   },
   "outputs": [],
   "source": [
    "!unzip -q \"/content/drive/MyDrive/DeepLCMS/ST001618_Opium_study_LC_MS_500_augmented.zip\""
   ]
  },
  {
   "cell_type": "code",
   "execution_count": null,
   "metadata": {
    "id": "Z0xzISbTpPMe"
   },
   "outputs": [],
   "source": [
    "img_folder = Path(\"/content/ST001618_Opium_study_LC_MS_500_augmented\")"
   ]
  },
  {
   "cell_type": "markdown",
   "metadata": {
    "id": "EqmzdwGyVGvJ"
   },
   "source": [
    "# Check if GPU is used"
   ]
  },
  {
   "cell_type": "code",
   "execution_count": null,
   "metadata": {
    "id": "Jh0cGdllMv8h"
   },
   "outputs": [],
   "source": [
    "device = colab_functions.get_device()"
   ]
  },
  {
   "cell_type": "markdown",
   "metadata": {
    "id": "jza-9oViShwj"
   },
   "source": [
    "# Final training with optimized settings"
   ]
  },
  {
   "cell_type": "code",
   "execution_count": null,
   "metadata": {
    "colab": {
     "base_uri": "https://localhost:8080/",
     "height": 49,
     "referenced_widgets": [
      "bc9adcb6c95040fcbfdcc377a20028e6",
      "8074532c25e44f84bc738994a96f888f",
      "539c398e3f3b4a998de7d7239ae283a0",
      "2a931b4b1908433fa1a41cac66053117",
      "8c44a53f632448a6b19ddef13bfce6c6",
      "94a0a46e11784bef8a893ff7d2a11ae6",
      "ba76e5d8da4a40e69094b9f9963ccae6",
      "26a119c47f6547639abd94b606c38e7a",
      "ee03b03990e84391aeb1694f6aee3b6c",
      "634bda449eff4539a12db08061c26813",
      "c93cc7a13e8c413cabd1ffa4e328aa4c"
     ]
    },
    "executionInfo": {
     "elapsed": 27531,
     "status": "ok",
     "timestamp": 1702829338972,
     "user": {
      "displayName": "Adam Cseresznye",
      "userId": "14068185396312405589"
     },
     "user_tz": -60
    },
    "id": "ar6_ZfcxSnfy",
    "outputId": "43d1934f-e41f-4509-e324-e6734f7e4b47"
   },
   "outputs": [],
   "source": [
    "model = train_NN.PretrainedModel()\n",
    "datamodule = prepare_data.LCMSDataModule(\n",
    "    model,\n",
    "    data_dir=img_folder,\n",
    ")\n",
    "model.show_architecture()"
   ]
  },
  {
   "cell_type": "code",
   "execution_count": null,
   "metadata": {
    "colab": {
     "base_uri": "https://localhost:8080/"
    },
    "executionInfo": {
     "elapsed": 1141,
     "status": "ok",
     "timestamp": 1702829354232,
     "user": {
      "displayName": "Adam Cseresznye",
      "userId": "14068185396312405589"
     },
     "user_tz": -60
    },
    "id": "j2nqJbuVS2FU",
    "outputId": "f93434e4-a8b5-4ee7-9b0b-7cca4b378b05"
   },
   "outputs": [],
   "source": [
    "logger = loggers.CSVLogger(\"logs\", name=\"final_training\")\n",
    "checkpoint_callback = callbacks.ModelCheckpoint(\n",
    "    save_top_k=1, monitor=\"val_loss\", mode=\"min\"\n",
    ")\n",
    "\n",
    "trainer_ = trainer.Trainer(\n",
    "    max_epochs=50,\n",
    "    log_every_n_steps=1,\n",
    "    logger=logger,\n",
    "    precision=\"16-mixed\",\n",
    "    enable_checkpointing=True,\n",
    "    callbacks=[\n",
    "        callbacks.EarlyStopping(monitor=\"val_loss\", mode=\"min\", patience=10),\n",
    "        checkpoint_callback,\n",
    "    ],\n",
    ")\n",
    "\n",
    "# # Create a Tuner\n",
    "# tuner_ = tuner.Tuner(trainer_)\n",
    "\n",
    "# # Find optimal learning rate\n",
    "# lr_finder = tuner_.lr_find(model, datamodule=datamodule, early_stop_threshold=None)\n",
    "\n",
    "# # Extract best learning rate\n",
    "# best_lr = lr_finder.suggestion()\n",
    "\n",
    "trainer_.fit(model=model, datamodule=datamodule)"
   ]
  },
  {
   "cell_type": "markdown",
   "metadata": {
    "id": "7WD_qdG3nP9K"
   },
   "source": [
    "Most optimal learning rate found = 0.006918309709189364.\n",
    "\n",
    "\n"
   ]
  },
  {
   "cell_type": "code",
   "execution_count": null,
   "metadata": {
    "colab": {
     "base_uri": "https://localhost:8080/",
     "height": 430
    },
    "executionInfo": {
     "elapsed": 5184,
     "status": "ok",
     "timestamp": 1702804475410,
     "user": {
      "displayName": "Adam Cseresznye",
      "userId": "14068185396312405589"
     },
     "user_tz": -60
    },
    "id": "T6DfcfEbTVy_",
    "outputId": "e8d70de7-8587-46ca-8c77-b40b9ff9c816"
   },
   "outputs": [],
   "source": [
    "results_df = colab_functions.get_experiment_results()\n",
    "results_df.to_csv(\"optimized_model.csv\", index=False)\n",
    "colab_functions.plot_experiment_results(results_df)"
   ]
  },
  {
   "cell_type": "markdown",
   "metadata": {
    "id": "NGGNl8x9nm5P"
   },
   "source": [
    "The best epoch, in terms of validation loss was #28 (0.123633)"
   ]
  },
  {
   "cell_type": "code",
   "execution_count": null,
   "metadata": {
    "colab": {
     "base_uri": "https://localhost:8080/",
     "height": 81
    },
    "executionInfo": {
     "elapsed": 8,
     "status": "ok",
     "timestamp": 1702804475410,
     "user": {
      "displayName": "Adam Cseresznye",
      "userId": "14068185396312405589"
     },
     "user_tz": -60
    },
    "id": "SxpWhM_4nqWf",
    "outputId": "3b4d21d1-43c6-4eef-b57a-4d5154d250c3"
   },
   "outputs": [],
   "source": [
    "results_df.query(\"variable.str.contains('val')\").sort_values(by=\"value\").groupby(\n",
    "    \"variable\"\n",
    ").head(1).query(\"variable.str.contains('val_loss')\")"
   ]
  },
  {
   "cell_type": "code",
   "execution_count": null,
   "metadata": {
    "colab": {
     "base_uri": "https://localhost:8080/",
     "height": 206
    },
    "executionInfo": {
     "elapsed": 947,
     "status": "ok",
     "timestamp": 1702804579982,
     "user": {
      "displayName": "Adam Cseresznye",
      "userId": "14068185396312405589"
     },
     "user_tz": -60
    },
    "id": "joMV8t9z2wKo",
    "outputId": "6541816c-7532-4699-8e8c-619df02b5e49"
   },
   "outputs": [],
   "source": [
    "results_df.query(\"epoch == 26 and variable.str.contains('val')\")"
   ]
  },
  {
   "cell_type": "markdown",
   "metadata": {
    "id": "oRzo7Cp_nu-E"
   },
   "source": [
    "The corresponding metrics:\n",
    "\n",
    "* val_loss : 0.123633\n",
    "* val_f1 : 0.982043\n",
    "* val_precision : 1.0\n",
    "* val_accuracy : 0.981481\n",
    "* val_recall : 0.965142"
   ]
  },
  {
   "cell_type": "code",
   "execution_count": null,
   "metadata": {
    "colab": {
     "base_uri": "https://localhost:8080/"
    },
    "executionInfo": {
     "elapsed": 6,
     "status": "ok",
     "timestamp": 1702804475410,
     "user": {
      "displayName": "Adam Cseresznye",
      "userId": "14068185396312405589"
     },
     "user_tz": -60
    },
    "id": "sCfE2cKK-j5h",
    "outputId": "7e2e0fe8-6bc1-476e-e04b-129515e850d0"
   },
   "outputs": [],
   "source": [
    "print(checkpoint_callback.best_model_path)  # prints path to the best model's checkpoint\n",
    "print(checkpoint_callback.best_model_score)  #"
   ]
  },
  {
   "cell_type": "code",
   "execution_count": null,
   "metadata": {
    "colab": {
     "base_uri": "https://localhost:8080/",
     "height": 418
    },
    "executionInfo": {
     "elapsed": 6294,
     "status": "error",
     "timestamp": 1702804642001,
     "user": {
      "displayName": "Adam Cseresznye",
      "userId": "14068185396312405589"
     },
     "user_tz": -60
    },
    "id": "IEGaMCHzC6vl",
    "outputId": "0dbd6a63-6c11-4c80-d819-64e63b9ef4e8"
   },
   "outputs": [],
   "source": [
    "print(checkpoint_callback.best_model_path)  # prints path to the best model's checkpoint\n",
    "print(checkpoint_callback.best_model_score)  # and prints it score\n",
    "\n",
    "best_model = train_NN.PretrainedModel.load_from_checkpoint(\n",
    "    checkpoint_callback.best_model_path\n",
    ")"
   ]
  },
  {
   "cell_type": "markdown",
   "metadata": {
    "id": "sjz4qnZHLu_g"
   },
   "source": [
    "# Evaluate the test set\n"
   ]
  },
  {
   "cell_type": "code",
   "execution_count": null,
   "metadata": {
    "colab": {
     "base_uri": "https://localhost:8080/",
     "height": 84,
     "referenced_widgets": [
      "89e7c916cb2c4c448057cb21c45b5d80",
      "f78c81e9b6a54f4aafa1267725aa8225",
      "33fba22446e74d2e85dbfd63100ed229",
      "3df15d7541d94333977b6eb0de77f340",
      "8e5e0f9b90ff486e95407ffce735953c",
      "96024dfb2cd4459c8307471346cae373",
      "a9ee40e353e24d7cb7ade9babb38a3e1",
      "9095044805634191bd1130954269214d",
      "e917d85f58f3456aaa6531ce3f959c4f",
      "8bf5316b80f84effaea41056f2633f68",
      "dece47ad5333477896527b08c5a5ebfd"
     ]
    },
    "id": "FvS5udQOL7jF",
    "outputId": "81e9f254-a79f-4d5c-ce90-1f1d72091b95"
   },
   "outputs": [],
   "source": [
    "predictions = trainer_.predict(best_model, datamodule.test_dataloader())"
   ]
  },
  {
   "cell_type": "markdown",
   "metadata": {
    "id": "-CpS-IEfpU7U"
   },
   "source": [
    "As you can see our model performs exceptionally good:\n",
    "Accuracy: 0.90 | F1: 0.93 | Precision: 0.86 | Recall: 1.00\n"
   ]
  },
  {
   "cell_type": "code",
   "execution_count": null,
   "metadata": {
    "colab": {
     "base_uri": "https://localhost:8080/",
     "height": 475
    },
    "executionInfo": {
     "elapsed": 810,
     "status": "ok",
     "timestamp": 1702825318050,
     "user": {
      "displayName": "Adam Cseresznye",
      "userId": "14068185396312405589"
     },
     "user_tz": -60
    },
    "id": "hRtqMjiT0g50",
    "outputId": "61b90910-e5bb-4cff-f608-075a9d8c325c"
   },
   "outputs": [],
   "source": [
    "colab_functions.evaluate_predictions(\n",
    "    logits=predictions, test_dataloader=datamodule.test_dataloader()\n",
    ")"
   ]
  },
  {
   "cell_type": "markdown",
   "metadata": {
    "id": "4qWO3v4bqPj_"
   },
   "source": [
    "# Random predictions\n",
    "\n",
    "As demonstrated below, generating random predictions aligned with the distribution of our test set results in:\n",
    "\n",
    "*   Accuracy of 0.50\n",
    "*   F1 score of 0.59\n",
    "*   Precision of 0.73\n",
    "* Recall of 0.50\n",
    "\n",
    "indicating that our model significantly outperforms random guessing.\n"
   ]
  },
  {
   "cell_type": "code",
   "execution_count": null,
   "metadata": {
    "id": "Mg6p3kdiqFYg"
   },
   "outputs": [],
   "source": [
    "from sklearn import metrics\n",
    "import numpy as np\n",
    "\n",
    "RANGE = 1000\n",
    "\n",
    "results = {\"Accuracy\": [], \"Precision\": [], \"Recall\": [], \"F1\": []}\n",
    "\n",
    "for _ in range(RANGE):\n",
    "    true = np.concatenate([np.zeros(8), np.ones(22)])\n",
    "    predicted = np.random.choice([0, 1], 30)\n",
    "\n",
    "    scores = {\n",
    "        \"Accuracy\": metrics.accuracy_score(true, predicted),\n",
    "        \"Precision\": metrics.precision_score(true, predicted),\n",
    "        \"Recall\": metrics.recall_score(true, predicted),\n",
    "        \"F1\": metrics.f1_score(true, predicted),\n",
    "    }\n",
    "\n",
    "    for key, value in scores.items():\n",
    "        results[key].append(value)\n",
    "\n",
    "mean_results = {key: np.mean(values) for key, values in results.items()}\n",
    "\n",
    "print(\n",
    "    f\"Accuracy: {mean_results['Accuracy']:.2f}, F1: {mean_results['F1']:.2f}, Precision: {mean_results['Precision']:.2f}, Recall: {mean_results['Recall']:.2f}\"\n",
    ")"
   ]
  },
  {
   "cell_type": "code",
   "execution_count": null,
   "metadata": {
    "id": "ZpOpSlKH0mVs"
   },
   "outputs": [],
   "source": [
    "colab_functions.inspect_predictions(\n",
    "    logits=predictions, test_dataloader=datamodule.test_dataloader()\n",
    ")"
   ]
  },
  {
   "cell_type": "markdown",
   "metadata": {
    "id": "aJlWgJXMLB5X"
   },
   "source": [
    "# Visualize Spatial importance of features via TorchCam\n"
   ]
  },
  {
   "cell_type": "code",
   "execution_count": null,
   "metadata": {
    "id": "u4mxGVpnQre0"
   },
   "outputs": [],
   "source": [
    "best_model = train_NN.Resnet_model.load_from_checkpoint(\n",
    "    checkpoint_callback.best_model_path\n",
    ")"
   ]
  },
  {
   "cell_type": "code",
   "execution_count": null,
   "metadata": {
    "colab": {
     "base_uri": "https://localhost:8080/",
     "height": 692
    },
    "executionInfo": {
     "elapsed": 1459,
     "status": "error",
     "timestamp": 1702825406877,
     "user": {
      "displayName": "Adam Cseresznye",
      "userId": "14068185396312405589"
     },
     "user_tz": -60
    },
    "id": "pIcv7q3EXkYx",
    "outputId": "ff679270-226d-4b83-be7e-172a2c4971d8"
   },
   "outputs": [],
   "source": [
    "colab_functions.plot_activation(\n",
    "    datamodule.test_dataloader(), device=\"cuda\", model=model, save=False\n",
    ")"
   ]
  },
  {
   "cell_type": "code",
   "execution_count": null,
   "metadata": {
    "executionInfo": {
     "elapsed": 394,
     "status": "ok",
     "timestamp": 1702826282071,
     "user": {
      "displayName": "Adam Cseresznye",
      "userId": "14068185396312405589"
     },
     "user_tz": -60
    },
    "id": "gbq77ZvEUf2n"
   },
   "outputs": [],
   "source": [
    "import colab_utils\n",
    "import matplotlib.pyplot as plt\n",
    "import numpy as np\n",
    "import pandas as pd\n",
    "import seaborn as sns\n",
    "import torch\n",
    "import torch.utils.data\n",
    "import torchmetrics\n",
    "import torchvision\n",
    "from PIL import Image\n",
    "from torchcam.methods import LayerCAM\n",
    "from torchcam.utils import overlay_mask\n",
    "from torchvision.io.image import read_image\n",
    "from torchvision.transforms.functional import to_pil_image\n",
    "\n",
    "\n",
    "def plot_activation(\n",
    "    dataloader,\n",
    "    device: str,\n",
    "    model,\n",
    "    save: bool = True,\n",
    "):\n",
    "    \"\"\"\n",
    "    Generate a 3x3 grid of images with Class Activation Maps (CAM) and optionally save the plot.\n",
    "\n",
    "    Parameters:\n",
    "    - dataloader (Any): The DataLoader containing the images and labels.\n",
    "    - device (Any): The device on which the model should run (e.g., 'cuda' or 'cpu').\n",
    "    - model (Any): The neural network model.\n",
    "    - save (bool, optional): Whether to save the plot as 'plot_activation.png'. Default is True.\n",
    "\n",
    "    Example:\n",
    "    ```python\n",
    "    from torchvision import models, transforms\n",
    "    from torch.utils.data import DataLoader\n",
    "    from your_dataset_module import YourDataset  # Replace 'your_dataset_module' with the actual module name\n",
    "\n",
    "    # Assuming you have a DataLoader named 'your_dataloader' and a device 'cuda'\n",
    "    your_dataloader = DataLoader(YourDataset(...), batch_size=32, shuffle=True)\n",
    "    your_model = models.resnet50(pretrained=True)\n",
    "    your_model.to('cuda')\n",
    "\n",
    "    plot_activation(your_dataloader, 'cuda', your_model, save=True)\n",
    "    ```\n",
    "    \"\"\"\n",
    "    for param in model.parameters():\n",
    "        param.requires_grad = True\n",
    "\n",
    "    images, labels = next(iter(dataloader))\n",
    "    images, labels = images.to(device), labels.to(device)\n",
    "\n",
    "    # Create a 3x3 grid for displaying images\n",
    "    fig = plt.figure(figsize=(12, 12))\n",
    "    rows, cols = 3, 3\n",
    "\n",
    "    for i in range(1, rows * cols + 1):\n",
    "        fig.add_subplot(rows, cols, i)\n",
    "\n",
    "        # Choose a random index\n",
    "        random_index = np.random.randint(0, len(dataloader.dataset) - 1)\n",
    "\n",
    "        # Retrieve the CAM from several layers at the same time\n",
    "        cam_extractor = LayerCAM(model)\n",
    "\n",
    "        # Preprocess your data and feed it to the model\n",
    "        out = model(images[random_index].unsqueeze(0))\n",
    "        # Retrieve the CAM by passing the class index and the model output\n",
    "        cams = cam_extractor(out.squeeze(0).argmax().item(), out)\n",
    "\n",
    "        result = overlay_mask(\n",
    "            to_pil_image(images[random_index]), to_pil_image(cams, mode=\"F\"), alpha=0.5\n",
    "        )\n",
    "        plt.imshow(result)\n",
    "        plt.title(f\"Class: {labels[random_index]}\")\n",
    "        plt.axis(False)\n",
    "\n",
    "        cam_extractor.remove_hooks()\n",
    "\n",
    "    if save:\n",
    "        plt.savefig(\"plot_activation.png\", bbox_inches=\"tight\", dpi=300)\n",
    "\n",
    "    plt.show()  # Display the plot"
   ]
  },
  {
   "cell_type": "code",
   "execution_count": null,
   "metadata": {
    "colab": {
     "base_uri": "https://localhost:8080/",
     "height": 675
    },
    "executionInfo": {
     "elapsed": 1488,
     "status": "error",
     "timestamp": 1702826286856,
     "user": {
      "displayName": "Adam Cseresznye",
      "userId": "14068185396312405589"
     },
     "user_tz": -60
    },
    "id": "DvlUD6-WU51d",
    "outputId": "cd201b79-3370-4f3e-cb21-09be1b98a019"
   },
   "outputs": [],
   "source": [
    "plot_activation(datamodule.test_dataloader(), device=\"cuda\", model=model, save=False)"
   ]
  },
  {
   "cell_type": "code",
   "execution_count": null,
   "metadata": {
    "colab": {
     "base_uri": "https://localhost:8080/"
    },
    "executionInfo": {
     "elapsed": 337,
     "status": "ok",
     "timestamp": 1702825843842,
     "user": {
      "displayName": "Adam Cseresznye",
      "userId": "14068185396312405589"
     },
     "user_tz": -60
    },
    "id": "E7ubKpvLVFF_",
    "outputId": "20fa6308-5176-4dde-8971-08db8a8cc588"
   },
   "outputs": [],
   "source": [
    "model"
   ]
  }
 ],
 "metadata": {
  "accelerator": "TPU",
  "colab": {
   "provenance": [
    {
     "file_id": "1FxpkTpMoivSD7nQRkqJsjJ_UhxNTpzed",
     "timestamp": 1700942428337
    }
   ]
  },
  "kernelspec": {
   "display_name": "Python 3",
   "name": "python3"
  },
  "language_info": {
   "codemirror_mode": {
    "name": "ipython",
    "version": 3
   },
   "file_extension": ".py",
   "mimetype": "text/x-python",
   "name": "python",
   "nbconvert_exporter": "python",
   "pygments_lexer": "ipython3",
   "version": "3.9.18"
  },
  "widgets": {
   "application/vnd.jupyter.widget-state+json": {
    "26a119c47f6547639abd94b606c38e7a": {
     "model_module": "@jupyter-widgets/base",
     "model_module_version": "1.2.0",
     "model_name": "LayoutModel",
     "state": {
      "_model_module": "@jupyter-widgets/base",
      "_model_module_version": "1.2.0",
      "_model_name": "LayoutModel",
      "_view_count": null,
      "_view_module": "@jupyter-widgets/base",
      "_view_module_version": "1.2.0",
      "_view_name": "LayoutView",
      "align_content": null,
      "align_items": null,
      "align_self": null,
      "border": null,
      "bottom": null,
      "display": null,
      "flex": null,
      "flex_flow": null,
      "grid_area": null,
      "grid_auto_columns": null,
      "grid_auto_flow": null,
      "grid_auto_rows": null,
      "grid_column": null,
      "grid_gap": null,
      "grid_row": null,
      "grid_template_areas": null,
      "grid_template_columns": null,
      "grid_template_rows": null,
      "height": null,
      "justify_content": null,
      "justify_items": null,
      "left": null,
      "margin": null,
      "max_height": null,
      "max_width": null,
      "min_height": null,
      "min_width": null,
      "object_fit": null,
      "object_position": null,
      "order": null,
      "overflow": null,
      "overflow_x": null,
      "overflow_y": null,
      "padding": null,
      "right": null,
      "top": null,
      "visibility": null,
      "width": null
     }
    },
    "2a931b4b1908433fa1a41cac66053117": {
     "model_module": "@jupyter-widgets/controls",
     "model_module_version": "1.5.0",
     "model_name": "HTMLModel",
     "state": {
      "_dom_classes": [],
      "_model_module": "@jupyter-widgets/controls",
      "_model_module_version": "1.5.0",
      "_model_name": "HTMLModel",
      "_view_count": null,
      "_view_module": "@jupyter-widgets/controls",
      "_view_module_version": "1.5.0",
      "_view_name": "HTMLView",
      "description": "",
      "description_tooltip": null,
      "layout": "IPY_MODEL_634bda449eff4539a12db08061c26813",
      "placeholder": "​",
      "style": "IPY_MODEL_c93cc7a13e8c413cabd1ffa4e328aa4c",
      "value": " 801M/801M [00:15&lt;00:00, 62.2MB/s]"
     }
    },
    "33fba22446e74d2e85dbfd63100ed229": {
     "model_module": "@jupyter-widgets/controls",
     "model_module_version": "1.5.0",
     "model_name": "FloatProgressModel",
     "state": {
      "_dom_classes": [],
      "_model_module": "@jupyter-widgets/controls",
      "_model_module_version": "1.5.0",
      "_model_name": "FloatProgressModel",
      "_view_count": null,
      "_view_module": "@jupyter-widgets/controls",
      "_view_module_version": "1.5.0",
      "_view_name": "ProgressView",
      "bar_style": "",
      "description": "",
      "description_tooltip": null,
      "layout": "IPY_MODEL_9095044805634191bd1130954269214d",
      "max": 1,
      "min": 0,
      "orientation": "horizontal",
      "style": "IPY_MODEL_e917d85f58f3456aaa6531ce3f959c4f",
      "value": 0
     }
    },
    "3df15d7541d94333977b6eb0de77f340": {
     "model_module": "@jupyter-widgets/controls",
     "model_module_version": "1.5.0",
     "model_name": "HTMLModel",
     "state": {
      "_dom_classes": [],
      "_model_module": "@jupyter-widgets/controls",
      "_model_module_version": "1.5.0",
      "_model_name": "HTMLModel",
      "_view_count": null,
      "_view_module": "@jupyter-widgets/controls",
      "_view_module_version": "1.5.0",
      "_view_name": "HTMLView",
      "description": "",
      "description_tooltip": null,
      "layout": "IPY_MODEL_8bf5316b80f84effaea41056f2633f68",
      "placeholder": "​",
      "style": "IPY_MODEL_dece47ad5333477896527b08c5a5ebfd",
      "value": " 0/1 [00:00&lt;?, ?it/s]"
     }
    },
    "539c398e3f3b4a998de7d7239ae283a0": {
     "model_module": "@jupyter-widgets/controls",
     "model_module_version": "1.5.0",
     "model_name": "FloatProgressModel",
     "state": {
      "_dom_classes": [],
      "_model_module": "@jupyter-widgets/controls",
      "_model_module_version": "1.5.0",
      "_model_name": "FloatProgressModel",
      "_view_count": null,
      "_view_module": "@jupyter-widgets/controls",
      "_view_module_version": "1.5.0",
      "_view_name": "ProgressView",
      "bar_style": "success",
      "description": "",
      "description_tooltip": null,
      "layout": "IPY_MODEL_26a119c47f6547639abd94b606c38e7a",
      "max": 800547534,
      "min": 0,
      "orientation": "horizontal",
      "style": "IPY_MODEL_ee03b03990e84391aeb1694f6aee3b6c",
      "value": 800547534
     }
    },
    "634bda449eff4539a12db08061c26813": {
     "model_module": "@jupyter-widgets/base",
     "model_module_version": "1.2.0",
     "model_name": "LayoutModel",
     "state": {
      "_model_module": "@jupyter-widgets/base",
      "_model_module_version": "1.2.0",
      "_model_name": "LayoutModel",
      "_view_count": null,
      "_view_module": "@jupyter-widgets/base",
      "_view_module_version": "1.2.0",
      "_view_name": "LayoutView",
      "align_content": null,
      "align_items": null,
      "align_self": null,
      "border": null,
      "bottom": null,
      "display": null,
      "flex": null,
      "flex_flow": null,
      "grid_area": null,
      "grid_auto_columns": null,
      "grid_auto_flow": null,
      "grid_auto_rows": null,
      "grid_column": null,
      "grid_gap": null,
      "grid_row": null,
      "grid_template_areas": null,
      "grid_template_columns": null,
      "grid_template_rows": null,
      "height": null,
      "justify_content": null,
      "justify_items": null,
      "left": null,
      "margin": null,
      "max_height": null,
      "max_width": null,
      "min_height": null,
      "min_width": null,
      "object_fit": null,
      "object_position": null,
      "order": null,
      "overflow": null,
      "overflow_x": null,
      "overflow_y": null,
      "padding": null,
      "right": null,
      "top": null,
      "visibility": null,
      "width": null
     }
    },
    "8074532c25e44f84bc738994a96f888f": {
     "model_module": "@jupyter-widgets/controls",
     "model_module_version": "1.5.0",
     "model_name": "HTMLModel",
     "state": {
      "_dom_classes": [],
      "_model_module": "@jupyter-widgets/controls",
      "_model_module_version": "1.5.0",
      "_model_name": "HTMLModel",
      "_view_count": null,
      "_view_module": "@jupyter-widgets/controls",
      "_view_module_version": "1.5.0",
      "_view_name": "HTMLView",
      "description": "",
      "description_tooltip": null,
      "layout": "IPY_MODEL_94a0a46e11784bef8a893ff7d2a11ae6",
      "placeholder": "​",
      "style": "IPY_MODEL_ba76e5d8da4a40e69094b9f9963ccae6",
      "value": "model.safetensors: 100%"
     }
    },
    "89e7c916cb2c4c448057cb21c45b5d80": {
     "model_module": "@jupyter-widgets/controls",
     "model_module_version": "1.5.0",
     "model_name": "HBoxModel",
     "state": {
      "_dom_classes": [],
      "_model_module": "@jupyter-widgets/controls",
      "_model_module_version": "1.5.0",
      "_model_name": "HBoxModel",
      "_view_count": null,
      "_view_module": "@jupyter-widgets/controls",
      "_view_module_version": "1.5.0",
      "_view_name": "HBoxView",
      "box_style": "",
      "children": [
       "IPY_MODEL_f78c81e9b6a54f4aafa1267725aa8225",
       "IPY_MODEL_33fba22446e74d2e85dbfd63100ed229",
       "IPY_MODEL_3df15d7541d94333977b6eb0de77f340"
      ],
      "layout": "IPY_MODEL_8e5e0f9b90ff486e95407ffce735953c"
     }
    },
    "8bf5316b80f84effaea41056f2633f68": {
     "model_module": "@jupyter-widgets/base",
     "model_module_version": "1.2.0",
     "model_name": "LayoutModel",
     "state": {
      "_model_module": "@jupyter-widgets/base",
      "_model_module_version": "1.2.0",
      "_model_name": "LayoutModel",
      "_view_count": null,
      "_view_module": "@jupyter-widgets/base",
      "_view_module_version": "1.2.0",
      "_view_name": "LayoutView",
      "align_content": null,
      "align_items": null,
      "align_self": null,
      "border": null,
      "bottom": null,
      "display": null,
      "flex": null,
      "flex_flow": null,
      "grid_area": null,
      "grid_auto_columns": null,
      "grid_auto_flow": null,
      "grid_auto_rows": null,
      "grid_column": null,
      "grid_gap": null,
      "grid_row": null,
      "grid_template_areas": null,
      "grid_template_columns": null,
      "grid_template_rows": null,
      "height": null,
      "justify_content": null,
      "justify_items": null,
      "left": null,
      "margin": null,
      "max_height": null,
      "max_width": null,
      "min_height": null,
      "min_width": null,
      "object_fit": null,
      "object_position": null,
      "order": null,
      "overflow": null,
      "overflow_x": null,
      "overflow_y": null,
      "padding": null,
      "right": null,
      "top": null,
      "visibility": null,
      "width": null
     }
    },
    "8c44a53f632448a6b19ddef13bfce6c6": {
     "model_module": "@jupyter-widgets/base",
     "model_module_version": "1.2.0",
     "model_name": "LayoutModel",
     "state": {
      "_model_module": "@jupyter-widgets/base",
      "_model_module_version": "1.2.0",
      "_model_name": "LayoutModel",
      "_view_count": null,
      "_view_module": "@jupyter-widgets/base",
      "_view_module_version": "1.2.0",
      "_view_name": "LayoutView",
      "align_content": null,
      "align_items": null,
      "align_self": null,
      "border": null,
      "bottom": null,
      "display": null,
      "flex": null,
      "flex_flow": null,
      "grid_area": null,
      "grid_auto_columns": null,
      "grid_auto_flow": null,
      "grid_auto_rows": null,
      "grid_column": null,
      "grid_gap": null,
      "grid_row": null,
      "grid_template_areas": null,
      "grid_template_columns": null,
      "grid_template_rows": null,
      "height": null,
      "justify_content": null,
      "justify_items": null,
      "left": null,
      "margin": null,
      "max_height": null,
      "max_width": null,
      "min_height": null,
      "min_width": null,
      "object_fit": null,
      "object_position": null,
      "order": null,
      "overflow": null,
      "overflow_x": null,
      "overflow_y": null,
      "padding": null,
      "right": null,
      "top": null,
      "visibility": null,
      "width": null
     }
    },
    "8e5e0f9b90ff486e95407ffce735953c": {
     "model_module": "@jupyter-widgets/base",
     "model_module_version": "1.2.0",
     "model_name": "LayoutModel",
     "state": {
      "_model_module": "@jupyter-widgets/base",
      "_model_module_version": "1.2.0",
      "_model_name": "LayoutModel",
      "_view_count": null,
      "_view_module": "@jupyter-widgets/base",
      "_view_module_version": "1.2.0",
      "_view_name": "LayoutView",
      "align_content": null,
      "align_items": null,
      "align_self": null,
      "border": null,
      "bottom": null,
      "display": "inline-flex",
      "flex": null,
      "flex_flow": "row wrap",
      "grid_area": null,
      "grid_auto_columns": null,
      "grid_auto_flow": null,
      "grid_auto_rows": null,
      "grid_column": null,
      "grid_gap": null,
      "grid_row": null,
      "grid_template_areas": null,
      "grid_template_columns": null,
      "grid_template_rows": null,
      "height": null,
      "justify_content": null,
      "justify_items": null,
      "left": null,
      "margin": null,
      "max_height": null,
      "max_width": null,
      "min_height": null,
      "min_width": null,
      "object_fit": null,
      "object_position": null,
      "order": null,
      "overflow": null,
      "overflow_x": null,
      "overflow_y": null,
      "padding": null,
      "right": null,
      "top": null,
      "visibility": null,
      "width": "100%"
     }
    },
    "9095044805634191bd1130954269214d": {
     "model_module": "@jupyter-widgets/base",
     "model_module_version": "1.2.0",
     "model_name": "LayoutModel",
     "state": {
      "_model_module": "@jupyter-widgets/base",
      "_model_module_version": "1.2.0",
      "_model_name": "LayoutModel",
      "_view_count": null,
      "_view_module": "@jupyter-widgets/base",
      "_view_module_version": "1.2.0",
      "_view_name": "LayoutView",
      "align_content": null,
      "align_items": null,
      "align_self": null,
      "border": null,
      "bottom": null,
      "display": null,
      "flex": "2",
      "flex_flow": null,
      "grid_area": null,
      "grid_auto_columns": null,
      "grid_auto_flow": null,
      "grid_auto_rows": null,
      "grid_column": null,
      "grid_gap": null,
      "grid_row": null,
      "grid_template_areas": null,
      "grid_template_columns": null,
      "grid_template_rows": null,
      "height": null,
      "justify_content": null,
      "justify_items": null,
      "left": null,
      "margin": null,
      "max_height": null,
      "max_width": null,
      "min_height": null,
      "min_width": null,
      "object_fit": null,
      "object_position": null,
      "order": null,
      "overflow": null,
      "overflow_x": null,
      "overflow_y": null,
      "padding": null,
      "right": null,
      "top": null,
      "visibility": null,
      "width": null
     }
    },
    "94a0a46e11784bef8a893ff7d2a11ae6": {
     "model_module": "@jupyter-widgets/base",
     "model_module_version": "1.2.0",
     "model_name": "LayoutModel",
     "state": {
      "_model_module": "@jupyter-widgets/base",
      "_model_module_version": "1.2.0",
      "_model_name": "LayoutModel",
      "_view_count": null,
      "_view_module": "@jupyter-widgets/base",
      "_view_module_version": "1.2.0",
      "_view_name": "LayoutView",
      "align_content": null,
      "align_items": null,
      "align_self": null,
      "border": null,
      "bottom": null,
      "display": null,
      "flex": null,
      "flex_flow": null,
      "grid_area": null,
      "grid_auto_columns": null,
      "grid_auto_flow": null,
      "grid_auto_rows": null,
      "grid_column": null,
      "grid_gap": null,
      "grid_row": null,
      "grid_template_areas": null,
      "grid_template_columns": null,
      "grid_template_rows": null,
      "height": null,
      "justify_content": null,
      "justify_items": null,
      "left": null,
      "margin": null,
      "max_height": null,
      "max_width": null,
      "min_height": null,
      "min_width": null,
      "object_fit": null,
      "object_position": null,
      "order": null,
      "overflow": null,
      "overflow_x": null,
      "overflow_y": null,
      "padding": null,
      "right": null,
      "top": null,
      "visibility": null,
      "width": null
     }
    },
    "96024dfb2cd4459c8307471346cae373": {
     "model_module": "@jupyter-widgets/base",
     "model_module_version": "1.2.0",
     "model_name": "LayoutModel",
     "state": {
      "_model_module": "@jupyter-widgets/base",
      "_model_module_version": "1.2.0",
      "_model_name": "LayoutModel",
      "_view_count": null,
      "_view_module": "@jupyter-widgets/base",
      "_view_module_version": "1.2.0",
      "_view_name": "LayoutView",
      "align_content": null,
      "align_items": null,
      "align_self": null,
      "border": null,
      "bottom": null,
      "display": null,
      "flex": null,
      "flex_flow": null,
      "grid_area": null,
      "grid_auto_columns": null,
      "grid_auto_flow": null,
      "grid_auto_rows": null,
      "grid_column": null,
      "grid_gap": null,
      "grid_row": null,
      "grid_template_areas": null,
      "grid_template_columns": null,
      "grid_template_rows": null,
      "height": null,
      "justify_content": null,
      "justify_items": null,
      "left": null,
      "margin": null,
      "max_height": null,
      "max_width": null,
      "min_height": null,
      "min_width": null,
      "object_fit": null,
      "object_position": null,
      "order": null,
      "overflow": null,
      "overflow_x": null,
      "overflow_y": null,
      "padding": null,
      "right": null,
      "top": null,
      "visibility": null,
      "width": null
     }
    },
    "a9ee40e353e24d7cb7ade9babb38a3e1": {
     "model_module": "@jupyter-widgets/controls",
     "model_module_version": "1.5.0",
     "model_name": "DescriptionStyleModel",
     "state": {
      "_model_module": "@jupyter-widgets/controls",
      "_model_module_version": "1.5.0",
      "_model_name": "DescriptionStyleModel",
      "_view_count": null,
      "_view_module": "@jupyter-widgets/base",
      "_view_module_version": "1.2.0",
      "_view_name": "StyleView",
      "description_width": ""
     }
    },
    "ba76e5d8da4a40e69094b9f9963ccae6": {
     "model_module": "@jupyter-widgets/controls",
     "model_module_version": "1.5.0",
     "model_name": "DescriptionStyleModel",
     "state": {
      "_model_module": "@jupyter-widgets/controls",
      "_model_module_version": "1.5.0",
      "_model_name": "DescriptionStyleModel",
      "_view_count": null,
      "_view_module": "@jupyter-widgets/base",
      "_view_module_version": "1.2.0",
      "_view_name": "StyleView",
      "description_width": ""
     }
    },
    "bc9adcb6c95040fcbfdcc377a20028e6": {
     "model_module": "@jupyter-widgets/controls",
     "model_module_version": "1.5.0",
     "model_name": "HBoxModel",
     "state": {
      "_dom_classes": [],
      "_model_module": "@jupyter-widgets/controls",
      "_model_module_version": "1.5.0",
      "_model_name": "HBoxModel",
      "_view_count": null,
      "_view_module": "@jupyter-widgets/controls",
      "_view_module_version": "1.5.0",
      "_view_name": "HBoxView",
      "box_style": "",
      "children": [
       "IPY_MODEL_8074532c25e44f84bc738994a96f888f",
       "IPY_MODEL_539c398e3f3b4a998de7d7239ae283a0",
       "IPY_MODEL_2a931b4b1908433fa1a41cac66053117"
      ],
      "layout": "IPY_MODEL_8c44a53f632448a6b19ddef13bfce6c6"
     }
    },
    "c93cc7a13e8c413cabd1ffa4e328aa4c": {
     "model_module": "@jupyter-widgets/controls",
     "model_module_version": "1.5.0",
     "model_name": "DescriptionStyleModel",
     "state": {
      "_model_module": "@jupyter-widgets/controls",
      "_model_module_version": "1.5.0",
      "_model_name": "DescriptionStyleModel",
      "_view_count": null,
      "_view_module": "@jupyter-widgets/base",
      "_view_module_version": "1.2.0",
      "_view_name": "StyleView",
      "description_width": ""
     }
    },
    "dece47ad5333477896527b08c5a5ebfd": {
     "model_module": "@jupyter-widgets/controls",
     "model_module_version": "1.5.0",
     "model_name": "DescriptionStyleModel",
     "state": {
      "_model_module": "@jupyter-widgets/controls",
      "_model_module_version": "1.5.0",
      "_model_name": "DescriptionStyleModel",
      "_view_count": null,
      "_view_module": "@jupyter-widgets/base",
      "_view_module_version": "1.2.0",
      "_view_name": "StyleView",
      "description_width": ""
     }
    },
    "e917d85f58f3456aaa6531ce3f959c4f": {
     "model_module": "@jupyter-widgets/controls",
     "model_module_version": "1.5.0",
     "model_name": "ProgressStyleModel",
     "state": {
      "_model_module": "@jupyter-widgets/controls",
      "_model_module_version": "1.5.0",
      "_model_name": "ProgressStyleModel",
      "_view_count": null,
      "_view_module": "@jupyter-widgets/base",
      "_view_module_version": "1.2.0",
      "_view_name": "StyleView",
      "bar_color": null,
      "description_width": ""
     }
    },
    "ee03b03990e84391aeb1694f6aee3b6c": {
     "model_module": "@jupyter-widgets/controls",
     "model_module_version": "1.5.0",
     "model_name": "ProgressStyleModel",
     "state": {
      "_model_module": "@jupyter-widgets/controls",
      "_model_module_version": "1.5.0",
      "_model_name": "ProgressStyleModel",
      "_view_count": null,
      "_view_module": "@jupyter-widgets/base",
      "_view_module_version": "1.2.0",
      "_view_name": "StyleView",
      "bar_color": null,
      "description_width": ""
     }
    },
    "f78c81e9b6a54f4aafa1267725aa8225": {
     "model_module": "@jupyter-widgets/controls",
     "model_module_version": "1.5.0",
     "model_name": "HTMLModel",
     "state": {
      "_dom_classes": [],
      "_model_module": "@jupyter-widgets/controls",
      "_model_module_version": "1.5.0",
      "_model_name": "HTMLModel",
      "_view_count": null,
      "_view_module": "@jupyter-widgets/controls",
      "_view_module_version": "1.5.0",
      "_view_name": "HTMLView",
      "description": "",
      "description_tooltip": null,
      "layout": "IPY_MODEL_96024dfb2cd4459c8307471346cae373",
      "placeholder": "​",
      "style": "IPY_MODEL_a9ee40e353e24d7cb7ade9babb38a3e1",
      "value": "Predicting DataLoader 0:   0%"
     }
    }
   }
  }
 },
 "nbformat": 4,
 "nbformat_minor": 0
}
