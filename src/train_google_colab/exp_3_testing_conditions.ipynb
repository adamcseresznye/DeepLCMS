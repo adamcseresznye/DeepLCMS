{
 "cells": [
  {
   "cell_type": "markdown",
   "metadata": {
    "id": "M7o1Je1x0XQU"
   },
   "source": [
    "# Mount drive and append path to PYTONPATH\n"
   ]
  },
  {
   "cell_type": "code",
   "execution_count": null,
   "metadata": {
    "colab": {
     "base_uri": "https://localhost:8080/"
    },
    "executionInfo": {
     "elapsed": 22103,
     "status": "ok",
     "timestamp": 1702574333416,
     "user": {
      "displayName": "Adam Cseresznye",
      "userId": "14068185396312405589"
     },
     "user_tz": -60
    },
    "id": "S9vhq3fcEHwj",
    "outputId": "8e763473-7c2a-4c59-e3f8-bf76ec96ecb3"
   },
   "outputs": [],
   "source": [
    "import os\n",
    "import sys\n",
    "\n",
    "from google.colab import drive\n",
    "\n",
    "drive.mount(\"/content/drive\")\n",
    "sys.path.append(\"/content/drive/MyDrive/DeepLCMS/train_google_colab\")"
   ]
  },
  {
   "cell_type": "markdown",
   "metadata": {
    "id": "B10ISUtcE4nE"
   },
   "source": [
    "# Import and install libraries"
   ]
  },
  {
   "cell_type": "code",
   "execution_count": null,
   "metadata": {
    "executionInfo": {
     "elapsed": 56979,
     "status": "ok",
     "timestamp": 1702574390385,
     "user": {
      "displayName": "Adam Cseresznye",
      "userId": "14068185396312405589"
     },
     "user_tz": -60
    },
    "id": "EaleshIpENkS"
   },
   "outputs": [],
   "source": [
    "%%capture\n",
    "!pip install lightning\n",
    "!pip install timm\n",
    "!pip install torchinfo\n",
    "!pip install scikit-posthocs\n",
    "!pip install optuna\n",
    "!pip install torchcam"
   ]
  },
  {
   "cell_type": "code",
   "execution_count": null,
   "metadata": {
    "executionInfo": {
     "elapsed": 21921,
     "status": "ok",
     "timestamp": 1702574412295,
     "user": {
      "displayName": "Adam Cseresznye",
      "userId": "14068185396312405589"
     },
     "user_tz": -60
    },
    "id": "eQbyJQmAXznU"
   },
   "outputs": [],
   "source": [
    "import colab_functions\n",
    "import colab_utils\n",
    "import pandas as pd\n",
    "import prepare_data\n",
    "import timm\n",
    "import train_NN\n",
    "from lightning.pytorch import loggers, callbacks, tuner, trainer\n",
    "from pathlib import Path\n",
    "from tqdm import tqdm\n",
    "from IPython.display import clear_output\n",
    "import seaborn as sns\n",
    "import matplotlib.pyplot as plt\n",
    "import scikit_posthocs as sp"
   ]
  },
  {
   "cell_type": "code",
   "execution_count": null,
   "metadata": {
    "executionInfo": {
     "elapsed": 294,
     "status": "ok",
     "timestamp": 1702574458041,
     "user": {
      "displayName": "Adam Cseresznye",
      "userId": "14068185396312405589"
     },
     "user_tz": -60
    },
    "id": "gvVdxwYfiHwl"
   },
   "outputs": [],
   "source": [
    "# Set the CUDA_VISIBLE_DEVICES environment variable\n",
    "os.environ[\"CUDA_VISIBLE_DEVICES\"] = \"0\""
   ]
  },
  {
   "cell_type": "markdown",
   "metadata": {
    "id": "yjCM3Grt0NWP"
   },
   "source": [
    "# Unzip data"
   ]
  },
  {
   "cell_type": "code",
   "execution_count": null,
   "metadata": {
    "id": "vYo52Rm30Q-k"
   },
   "outputs": [],
   "source": [
    "!unzip -q \"/content/drive/MyDrive/DeepLCMS/*.zip\""
   ]
  },
  {
   "cell_type": "markdown",
   "metadata": {
    "id": "EqmzdwGyVGvJ"
   },
   "source": [
    "# Check if GPU is used"
   ]
  },
  {
   "cell_type": "code",
   "execution_count": null,
   "metadata": {
    "id": "Jh0cGdllMv8h"
   },
   "outputs": [],
   "source": [
    "device = colab_functions.get_device()"
   ]
  },
  {
   "cell_type": "markdown",
   "metadata": {
    "id": "KL9-cKprC9D_"
   },
   "source": [
    "# Testing experimental conditions\n"
   ]
  },
  {
   "cell_type": "code",
   "execution_count": null,
   "metadata": {
    "id": "1FMsaPrT3wf5"
   },
   "outputs": [],
   "source": [
    "img_paths = [\n",
    "    path for path in Path(\"./\").rglob(\"ST001618_Opium_study_LC_MS*\") if path.is_dir()\n",
    "]\n",
    "img_paths"
   ]
  },
  {
   "cell_type": "code",
   "execution_count": null,
   "metadata": {
    "id": "id8GvGHM5Eg_"
   },
   "outputs": [],
   "source": [
    "PRETRAINED_MODEL = \"mobilevitv2_200.cvnets_in22k_ft_in1k_384\"\n",
    "\n",
    "model = train_NN.PretrainedModel(\n",
    "    pretrained_model_name=PRETRAINED_MODEL, learning_rate=0.001\n",
    ")\n",
    "datamodule = prepare_data.LCMSDataModule(\n",
    "    model,\n",
    "    data_dir=img_paths[0],\n",
    ")\n",
    "model.show_architecture()"
   ]
  },
  {
   "cell_type": "code",
   "execution_count": null,
   "metadata": {
    "id": "CVP4L1Ig5GA0"
   },
   "outputs": [],
   "source": [
    "for img_path in tqdm(img_paths):\n",
    "    for round in range(1, 4):\n",
    "        try:\n",
    "            print(f\"Round {round}, working on: {img_path}\")\n",
    "            model = train_NN.PretrainedModel(\n",
    "                pretrained_model_name=PRETRAINED_MODEL, learning_rate=0.001\n",
    "            )\n",
    "            datamodule = prepare_data.LCMSDataModule(\n",
    "                model,\n",
    "                data_dir=img_path,\n",
    "            )\n",
    "\n",
    "            logger = loggers.CSVLogger(\"logs\", name=str(img_path))\n",
    "\n",
    "            trainer_ = trainer.Trainer(\n",
    "                max_epochs=50,\n",
    "                log_every_n_steps=1,\n",
    "                logger=logger,\n",
    "                precision=\"16-mixed\",\n",
    "                callbacks=[\n",
    "                    callbacks.EarlyStopping(monitor=\"val_loss\", mode=\"min\", patience=10)\n",
    "                ],\n",
    "            )\n",
    "\n",
    "            trainer_.fit(model=model, datamodule=datamodule)\n",
    "\n",
    "            del model, datamodule, trainer_\n",
    "            clear_output(wait=True)\n",
    "\n",
    "        except RuntimeError as e:\n",
    "            print(f\"{img_path} could not run because {e}\")\n",
    "\n",
    "results_df = colab_functions.get_experiment_results()\n",
    "results_df.to_csv(\"pretrained_model_results.csv\", index=False)"
   ]
  },
  {
   "cell_type": "code",
   "execution_count": null,
   "metadata": {
    "id": "Q7SalVspop5K"
   },
   "outputs": [],
   "source": [
    "results_df = colab_functions.get_experiment_results()\n",
    "results_df.to_csv(\"pretrained_model_results.csv\", index=False)"
   ]
  },
  {
   "cell_type": "markdown",
   "metadata": {
    "id": "PBdTZzjGxc6k"
   },
   "source": [
    "# Load saved result from disk\n"
   ]
  },
  {
   "cell_type": "code",
   "execution_count": null,
   "metadata": {
    "colab": {
     "base_uri": "https://localhost:8080/",
     "height": 588
    },
    "executionInfo": {
     "elapsed": 6618,
     "status": "ok",
     "timestamp": 1702576092007,
     "user": {
      "displayName": "Adam Cseresznye",
      "userId": "14068185396312405589"
     },
     "user_tz": -60
    },
    "id": "b0HztHpWxKNw",
    "outputId": "52dc113d-6409-4b34-9d72-6188ef1078a0"
   },
   "outputs": [],
   "source": [
    "# Load saved result from disk\n",
    "results_df = pd.read_csv(\"pretrained_model_results.csv\")\n",
    "colab_functions.plot_experiment_results(results_df, bbox_to_anchor=(1.25, 0.97))"
   ]
  },
  {
   "cell_type": "code",
   "execution_count": null,
   "metadata": {
    "colab": {
     "base_uri": "https://localhost:8080/",
     "height": 175
    },
    "executionInfo": {
     "elapsed": 341,
     "status": "ok",
     "timestamp": 1702575064161,
     "user": {
      "displayName": "Adam Cseresznye",
      "userId": "14068185396312405589"
     },
     "user_tz": -60
    },
    "id": "CfFgyGZ4wHzm",
    "outputId": "ee19967d-915c-466c-8505-a47f4a362f4a"
   },
   "outputs": [],
   "source": [
    "pivoted_result = (\n",
    "    results_df.pivot(index=[\"epoch\", \"experiment\"], columns=\"variable\", values=\"value\")\n",
    "    .reset_index()\n",
    "    .sort_values(by=\"val_f1\", ascending=False)\n",
    "    .groupby(\"experiment\")\n",
    "    .head(1)\n",
    ")\n",
    "pivoted_result"
   ]
  },
  {
   "cell_type": "code",
   "execution_count": null,
   "metadata": {
    "colab": {
     "base_uri": "https://localhost:8080/",
     "height": 593
    },
    "executionInfo": {
     "elapsed": 5589,
     "status": "ok",
     "timestamp": 1702576103700,
     "user": {
      "displayName": "Adam Cseresznye",
      "userId": "14068185396312405589"
     },
     "user_tz": -60
    },
    "id": "wLcVaiczuoGy",
    "outputId": "7ee1e3fa-1b4c-48fe-9b5f-bdc549ac3ab7"
   },
   "outputs": [],
   "source": [
    "with sns.plotting_context(\"talk\", font_scale=0.8):\n",
    "    grid = sns.FacetGrid(\n",
    "        (\n",
    "            pivoted_result.drop(columns=\"epoch\")\n",
    "            .melt(id_vars=\"experiment\")\n",
    "            .replace(\n",
    "                {\n",
    "                    \"ST001618_Opium_study_LC_MS_500\": \"500 images\",\n",
    "                    \"ST001618_Opium_study_LC_MS_1000\": \"1000 images\",\n",
    "                    \"ST001618_Opium_study_LC_MS_500_augmented\": \"500 images augmented\",\n",
    "                    \"ST001618_Opium_study_LC_MS_1000_augmented\": \"1000 images augmented\",\n",
    "                }\n",
    "            )\n",
    "            .assign(variable=lambda df: df.variable.str.replace(\"_\", \" \").str.title())\n",
    "        ),\n",
    "        col=\"variable\",\n",
    "        col_wrap=5,\n",
    "    )\n",
    "    grid.map_dataframe(\n",
    "        sns.barplot,\n",
    "        y=\"experiment\",\n",
    "        x=\"value\",\n",
    "        capsize=0.15,\n",
    "    )\n",
    "\n",
    "    grid.set_titles(\n",
    "        row_template=\"{row_name}\", col_template=\"{col_name}\", fontweight=\"bold\", size=16\n",
    "    )\n",
    "    grid.set_axis_labels(\"\", \"\")\n",
    "\n",
    "    # Add labels to each bar\n",
    "    for ax in grid.axes.flatten():\n",
    "        for container in ax.containers:\n",
    "            ax.bar_label(\n",
    "                container,\n",
    "                labels=[f\"{x:.3f}\" for x in container.datavalues],\n",
    "                fontsize=10,\n",
    "                padding=17,\n",
    "            )\n",
    "\n",
    "    plt.tight_layout()\n",
    "\n",
    "    grid.savefig(\"experiment_result_1.png\")"
   ]
  }
 ],
 "metadata": {
  "colab": {
   "provenance": [
    {
     "file_id": "1oe2LssF1fb7Z3pRCP_eEHJ31sKeevypj",
     "timestamp": 1701632327520
    },
    {
     "file_id": "1FxpkTpMoivSD7nQRkqJsjJ_UhxNTpzed",
     "timestamp": 1700942428337
    }
   ]
  },
  "kernelspec": {
   "display_name": "Python 3",
   "name": "python3"
  },
  "language_info": {
   "codemirror_mode": {
    "name": "ipython",
    "version": 3
   },
   "file_extension": ".py",
   "mimetype": "text/x-python",
   "name": "python",
   "nbconvert_exporter": "python",
   "pygments_lexer": "ipython3",
   "version": "3.9.18"
  }
 },
 "nbformat": 4,
 "nbformat_minor": 0
}
