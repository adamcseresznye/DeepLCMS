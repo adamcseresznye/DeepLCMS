{
 "cells": [
  {
   "cell_type": "markdown",
   "metadata": {
    "id": "M7o1Je1x0XQU"
   },
   "source": [
    "# Mount drive and append path to PYTONPATH\n"
   ]
  },
  {
   "cell_type": "code",
   "execution_count": null,
   "metadata": {
    "colab": {
     "base_uri": "https://localhost:8080/"
    },
    "executionInfo": {
     "elapsed": 2666,
     "status": "ok",
     "timestamp": 1701977096993,
     "user": {
      "displayName": "Adam Cseresznye",
      "userId": "14068185396312405589"
     },
     "user_tz": -60
    },
    "id": "S9vhq3fcEHwj",
    "outputId": "3863f4d0-c380-4050-dcc2-e0c8cc5b2f06"
   },
   "outputs": [],
   "source": [
    "import os\n",
    "import sys\n",
    "\n",
    "from google.colab import drive\n",
    "\n",
    "drive.mount(\"/content/drive\")\n",
    "sys.path.append(\"/content/drive/MyDrive/DeepLCMS/train_google_colab\")"
   ]
  },
  {
   "cell_type": "markdown",
   "metadata": {
    "id": "B10ISUtcE4nE"
   },
   "source": [
    "# Import and install libraries"
   ]
  },
  {
   "cell_type": "code",
   "execution_count": null,
   "metadata": {
    "executionInfo": {
     "elapsed": 58174,
     "status": "ok",
     "timestamp": 1701970449367,
     "user": {
      "displayName": "Adam Cseresznye",
      "userId": "14068185396312405589"
     },
     "user_tz": -60
    },
    "id": "EaleshIpENkS"
   },
   "outputs": [],
   "source": [
    "%%capture\n",
    "!pip install lightning\n",
    "!pip install timm\n",
    "!pip install torchinfo\n",
    "!pip install torchmetrics\n",
    "!pip install torchcam\n",
    "!pip install catboost"
   ]
  },
  {
   "cell_type": "code",
   "execution_count": null,
   "metadata": {
    "executionInfo": {
     "elapsed": 15769,
     "status": "ok",
     "timestamp": 1701977112761,
     "user": {
      "displayName": "Adam Cseresznye",
      "userId": "14068185396312405589"
     },
     "user_tz": -60
    },
    "id": "eQbyJQmAXznU"
   },
   "outputs": [],
   "source": [
    "from pathlib import Path\n",
    "from tqdm.auto import tqdm\n",
    "\n",
    "import colab_functions\n",
    "import colab_utils\n",
    "import pandas as pd\n",
    "import prepare_data\n",
    "import numpy as np\n",
    "import PIL\n",
    "import matplotlib.pyplot as plt\n",
    "from typing import Tuple\n",
    "\n",
    "import catboost\n",
    "import lightgbm as lgb\n",
    "import xgboost\n",
    "from IPython.display import clear_output, display\n",
    "from sklearn import (\n",
    "    compose,\n",
    "    dummy,\n",
    "    ensemble,\n",
    "    impute,\n",
    "    linear_model,\n",
    "    metrics,\n",
    "    model_selection,\n",
    "    pipeline,\n",
    "    preprocessing,\n",
    "    svm,\n",
    "    tree,\n",
    ")"
   ]
  },
  {
   "cell_type": "markdown",
   "metadata": {
    "id": "yjCM3Grt0NWP"
   },
   "source": [
    "# Unzip data"
   ]
  },
  {
   "cell_type": "code",
   "execution_count": null,
   "metadata": {
    "executionInfo": {
     "elapsed": 781,
     "status": "ok",
     "timestamp": 1701965030193,
     "user": {
      "displayName": "Adam Cseresznye",
      "userId": "14068185396312405589"
     },
     "user_tz": -60
    },
    "id": "vYo52Rm30Q-k"
   },
   "outputs": [],
   "source": [
    "# !unzip -q \"*.zip\""
   ]
  },
  {
   "cell_type": "markdown",
   "metadata": {
    "id": "jza-9oViShwj"
   },
   "source": [
    "# Final training with optimized settings"
   ]
  },
  {
   "cell_type": "code",
   "execution_count": null,
   "metadata": {
    "executionInfo": {
     "elapsed": 11,
     "status": "ok",
     "timestamp": 1701977112762,
     "user": {
      "displayName": "Adam Cseresznye",
      "userId": "14068185396312405589"
     },
     "user_tz": -60
    },
    "id": "053wl8f0CK4K"
   },
   "outputs": [],
   "source": [
    "from pathlib import Path\n",
    "import PIL\n",
    "import numpy as np\n",
    "import pandas as pd\n",
    "from typing import Tuple\n",
    "\n",
    "\n",
    "def convert_images_to_df(\n",
    "    path: str,\n",
    "    size: Tuple[int, int] = (25, 25),\n",
    "    slice: str = \"train\",\n",
    "    img_type: str = \".jpeg\",\n",
    "    last_col_name: str = \"label\",\n",
    ") -> Tuple[pd.Series, pd.DataFrame]:\n",
    "    \"\"\"\n",
    "    Converts images from a specified directory to a pandas DataFrame and a Series.\n",
    "    Each row in the DataFrame corresponds to an image, where each column represents a pixel.\n",
    "    The Series contains the labels of the images.\n",
    "\n",
    "    Parameters:\n",
    "    path (str): The directory path where the images are stored.\n",
    "    size (Tuple[int, int]): The size to which all images will be resized. Default is (25, 25).\n",
    "    slice (str): The name of the subdirectory that contains the images to be processed. Default is \"train\".\n",
    "    img_type (str): The file type of the images. Default is \".jpeg\".\n",
    "    last_col_name (str): The name to be given to the last column of the DataFrame. Default is \"label\".\n",
    "\n",
    "    Returns:\n",
    "    Tuple[pd.Series, pd.DataFrame]: A tuple where the first element is a Series with the labels of the images,\n",
    "    and the second element is a DataFrame where each row corresponds to an image and each column represents a pixel.\n",
    "\n",
    "    Example:\n",
    "    >>> labels, df = convert_images_to_df(path=\"/path/to/images\", size=(50, 50),\n",
    "    slice=\"test\", img_type=\".png\", last_col_name=\"class\")\n",
    "    \"\"\"\n",
    "\n",
    "    # Check if path exists\n",
    "    if not Path(path).exists():\n",
    "        raise ValueError(f\"The path {path} does not exist.\")\n",
    "\n",
    "    # Get all image paths\n",
    "    img_paths = list(Path(path).rglob(f\"*{img_type}\"))\n",
    "\n",
    "    # Check if there are any images\n",
    "    if not img_paths:\n",
    "        raise ValueError(f\"No {img_type} files found in {path}.\")\n",
    "\n",
    "    img_list = []\n",
    "    labels = []\n",
    "    for img_path in img_paths:\n",
    "        if img_path.parents[1].name == slice:\n",
    "            # Open and resize image\n",
    "            img = PIL.Image.open(img_path)\n",
    "            resized_img = img.resize(size)\n",
    "\n",
    "            # Convert image to numpy array and flatten\n",
    "            np_img = np.asarray(resized_img)\n",
    "            np_img_flat = np_img.reshape(-1)\n",
    "\n",
    "            img_list.append(np_img_flat)\n",
    "            labels.append(img_path.parent.name)\n",
    "\n",
    "    flattened_imgs = np.vstack(img_list)\n",
    "\n",
    "    return pd.Series(labels), pd.DataFrame(flattened_imgs)"
   ]
  },
  {
   "cell_type": "markdown",
   "metadata": {
    "id": "NQG_PFddWaF9"
   },
   "source": [
    "# Read in the train and test images and convert to dataframes"
   ]
  },
  {
   "cell_type": "code",
   "execution_count": null,
   "metadata": {
    "colab": {
     "base_uri": "https://localhost:8080/"
    },
    "executionInfo": {
     "elapsed": 7977,
     "status": "ok",
     "timestamp": 1701977120729,
     "user": {
      "displayName": "Adam Cseresznye",
      "userId": "14068185396312405589"
     },
     "user_tz": -60
    },
    "id": "GNI-H9CtWaN8",
    "outputId": "a67ec350-9b48-42ad-a324-3c0b2b494714"
   },
   "outputs": [],
   "source": [
    "y_train, X_train = convert_images_to_df(r\"/content/experiment\", slice=\"train\")\n",
    "y_test, X_test = convert_images_to_df(r\"/content/experiment\", slice=\"test\")\n",
    "\n",
    "print(f\"Shape of train set: {X_train.shape}, shape of test set: {X_test.shape}\")"
   ]
  },
  {
   "cell_type": "code",
   "execution_count": null,
   "metadata": {
    "executionInfo": {
     "elapsed": 13,
     "status": "ok",
     "timestamp": 1701977120729,
     "user": {
      "displayName": "Adam Cseresznye",
      "userId": "14068185396312405589"
     },
     "user_tz": -60
    },
    "id": "90YCl91kchka"
   },
   "outputs": [],
   "source": [
    "# convert targets to numerical values\n",
    "\n",
    "y_test = y_test.map({\"User\": 1, \"Non-User\": 0})\n",
    "y_train = y_train.map({\"User\": 1, \"Non-User\": 0})"
   ]
  },
  {
   "cell_type": "code",
   "execution_count": null,
   "metadata": {
    "executionInfo": {
     "elapsed": 12,
     "status": "ok",
     "timestamp": 1701977120729,
     "user": {
      "displayName": "Adam Cseresznye",
      "userId": "14068185396312405589"
     },
     "user_tz": -60
    },
    "id": "0_qkQdAJiRD6"
   },
   "outputs": [],
   "source": [
    "X_train, y_train = X_train.sample(frac=1, random_state=42), y_train.sample(\n",
    "    frac=1, random_state=42\n",
    ")"
   ]
  },
  {
   "cell_type": "markdown",
   "metadata": {
    "id": "v6KCLRusXFFs"
   },
   "source": [
    "# Assessing the performance of ML algorithms\n"
   ]
  },
  {
   "cell_type": "code",
   "execution_count": null,
   "metadata": {
    "colab": {
     "base_uri": "https://localhost:8080/",
     "height": 300,
     "referenced_widgets": [
      "97b7f5d8c6fc4fa2ac1118c2518c858a",
      "15e87d65a30c4400b412041fc1d2beba",
      "7c46c66f4b6e49cf94f5686a481c250c",
      "2cd5895269544089891ee36cc149a316",
      "9eb703e927fb4e34a9a05b422c004050",
      "cd07974daee94c9d86ba63e8e26b9173",
      "19f9b19ab6024becbf69b34d573f24f3",
      "fed228da2d3b430b8a97aa91524b4805",
      "1ea14f9521284a2897210488eb7a002c",
      "9e56f681361f494ca4d93fd23f7e9e5f",
      "43b862b69c5f48d1bd85e9f393b057c9"
     ]
    },
    "executionInfo": {
     "elapsed": 33835,
     "status": "ok",
     "timestamp": 1701977154552,
     "user": {
      "displayName": "Adam Cseresznye",
      "userId": "14068185396312405589"
     },
     "user_tz": -60
    },
    "id": "57CC1wc2Wvbk",
    "outputId": "d5b710b3-0382-4ab4-c432-bdec0a81a01d"
   },
   "outputs": [],
   "source": [
    "MLA = [\n",
    "    dummy.DummyClassifier(),\n",
    "    linear_model.LogisticRegression(),\n",
    "    # GradientBoostingClassifier takes too long\n",
    "    # ensemble.GradientBoostingClassifier(),\n",
    "    tree.DecisionTreeClassifier(),\n",
    "    ensemble.RandomForestClassifier(),\n",
    "    ensemble.ExtraTreesClassifier(),\n",
    "    ensemble.AdaBoostClassifier(),\n",
    "    # catboost takes too long\n",
    "    # catboost.CatBoostClassifier(silent=True),\n",
    "    lgb.LGBMClassifier(verbose=-1),\n",
    "    xgboost.XGBClassifier(verbosity=0),\n",
    "]\n",
    "\n",
    "# note: this is an alternative to train_test_split\n",
    "cv_split = model_selection.RepeatedStratifiedKFold(\n",
    "    n_splits=10, n_repeats=1, random_state=0\n",
    ")\n",
    "\n",
    "# create table to compare MLA metrics\n",
    "MLA_columns = [\n",
    "    \"MLA Name\",\n",
    "    \"MLA Parameters\",\n",
    "    \"Fit Time\",\n",
    "    \"Val Mean Acc\",\n",
    "    \"Val Mean F1\",\n",
    "    \"Val Mean Precision\",\n",
    "    \"Val Mean Recall\",\n",
    "]\n",
    "MLA_compare = pd.DataFrame(columns=MLA_columns)\n",
    "\n",
    "# index through MLA and save performance to table\n",
    "row_index = 0\n",
    "for alg in tqdm(MLA):\n",
    "    # set name and parameters\n",
    "    MLA_name = alg.__class__.__name__\n",
    "    MLA_compare.loc[row_index, \"MLA Name\"] = MLA_name\n",
    "    MLA_compare.loc[row_index, \"MLA Parameters\"] = str(alg.get_params())\n",
    "\n",
    "    model_pipeline = pipeline.Pipeline(\n",
    "        steps=[\n",
    "            (\"pre_processing\", preprocessing.StandardScaler()),\n",
    "            (\"model\", alg),\n",
    "        ]\n",
    "    )\n",
    "\n",
    "    cv_results = model_selection.cross_validate(\n",
    "        model_pipeline,\n",
    "        X_train,\n",
    "        y_train,\n",
    "        cv=cv_split,\n",
    "        scoring={\n",
    "            \"accuracy\": \"accuracy\",\n",
    "            \"f1\": \"f1\",\n",
    "            \"precision\": \"precision\",\n",
    "            \"recall\": \"recall\",\n",
    "        },\n",
    "        return_train_score=True,\n",
    "    )\n",
    "\n",
    "    MLA_compare.loc[row_index, \"Fit Time\"] = cv_results[\"fit_time\"].mean()\n",
    "    MLA_compare.loc[row_index, \"Val Mean Acc\"] = cv_results[\"test_accuracy\"].mean()\n",
    "    MLA_compare.loc[row_index, \"Val Mean F1\"] = cv_results[\"test_f1\"].mean()\n",
    "\n",
    "    MLA_compare.loc[row_index, \"Val Mean Precision\"] = cv_results[\n",
    "        \"test_precision\"\n",
    "    ].mean()\n",
    "    MLA_compare.loc[row_index, \"Val Mean Recall\"] = cv_results[\"test_recall\"].mean()\n",
    "\n",
    "    row_index += 1\n",
    "\n",
    "    clear_output(wait=True)\n",
    "    display(MLA_compare.sort_values(by=[\"Val Mean F1\"], ascending=False))"
   ]
  },
  {
   "cell_type": "markdown",
   "metadata": {
    "id": "r02u3BagwaVg"
   },
   "source": [
    "**XGBoost** showed the best performance:\n",
    "\n",
    "\n",
    "*   Val Acc : 0.94\n",
    "*   Val F1 : 0.96\n",
    "*   Val Precision : 0.97\n",
    "*   Val Recall : 0.95\n"
   ]
  },
  {
   "cell_type": "code",
   "execution_count": null,
   "metadata": {
    "id": "l4-taAYCvZ5j"
   },
   "outputs": [],
   "source": []
  }
 ],
 "metadata": {
  "colab": {
   "provenance": [
    {
     "file_id": "1FxpkTpMoivSD7nQRkqJsjJ_UhxNTpzed",
     "timestamp": 1700942428337
    }
   ]
  },
  "kernelspec": {
   "display_name": "Python 3",
   "name": "python3"
  },
  "language_info": {
   "codemirror_mode": {
    "name": "ipython",
    "version": 3
   },
   "file_extension": ".py",
   "mimetype": "text/x-python",
   "name": "python",
   "nbconvert_exporter": "python",
   "pygments_lexer": "ipython3",
   "version": "3.9.18"
  },
  "widgets": {
   "application/vnd.jupyter.widget-state+json": {
    "15e87d65a30c4400b412041fc1d2beba": {
     "model_module": "@jupyter-widgets/controls",
     "model_module_version": "1.5.0",
     "model_name": "HTMLModel",
     "state": {
      "_dom_classes": [],
      "_model_module": "@jupyter-widgets/controls",
      "_model_module_version": "1.5.0",
      "_model_name": "HTMLModel",
      "_view_count": null,
      "_view_module": "@jupyter-widgets/controls",
      "_view_module_version": "1.5.0",
      "_view_name": "HTMLView",
      "description": "",
      "description_tooltip": null,
      "layout": "IPY_MODEL_cd07974daee94c9d86ba63e8e26b9173",
      "placeholder": "​",
      "style": "IPY_MODEL_19f9b19ab6024becbf69b34d573f24f3",
      "value": "100%"
     }
    },
    "19f9b19ab6024becbf69b34d573f24f3": {
     "model_module": "@jupyter-widgets/controls",
     "model_module_version": "1.5.0",
     "model_name": "DescriptionStyleModel",
     "state": {
      "_model_module": "@jupyter-widgets/controls",
      "_model_module_version": "1.5.0",
      "_model_name": "DescriptionStyleModel",
      "_view_count": null,
      "_view_module": "@jupyter-widgets/base",
      "_view_module_version": "1.2.0",
      "_view_name": "StyleView",
      "description_width": ""
     }
    },
    "1ea14f9521284a2897210488eb7a002c": {
     "model_module": "@jupyter-widgets/controls",
     "model_module_version": "1.5.0",
     "model_name": "ProgressStyleModel",
     "state": {
      "_model_module": "@jupyter-widgets/controls",
      "_model_module_version": "1.5.0",
      "_model_name": "ProgressStyleModel",
      "_view_count": null,
      "_view_module": "@jupyter-widgets/base",
      "_view_module_version": "1.2.0",
      "_view_name": "StyleView",
      "bar_color": null,
      "description_width": ""
     }
    },
    "2cd5895269544089891ee36cc149a316": {
     "model_module": "@jupyter-widgets/controls",
     "model_module_version": "1.5.0",
     "model_name": "HTMLModel",
     "state": {
      "_dom_classes": [],
      "_model_module": "@jupyter-widgets/controls",
      "_model_module_version": "1.5.0",
      "_model_name": "HTMLModel",
      "_view_count": null,
      "_view_module": "@jupyter-widgets/controls",
      "_view_module_version": "1.5.0",
      "_view_name": "HTMLView",
      "description": "",
      "description_tooltip": null,
      "layout": "IPY_MODEL_9e56f681361f494ca4d93fd23f7e9e5f",
      "placeholder": "​",
      "style": "IPY_MODEL_43b862b69c5f48d1bd85e9f393b057c9",
      "value": " 8/8 [00:34&lt;00:00,  5.83s/it]"
     }
    },
    "43b862b69c5f48d1bd85e9f393b057c9": {
     "model_module": "@jupyter-widgets/controls",
     "model_module_version": "1.5.0",
     "model_name": "DescriptionStyleModel",
     "state": {
      "_model_module": "@jupyter-widgets/controls",
      "_model_module_version": "1.5.0",
      "_model_name": "DescriptionStyleModel",
      "_view_count": null,
      "_view_module": "@jupyter-widgets/base",
      "_view_module_version": "1.2.0",
      "_view_name": "StyleView",
      "description_width": ""
     }
    },
    "7c46c66f4b6e49cf94f5686a481c250c": {
     "model_module": "@jupyter-widgets/controls",
     "model_module_version": "1.5.0",
     "model_name": "FloatProgressModel",
     "state": {
      "_dom_classes": [],
      "_model_module": "@jupyter-widgets/controls",
      "_model_module_version": "1.5.0",
      "_model_name": "FloatProgressModel",
      "_view_count": null,
      "_view_module": "@jupyter-widgets/controls",
      "_view_module_version": "1.5.0",
      "_view_name": "ProgressView",
      "bar_style": "success",
      "description": "",
      "description_tooltip": null,
      "layout": "IPY_MODEL_fed228da2d3b430b8a97aa91524b4805",
      "max": 8,
      "min": 0,
      "orientation": "horizontal",
      "style": "IPY_MODEL_1ea14f9521284a2897210488eb7a002c",
      "value": 8
     }
    },
    "97b7f5d8c6fc4fa2ac1118c2518c858a": {
     "model_module": "@jupyter-widgets/controls",
     "model_module_version": "1.5.0",
     "model_name": "HBoxModel",
     "state": {
      "_dom_classes": [],
      "_model_module": "@jupyter-widgets/controls",
      "_model_module_version": "1.5.0",
      "_model_name": "HBoxModel",
      "_view_count": null,
      "_view_module": "@jupyter-widgets/controls",
      "_view_module_version": "1.5.0",
      "_view_name": "HBoxView",
      "box_style": "",
      "children": [
       "IPY_MODEL_15e87d65a30c4400b412041fc1d2beba",
       "IPY_MODEL_7c46c66f4b6e49cf94f5686a481c250c",
       "IPY_MODEL_2cd5895269544089891ee36cc149a316"
      ],
      "layout": "IPY_MODEL_9eb703e927fb4e34a9a05b422c004050"
     }
    },
    "9e56f681361f494ca4d93fd23f7e9e5f": {
     "model_module": "@jupyter-widgets/base",
     "model_module_version": "1.2.0",
     "model_name": "LayoutModel",
     "state": {
      "_model_module": "@jupyter-widgets/base",
      "_model_module_version": "1.2.0",
      "_model_name": "LayoutModel",
      "_view_count": null,
      "_view_module": "@jupyter-widgets/base",
      "_view_module_version": "1.2.0",
      "_view_name": "LayoutView",
      "align_content": null,
      "align_items": null,
      "align_self": null,
      "border": null,
      "bottom": null,
      "display": null,
      "flex": null,
      "flex_flow": null,
      "grid_area": null,
      "grid_auto_columns": null,
      "grid_auto_flow": null,
      "grid_auto_rows": null,
      "grid_column": null,
      "grid_gap": null,
      "grid_row": null,
      "grid_template_areas": null,
      "grid_template_columns": null,
      "grid_template_rows": null,
      "height": null,
      "justify_content": null,
      "justify_items": null,
      "left": null,
      "margin": null,
      "max_height": null,
      "max_width": null,
      "min_height": null,
      "min_width": null,
      "object_fit": null,
      "object_position": null,
      "order": null,
      "overflow": null,
      "overflow_x": null,
      "overflow_y": null,
      "padding": null,
      "right": null,
      "top": null,
      "visibility": null,
      "width": null
     }
    },
    "9eb703e927fb4e34a9a05b422c004050": {
     "model_module": "@jupyter-widgets/base",
     "model_module_version": "1.2.0",
     "model_name": "LayoutModel",
     "state": {
      "_model_module": "@jupyter-widgets/base",
      "_model_module_version": "1.2.0",
      "_model_name": "LayoutModel",
      "_view_count": null,
      "_view_module": "@jupyter-widgets/base",
      "_view_module_version": "1.2.0",
      "_view_name": "LayoutView",
      "align_content": null,
      "align_items": null,
      "align_self": null,
      "border": null,
      "bottom": null,
      "display": null,
      "flex": null,
      "flex_flow": null,
      "grid_area": null,
      "grid_auto_columns": null,
      "grid_auto_flow": null,
      "grid_auto_rows": null,
      "grid_column": null,
      "grid_gap": null,
      "grid_row": null,
      "grid_template_areas": null,
      "grid_template_columns": null,
      "grid_template_rows": null,
      "height": null,
      "justify_content": null,
      "justify_items": null,
      "left": null,
      "margin": null,
      "max_height": null,
      "max_width": null,
      "min_height": null,
      "min_width": null,
      "object_fit": null,
      "object_position": null,
      "order": null,
      "overflow": null,
      "overflow_x": null,
      "overflow_y": null,
      "padding": null,
      "right": null,
      "top": null,
      "visibility": null,
      "width": null
     }
    },
    "cd07974daee94c9d86ba63e8e26b9173": {
     "model_module": "@jupyter-widgets/base",
     "model_module_version": "1.2.0",
     "model_name": "LayoutModel",
     "state": {
      "_model_module": "@jupyter-widgets/base",
      "_model_module_version": "1.2.0",
      "_model_name": "LayoutModel",
      "_view_count": null,
      "_view_module": "@jupyter-widgets/base",
      "_view_module_version": "1.2.0",
      "_view_name": "LayoutView",
      "align_content": null,
      "align_items": null,
      "align_self": null,
      "border": null,
      "bottom": null,
      "display": null,
      "flex": null,
      "flex_flow": null,
      "grid_area": null,
      "grid_auto_columns": null,
      "grid_auto_flow": null,
      "grid_auto_rows": null,
      "grid_column": null,
      "grid_gap": null,
      "grid_row": null,
      "grid_template_areas": null,
      "grid_template_columns": null,
      "grid_template_rows": null,
      "height": null,
      "justify_content": null,
      "justify_items": null,
      "left": null,
      "margin": null,
      "max_height": null,
      "max_width": null,
      "min_height": null,
      "min_width": null,
      "object_fit": null,
      "object_position": null,
      "order": null,
      "overflow": null,
      "overflow_x": null,
      "overflow_y": null,
      "padding": null,
      "right": null,
      "top": null,
      "visibility": null,
      "width": null
     }
    },
    "fed228da2d3b430b8a97aa91524b4805": {
     "model_module": "@jupyter-widgets/base",
     "model_module_version": "1.2.0",
     "model_name": "LayoutModel",
     "state": {
      "_model_module": "@jupyter-widgets/base",
      "_model_module_version": "1.2.0",
      "_model_name": "LayoutModel",
      "_view_count": null,
      "_view_module": "@jupyter-widgets/base",
      "_view_module_version": "1.2.0",
      "_view_name": "LayoutView",
      "align_content": null,
      "align_items": null,
      "align_self": null,
      "border": null,
      "bottom": null,
      "display": null,
      "flex": null,
      "flex_flow": null,
      "grid_area": null,
      "grid_auto_columns": null,
      "grid_auto_flow": null,
      "grid_auto_rows": null,
      "grid_column": null,
      "grid_gap": null,
      "grid_row": null,
      "grid_template_areas": null,
      "grid_template_columns": null,
      "grid_template_rows": null,
      "height": null,
      "justify_content": null,
      "justify_items": null,
      "left": null,
      "margin": null,
      "max_height": null,
      "max_width": null,
      "min_height": null,
      "min_width": null,
      "object_fit": null,
      "object_position": null,
      "order": null,
      "overflow": null,
      "overflow_x": null,
      "overflow_y": null,
      "padding": null,
      "right": null,
      "top": null,
      "visibility": null,
      "width": null
     }
    }
   }
  }
 },
 "nbformat": 4,
 "nbformat_minor": 0
}
