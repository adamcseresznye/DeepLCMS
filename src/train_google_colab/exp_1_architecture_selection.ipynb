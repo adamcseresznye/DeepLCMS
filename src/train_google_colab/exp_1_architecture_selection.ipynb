{
 "cells": [
  {
   "cell_type": "markdown",
   "metadata": {
    "id": "M7o1Je1x0XQU"
   },
   "source": [
    "# Mount drive and append path to PYTONPATH\n"
   ]
  },
  {
   "cell_type": "code",
   "execution_count": null,
   "metadata": {
    "colab": {
     "base_uri": "https://localhost:8080/"
    },
    "executionInfo": {
     "elapsed": 2174,
     "status": "ok",
     "timestamp": 1702150888489,
     "user": {
      "displayName": "Adam Cseresznye",
      "userId": "14068185396312405589"
     },
     "user_tz": -60
    },
    "id": "S9vhq3fcEHwj",
    "outputId": "7e3ca26e-84fd-48cb-f6b9-f916a1e10df6"
   },
   "outputs": [],
   "source": [
    "from google.colab import drive\n",
    "import os\n",
    "import sys\n",
    "\n",
    "drive.mount(\"/content/drive\")\n",
    "sys.path.append(\"/content/drive/MyDrive/DeepLCMS/train_google_colab\")"
   ]
  },
  {
   "cell_type": "markdown",
   "metadata": {
    "id": "B10ISUtcE4nE"
   },
   "source": [
    "# Import and install libraries"
   ]
  },
  {
   "cell_type": "code",
   "execution_count": null,
   "metadata": {
    "executionInfo": {
     "elapsed": 71121,
     "status": "ok",
     "timestamp": 1702146749901,
     "user": {
      "displayName": "Adam Cseresznye",
      "userId": "14068185396312405589"
     },
     "user_tz": -60
    },
    "id": "EaleshIpENkS"
   },
   "outputs": [],
   "source": [
    "%%capture\n",
    "!pip install lightning\n",
    "!pip install timm\n",
    "!pip install torchinfo\n",
    "!pip install scikit-posthocs\n",
    "!pip install optuna\n",
    "!pip install torchcam"
   ]
  },
  {
   "cell_type": "code",
   "execution_count": null,
   "metadata": {
    "executionInfo": {
     "elapsed": 14276,
     "status": "ok",
     "timestamp": 1702150902761,
     "user": {
      "displayName": "Adam Cseresznye",
      "userId": "14068185396312405589"
     },
     "user_tz": -60
    },
    "id": "eQbyJQmAXznU"
   },
   "outputs": [],
   "source": [
    "import colab_functions\n",
    "import colab_utils\n",
    "import pandas as pd\n",
    "import prepare_data\n",
    "import timm\n",
    "import train_NN\n",
    "from lightning.pytorch import loggers, callbacks, tuner, trainer\n",
    "from pathlib import Path"
   ]
  },
  {
   "cell_type": "code",
   "execution_count": null,
   "metadata": {
    "id": "gvVdxwYfiHwl"
   },
   "outputs": [],
   "source": [
    "# Set the CUDA_VISIBLE_DEVICES environment variable\n",
    "os.environ[\"CUDA_VISIBLE_DEVICES\"] = \"0\""
   ]
  },
  {
   "cell_type": "markdown",
   "metadata": {
    "id": "yjCM3Grt0NWP"
   },
   "source": [
    "# Unzip data"
   ]
  },
  {
   "cell_type": "code",
   "execution_count": null,
   "metadata": {
    "executionInfo": {
     "elapsed": 1138,
     "status": "ok",
     "timestamp": 1702146847939,
     "user": {
      "displayName": "Adam Cseresznye",
      "userId": "14068185396312405589"
     },
     "user_tz": -60
    },
    "id": "vYo52Rm30Q-k"
   },
   "outputs": [],
   "source": [
    "!unzip -q \"*.zip\""
   ]
  },
  {
   "cell_type": "markdown",
   "metadata": {
    "id": "EqmzdwGyVGvJ"
   },
   "source": [
    "# Check if GPU is used"
   ]
  },
  {
   "cell_type": "code",
   "execution_count": null,
   "metadata": {
    "colab": {
     "base_uri": "https://localhost:8080/"
    },
    "executionInfo": {
     "elapsed": 8,
     "status": "ok",
     "timestamp": 1702147047802,
     "user": {
      "displayName": "Adam Cseresznye",
      "userId": "14068185396312405589"
     },
     "user_tz": -60
    },
    "id": "Jh0cGdllMv8h",
    "outputId": "2943feb2-73de-4395-c339-f992cb7710ae"
   },
   "outputs": [],
   "source": [
    "device = colab_functions.get_device()"
   ]
  },
  {
   "cell_type": "markdown",
   "metadata": {
    "id": "oiz0GYrqCojF"
   },
   "source": [
    "# Taking a look at the list of Timm pretrained models"
   ]
  },
  {
   "cell_type": "code",
   "execution_count": null,
   "metadata": {
    "executionInfo": {
     "elapsed": 302,
     "status": "ok",
     "timestamp": 1702152136717,
     "user": {
      "displayName": "Adam Cseresznye",
      "userId": "14068185396312405589"
     },
     "user_tz": -60
    },
    "id": "_cNwQ-zGzDZn"
   },
   "outputs": [],
   "source": [
    "timm_model_db = pd.read_csv(\n",
    "    \"https://raw.githubusercontent.com/huggingface/pytorch-image-models/main/results/results-imagenet.csv\"\n",
    ").assign(param_count=lambda df: df.param_count.str.replace(\",\", \"\").astype(float))"
   ]
  },
  {
   "cell_type": "code",
   "execution_count": null,
   "metadata": {
    "executionInfo": {
     "elapsed": 296,
     "status": "ok",
     "timestamp": 1702153030212,
     "user": {
      "displayName": "Adam Cseresznye",
      "userId": "14068185396312405589"
     },
     "user_tz": -60
    },
    "id": "sFw7B8w-LfEA"
   },
   "outputs": [],
   "source": [
    "timm_model_list = [\n",
    "    \"Aggregating Nested Transformers\",\n",
    "    \"BiT\",\n",
    "    \"Bottleneck Transformers\",\n",
    "    \"CaiT\",\n",
    "    \"CoaT\",\n",
    "    \"CoAtNet\",\n",
    "    \"ConvNeXt\",\n",
    "    \"ConvNeXt-V2\",\n",
    "    \"ConViT\",\n",
    "    \"CspNet\",\n",
    "    \"DeiT\",\n",
    "    \"DeiT-III\",\n",
    "    \"DenseNet\",\n",
    "    \"DLA\",\n",
    "    \"DPN\",\n",
    "    \"EdgeNeXt\",\n",
    "    \"EfficientFormer\",\n",
    "    \"EfficientNet\",\n",
    "    \"FBNet\",\n",
    "    \"MixNet\",\n",
    "    \"MNASNet\",\n",
    "    \"MobileNet\",\n",
    "    \"Single-Path NAS\",\n",
    "    \"TinyNet\",\n",
    "    \"EfficientViT\",\n",
    "    \"EVA\",\n",
    "    \"FastViT\",\n",
    "    \"FlexiViT\",\n",
    "    \"FocalNet\",\n",
    "    \"GCViT\",\n",
    "    \"GhostNet\",\n",
    "    \"GhostNet-V2\",\n",
    "    \"gMLP\",\n",
    "    \"HRNet\",\n",
    "    \"InceptionNeXt\",\n",
    "    \"Inception-V3\",\n",
    "    \"Inception-ResNet-V2\",\n",
    "    \"Lambda\",\n",
    "    \"LeViT\",\n",
    "    \"MaxViT\",\n",
    "    \"MobileNet-V3\",\n",
    "    \"LCNet\",\n",
    "    \"MobileOne\",\n",
    "    \"MobileViT\",\n",
    "    \"MobileViT-V2\",\n",
    "    \"MViT-V2\",\n",
    "    \"NASNet-A\",\n",
    "    \"NesT\",\n",
    "    \"NFNet-F\",\n",
    "    \"NF-RegNet\",\n",
    "    \"PNasNet\",\n",
    "    \"RegNet\",\n",
    "    \"RegNetZ\",\n",
    "    \"RepVGG\",\n",
    "    \"RepGhostNet\",\n",
    "    \"RepViT\",\n",
    "    \"ResMLP\",\n",
    "    \"ResNeXt\",\n",
    "    \"SEResNet\",\n",
    "    \"ResNet-RS\",\n",
    "    \"Res2Net\",\n",
    "    \"ResNeSt\",\n",
    "    \"ReXNet\",\n",
    "    \"Swin\",\n",
    "    \"TResNet\",\n",
    "    \"Twins\",\n",
    "    \"Xception\",\n",
    "    \"XCiT\",\n",
    "]"
   ]
  },
  {
   "cell_type": "code",
   "execution_count": null,
   "metadata": {
    "executionInfo": {
     "elapsed": 410,
     "status": "ok",
     "timestamp": 1702153393652,
     "user": {
      "displayName": "Adam Cseresznye",
      "userId": "14068185396312405589"
     },
     "user_tz": -60
    },
    "id": "HCRWKSopLfGt"
   },
   "outputs": [],
   "source": [
    "cleaned_timm_model_list = pd.Series(timm_model_list).str.replace(\" \", \"\").str.lower()"
   ]
  },
  {
   "cell_type": "code",
   "execution_count": null,
   "metadata": {
    "colab": {
     "base_uri": "https://localhost:8080/",
     "height": 1000
    },
    "executionInfo": {
     "elapsed": 506,
     "status": "ok",
     "timestamp": 1702154077725,
     "user": {
      "displayName": "Adam Cseresznye",
      "userId": "14068185396312405589"
     },
     "user_tz": -60
    },
    "id": "-r0ZHNIK3-4y",
    "outputId": "d6615679-6602-400e-b353-ad54a210f197"
   },
   "outputs": [],
   "source": [
    "minimal_param_models_by_family = []\n",
    "\n",
    "for model_name in cleaned_timm_model_list:\n",
    "    query_result = (\n",
    "        timm_model_db.query(\"model.str.contains(@model_name)\")\n",
    "        .sort_values(by=\"param_count\")\n",
    "        .head(1)\n",
    "    )\n",
    "\n",
    "    if query_result.shape[0] != 0:\n",
    "        result_dict = {\n",
    "            \"model_family\": query_result.model.values[0],\n",
    "            \"minimal_param_model_count\": query_result.param_count.values[0],\n",
    "        }\n",
    "\n",
    "        minimal_param_models_by_family.append(result_dict)\n",
    "\n",
    "minimal_param_models_by_family_df = pd.DataFrame(minimal_param_models_by_family)\n",
    "\n",
    "minimal_param_models_by_family_df"
   ]
  },
  {
   "cell_type": "markdown",
   "metadata": {
    "id": "5OtPJbjSBY48"
   },
   "source": [
    "# Findings the best architecture family based on the models with least parameters\n"
   ]
  },
  {
   "cell_type": "code",
   "execution_count": null,
   "metadata": {
    "colab": {
     "base_uri": "https://localhost:8080/",
     "height": 605,
     "referenced_widgets": [
      "b5abb820d6264dcdbaea1e7add9983d0",
      "d620d41d978149aeb9cc522d2fe8bf5b",
      "6a8ea5fea18d40a1a17ad4ea6b20c539",
      "0d51c3022f3a43338532d4919d0b1b3d",
      "0c36afc4682c4d4f9dbb22b855d16f35",
      "c217827e3e144f87994ca0240d8ae30d",
      "c26efb5330f448fe99662c4b1d8a9592",
      "9e31541d6a1743bfb3213e154d70e391",
      "de43172eff04432a96e002577423ff21",
      "856d9267d7bf4995b630d14024c979f2",
      "3c82b0713ec14cb3aa452a693504ddc9"
     ]
    },
    "executionInfo": {
     "elapsed": 23230,
     "status": "ok",
     "timestamp": 1702151230407,
     "user": {
      "displayName": "Adam Cseresznye",
      "userId": "14068185396312405589"
     },
     "user_tz": -60
    },
    "id": "PELiE8AGL9C2",
    "outputId": "5099ef15-f06f-48ed-8330-9fd1b74e311e"
   },
   "outputs": [],
   "source": [
    "PRETRAINED_MODEL = \"convnextv2_nano.fcmae_ft_in22k_in1k_384\"\n",
    "\n",
    "model = train_NN.PretrainedModel(\n",
    "    pretrained_model_name=PRETRAINED_MODEL, learning_rate=0.001\n",
    ")\n",
    "datamodule = prepare_data.LCMSDataModule(\n",
    "    model,\n",
    "    data_dir=Path(\"/content/ST001618_Opium_study_LC_MS_500\"),\n",
    ")\n",
    "train_NN.show_architecture(model)"
   ]
  },
  {
   "cell_type": "code",
   "execution_count": null,
   "metadata": {
    "colab": {
     "base_uri": "https://localhost:8080/",
     "height": 790
    },
    "executionInfo": {
     "elapsed": 7759,
     "status": "ok",
     "timestamp": 1702149473688,
     "user": {
      "displayName": "Adam Cseresznye",
      "userId": "14068185396312405589"
     },
     "user_tz": -60
    },
    "id": "ceRwTJnvVGiF",
    "outputId": "8dcf713c-def7-4887-e9f8-dc5cdc23c02b"
   },
   "outputs": [],
   "source": [
    "prepare_data.inspect_dataloader(datamodule.train_dataloader())"
   ]
  },
  {
   "cell_type": "code",
   "execution_count": null,
   "metadata": {
    "colab": {
     "base_uri": "https://localhost:8080/",
     "height": 778,
     "referenced_widgets": [
      "6be08804666242ff9ecd3a55060357ef",
      "85a0522ffbaa402aa73873e47b81d781",
      "6e8a0b0a030241d085a6dbde6a3251ee",
      "c546868882b842439db2bb3107c32f59",
      "1f2f66f621294998bacf05fb4e0ab80c",
      "4268ff40b5794523b7840badbdc62395",
      "ea56c4c6d90f404cba9c4c1917b20c26",
      "49ed11d34c7d4626b38b3096d9c9920f",
      "dc7a478317ec4ddabc9612ec2fe031e7",
      "1306ba9387e740eaaaa2045a8db739d0",
      "cb1d3e85311b4b3d955220a0240a1f51",
      "8daf9b06f74449ac82786d7795c75828",
      "121b0324f36141738e053404c717fd45",
      "00c224c49b4f4b3da1847432024639a6",
      "03543318b39445b1864dc385fcc1ca96",
      "d9d8edbb3ac7476e888c621b6e1a305b",
      "391a86023ea847a1bae9e8981362ca8c",
      "67e2b9f372504ad0a6e2b7a0bddf23e8",
      "d6813a96323f4d549843d64e3a146e43",
      "f17faf1ee8d04d95933e2047d0bcb435",
      "65a0c68a051c464786b8cfe0919c80ba",
      "165e7e47584242cabd4ee6a5600658a2"
     ]
    },
    "id": "nRoCuVRNVGq3",
    "outputId": "4646152d-9a7f-4b00-b999-f39452daba1f"
   },
   "outputs": [],
   "source": [
    "logger = loggers.CSVLogger(\"logs\", name=str(PRETRAINED_MODEL))\n",
    "\n",
    "trainer_ = trainer.Trainer(\n",
    "    max_epochs=1,\n",
    "    log_every_n_steps=1,\n",
    "    logger=logger,\n",
    "    precision=\"16-mixed\",\n",
    "    callbacks=[callbacks.EarlyStopping(monitor=\"val_loss\", mode=\"min\", patience=10)],\n",
    ")\n",
    "# Create a Tuner\n",
    "# tuner_ = tuner.Tuner(trainer_)\n",
    "# lr_finder = tuner_.lr_find(model, early_stop_threshold=None)\n",
    "\n",
    "trainer_.fit(model=model, datamodule=datamodule)"
   ]
  },
  {
   "cell_type": "code",
   "execution_count": null,
   "metadata": {
    "id": "VCc1uFrRVGtm"
   },
   "outputs": [],
   "source": [
    "results_df = colab_functions.get_experiment_results()\n",
    "results_df.to_csv(\"pretrained_model_results.csv\", index=False)\n",
    "colab_functions.plot_experiment_results(results_df)"
   ]
  },
  {
   "cell_type": "code",
   "execution_count": null,
   "metadata": {
    "id": "uatc6Ot9fYsR"
   },
   "outputs": [],
   "source": [
    "# Filter rows with variable containing 'val'\n",
    "filtered_df = df[df[\"variable\"].str.contains(\"val\")]\n",
    "\n",
    "\n",
    "# Apply aggregation with groupby and calculate max and min values per metric\n",
    "result_df_max = (\n",
    "    filtered_df.groupby([\"variable\", \"experiment\"])\n",
    "    .value.max()\n",
    "    .to_frame()\n",
    "    .reset_index(drop=False)\n",
    "    .query('variable != \"val_loss\"')\n",
    "    .pivot(index=\"experiment\", columns=\"variable\", values=\"value\")\n",
    "    .round(3)\n",
    ")\n",
    "\n",
    "result_df_min = (\n",
    "    filtered_df.groupby([\"variable\", \"experiment\"])\n",
    "    .value.min()\n",
    "    .to_frame()\n",
    "    .reset_index(drop=False)\n",
    "    .query('variable == \"val_loss\"')\n",
    "    .pivot(index=\"experiment\", columns=\"variable\", values=\"value\")\n",
    "    .round(3)\n",
    ")\n",
    "\n",
    "# concatanate the two dfs\n",
    "pd.concat([result_df_max, result_df_min], axis=\"columns\").sort_values(by=\"val_loss\")"
   ]
  }
 ],
 "metadata": {
  "colab": {
   "provenance": [
    {
     "file_id": "1FxpkTpMoivSD7nQRkqJsjJ_UhxNTpzed",
     "timestamp": 1700942428337
    }
   ]
  },
  "kernelspec": {
   "display_name": "Python 3",
   "name": "python3"
  },
  "language_info": {
   "codemirror_mode": {
    "name": "ipython",
    "version": 3
   },
   "file_extension": ".py",
   "mimetype": "text/x-python",
   "name": "python",
   "nbconvert_exporter": "python",
   "pygments_lexer": "ipython3",
   "version": "3.9.18"
  },
  "widgets": {
   "application/vnd.jupyter.widget-state+json": {
    "00c224c49b4f4b3da1847432024639a6": {
     "model_module": "@jupyter-widgets/controls",
     "model_module_version": "1.5.0",
     "model_name": "FloatProgressModel",
     "state": {
      "_dom_classes": [],
      "_model_module": "@jupyter-widgets/controls",
      "_model_module_version": "1.5.0",
      "_model_name": "FloatProgressModel",
      "_view_count": null,
      "_view_module": "@jupyter-widgets/controls",
      "_view_module_version": "1.5.0",
      "_view_name": "ProgressView",
      "bar_style": "",
      "description": "",
      "description_tooltip": null,
      "layout": "IPY_MODEL_d6813a96323f4d549843d64e3a146e43",
      "max": 7,
      "min": 0,
      "orientation": "horizontal",
      "style": "IPY_MODEL_f17faf1ee8d04d95933e2047d0bcb435",
      "value": 1
     }
    },
    "03543318b39445b1864dc385fcc1ca96": {
     "model_module": "@jupyter-widgets/controls",
     "model_module_version": "1.5.0",
     "model_name": "HTMLModel",
     "state": {
      "_dom_classes": [],
      "_model_module": "@jupyter-widgets/controls",
      "_model_module_version": "1.5.0",
      "_model_name": "HTMLModel",
      "_view_count": null,
      "_view_module": "@jupyter-widgets/controls",
      "_view_module_version": "1.5.0",
      "_view_name": "HTMLView",
      "description": "",
      "description_tooltip": null,
      "layout": "IPY_MODEL_65a0c68a051c464786b8cfe0919c80ba",
      "placeholder": "​",
      "style": "IPY_MODEL_165e7e47584242cabd4ee6a5600658a2",
      "value": " 1/7 [02:31&lt;15:09,  0.01it/s, v_num=2]"
     }
    },
    "0c36afc4682c4d4f9dbb22b855d16f35": {
     "model_module": "@jupyter-widgets/base",
     "model_module_version": "1.2.0",
     "model_name": "LayoutModel",
     "state": {
      "_model_module": "@jupyter-widgets/base",
      "_model_module_version": "1.2.0",
      "_model_name": "LayoutModel",
      "_view_count": null,
      "_view_module": "@jupyter-widgets/base",
      "_view_module_version": "1.2.0",
      "_view_name": "LayoutView",
      "align_content": null,
      "align_items": null,
      "align_self": null,
      "border": null,
      "bottom": null,
      "display": null,
      "flex": null,
      "flex_flow": null,
      "grid_area": null,
      "grid_auto_columns": null,
      "grid_auto_flow": null,
      "grid_auto_rows": null,
      "grid_column": null,
      "grid_gap": null,
      "grid_row": null,
      "grid_template_areas": null,
      "grid_template_columns": null,
      "grid_template_rows": null,
      "height": null,
      "justify_content": null,
      "justify_items": null,
      "left": null,
      "margin": null,
      "max_height": null,
      "max_width": null,
      "min_height": null,
      "min_width": null,
      "object_fit": null,
      "object_position": null,
      "order": null,
      "overflow": null,
      "overflow_x": null,
      "overflow_y": null,
      "padding": null,
      "right": null,
      "top": null,
      "visibility": null,
      "width": null
     }
    },
    "0d51c3022f3a43338532d4919d0b1b3d": {
     "model_module": "@jupyter-widgets/controls",
     "model_module_version": "1.5.0",
     "model_name": "HTMLModel",
     "state": {
      "_dom_classes": [],
      "_model_module": "@jupyter-widgets/controls",
      "_model_module_version": "1.5.0",
      "_model_name": "HTMLModel",
      "_view_count": null,
      "_view_module": "@jupyter-widgets/controls",
      "_view_module_version": "1.5.0",
      "_view_name": "HTMLView",
      "description": "",
      "description_tooltip": null,
      "layout": "IPY_MODEL_856d9267d7bf4995b630d14024c979f2",
      "placeholder": "​",
      "style": "IPY_MODEL_3c82b0713ec14cb3aa452a693504ddc9",
      "value": " 62.5M/62.5M [00:01&lt;00:00, 51.1MB/s]"
     }
    },
    "121b0324f36141738e053404c717fd45": {
     "model_module": "@jupyter-widgets/controls",
     "model_module_version": "1.5.0",
     "model_name": "HTMLModel",
     "state": {
      "_dom_classes": [],
      "_model_module": "@jupyter-widgets/controls",
      "_model_module_version": "1.5.0",
      "_model_name": "HTMLModel",
      "_view_count": null,
      "_view_module": "@jupyter-widgets/controls",
      "_view_module_version": "1.5.0",
      "_view_name": "HTMLView",
      "description": "",
      "description_tooltip": null,
      "layout": "IPY_MODEL_391a86023ea847a1bae9e8981362ca8c",
      "placeholder": "​",
      "style": "IPY_MODEL_67e2b9f372504ad0a6e2b7a0bddf23e8",
      "value": "Epoch 0:  14%"
     }
    },
    "1306ba9387e740eaaaa2045a8db739d0": {
     "model_module": "@jupyter-widgets/base",
     "model_module_version": "1.2.0",
     "model_name": "LayoutModel",
     "state": {
      "_model_module": "@jupyter-widgets/base",
      "_model_module_version": "1.2.0",
      "_model_name": "LayoutModel",
      "_view_count": null,
      "_view_module": "@jupyter-widgets/base",
      "_view_module_version": "1.2.0",
      "_view_name": "LayoutView",
      "align_content": null,
      "align_items": null,
      "align_self": null,
      "border": null,
      "bottom": null,
      "display": null,
      "flex": null,
      "flex_flow": null,
      "grid_area": null,
      "grid_auto_columns": null,
      "grid_auto_flow": null,
      "grid_auto_rows": null,
      "grid_column": null,
      "grid_gap": null,
      "grid_row": null,
      "grid_template_areas": null,
      "grid_template_columns": null,
      "grid_template_rows": null,
      "height": null,
      "justify_content": null,
      "justify_items": null,
      "left": null,
      "margin": null,
      "max_height": null,
      "max_width": null,
      "min_height": null,
      "min_width": null,
      "object_fit": null,
      "object_position": null,
      "order": null,
      "overflow": null,
      "overflow_x": null,
      "overflow_y": null,
      "padding": null,
      "right": null,
      "top": null,
      "visibility": null,
      "width": null
     }
    },
    "165e7e47584242cabd4ee6a5600658a2": {
     "model_module": "@jupyter-widgets/controls",
     "model_module_version": "1.5.0",
     "model_name": "DescriptionStyleModel",
     "state": {
      "_model_module": "@jupyter-widgets/controls",
      "_model_module_version": "1.5.0",
      "_model_name": "DescriptionStyleModel",
      "_view_count": null,
      "_view_module": "@jupyter-widgets/base",
      "_view_module_version": "1.2.0",
      "_view_name": "StyleView",
      "description_width": ""
     }
    },
    "1f2f66f621294998bacf05fb4e0ab80c": {
     "model_module": "@jupyter-widgets/base",
     "model_module_version": "1.2.0",
     "model_name": "LayoutModel",
     "state": {
      "_model_module": "@jupyter-widgets/base",
      "_model_module_version": "1.2.0",
      "_model_name": "LayoutModel",
      "_view_count": null,
      "_view_module": "@jupyter-widgets/base",
      "_view_module_version": "1.2.0",
      "_view_name": "LayoutView",
      "align_content": null,
      "align_items": null,
      "align_self": null,
      "border": null,
      "bottom": null,
      "display": "inline-flex",
      "flex": null,
      "flex_flow": "row wrap",
      "grid_area": null,
      "grid_auto_columns": null,
      "grid_auto_flow": null,
      "grid_auto_rows": null,
      "grid_column": null,
      "grid_gap": null,
      "grid_row": null,
      "grid_template_areas": null,
      "grid_template_columns": null,
      "grid_template_rows": null,
      "height": null,
      "justify_content": null,
      "justify_items": null,
      "left": null,
      "margin": null,
      "max_height": null,
      "max_width": null,
      "min_height": null,
      "min_width": null,
      "object_fit": null,
      "object_position": null,
      "order": null,
      "overflow": null,
      "overflow_x": null,
      "overflow_y": null,
      "padding": null,
      "right": null,
      "top": null,
      "visibility": "hidden",
      "width": "100%"
     }
    },
    "391a86023ea847a1bae9e8981362ca8c": {
     "model_module": "@jupyter-widgets/base",
     "model_module_version": "1.2.0",
     "model_name": "LayoutModel",
     "state": {
      "_model_module": "@jupyter-widgets/base",
      "_model_module_version": "1.2.0",
      "_model_name": "LayoutModel",
      "_view_count": null,
      "_view_module": "@jupyter-widgets/base",
      "_view_module_version": "1.2.0",
      "_view_name": "LayoutView",
      "align_content": null,
      "align_items": null,
      "align_self": null,
      "border": null,
      "bottom": null,
      "display": null,
      "flex": null,
      "flex_flow": null,
      "grid_area": null,
      "grid_auto_columns": null,
      "grid_auto_flow": null,
      "grid_auto_rows": null,
      "grid_column": null,
      "grid_gap": null,
      "grid_row": null,
      "grid_template_areas": null,
      "grid_template_columns": null,
      "grid_template_rows": null,
      "height": null,
      "justify_content": null,
      "justify_items": null,
      "left": null,
      "margin": null,
      "max_height": null,
      "max_width": null,
      "min_height": null,
      "min_width": null,
      "object_fit": null,
      "object_position": null,
      "order": null,
      "overflow": null,
      "overflow_x": null,
      "overflow_y": null,
      "padding": null,
      "right": null,
      "top": null,
      "visibility": null,
      "width": null
     }
    },
    "3c82b0713ec14cb3aa452a693504ddc9": {
     "model_module": "@jupyter-widgets/controls",
     "model_module_version": "1.5.0",
     "model_name": "DescriptionStyleModel",
     "state": {
      "_model_module": "@jupyter-widgets/controls",
      "_model_module_version": "1.5.0",
      "_model_name": "DescriptionStyleModel",
      "_view_count": null,
      "_view_module": "@jupyter-widgets/base",
      "_view_module_version": "1.2.0",
      "_view_name": "StyleView",
      "description_width": ""
     }
    },
    "4268ff40b5794523b7840badbdc62395": {
     "model_module": "@jupyter-widgets/base",
     "model_module_version": "1.2.0",
     "model_name": "LayoutModel",
     "state": {
      "_model_module": "@jupyter-widgets/base",
      "_model_module_version": "1.2.0",
      "_model_name": "LayoutModel",
      "_view_count": null,
      "_view_module": "@jupyter-widgets/base",
      "_view_module_version": "1.2.0",
      "_view_name": "LayoutView",
      "align_content": null,
      "align_items": null,
      "align_self": null,
      "border": null,
      "bottom": null,
      "display": null,
      "flex": null,
      "flex_flow": null,
      "grid_area": null,
      "grid_auto_columns": null,
      "grid_auto_flow": null,
      "grid_auto_rows": null,
      "grid_column": null,
      "grid_gap": null,
      "grid_row": null,
      "grid_template_areas": null,
      "grid_template_columns": null,
      "grid_template_rows": null,
      "height": null,
      "justify_content": null,
      "justify_items": null,
      "left": null,
      "margin": null,
      "max_height": null,
      "max_width": null,
      "min_height": null,
      "min_width": null,
      "object_fit": null,
      "object_position": null,
      "order": null,
      "overflow": null,
      "overflow_x": null,
      "overflow_y": null,
      "padding": null,
      "right": null,
      "top": null,
      "visibility": null,
      "width": null
     }
    },
    "49ed11d34c7d4626b38b3096d9c9920f": {
     "model_module": "@jupyter-widgets/base",
     "model_module_version": "1.2.0",
     "model_name": "LayoutModel",
     "state": {
      "_model_module": "@jupyter-widgets/base",
      "_model_module_version": "1.2.0",
      "_model_name": "LayoutModel",
      "_view_count": null,
      "_view_module": "@jupyter-widgets/base",
      "_view_module_version": "1.2.0",
      "_view_name": "LayoutView",
      "align_content": null,
      "align_items": null,
      "align_self": null,
      "border": null,
      "bottom": null,
      "display": null,
      "flex": "2",
      "flex_flow": null,
      "grid_area": null,
      "grid_auto_columns": null,
      "grid_auto_flow": null,
      "grid_auto_rows": null,
      "grid_column": null,
      "grid_gap": null,
      "grid_row": null,
      "grid_template_areas": null,
      "grid_template_columns": null,
      "grid_template_rows": null,
      "height": null,
      "justify_content": null,
      "justify_items": null,
      "left": null,
      "margin": null,
      "max_height": null,
      "max_width": null,
      "min_height": null,
      "min_width": null,
      "object_fit": null,
      "object_position": null,
      "order": null,
      "overflow": null,
      "overflow_x": null,
      "overflow_y": null,
      "padding": null,
      "right": null,
      "top": null,
      "visibility": null,
      "width": null
     }
    },
    "65a0c68a051c464786b8cfe0919c80ba": {
     "model_module": "@jupyter-widgets/base",
     "model_module_version": "1.2.0",
     "model_name": "LayoutModel",
     "state": {
      "_model_module": "@jupyter-widgets/base",
      "_model_module_version": "1.2.0",
      "_model_name": "LayoutModel",
      "_view_count": null,
      "_view_module": "@jupyter-widgets/base",
      "_view_module_version": "1.2.0",
      "_view_name": "LayoutView",
      "align_content": null,
      "align_items": null,
      "align_self": null,
      "border": null,
      "bottom": null,
      "display": null,
      "flex": null,
      "flex_flow": null,
      "grid_area": null,
      "grid_auto_columns": null,
      "grid_auto_flow": null,
      "grid_auto_rows": null,
      "grid_column": null,
      "grid_gap": null,
      "grid_row": null,
      "grid_template_areas": null,
      "grid_template_columns": null,
      "grid_template_rows": null,
      "height": null,
      "justify_content": null,
      "justify_items": null,
      "left": null,
      "margin": null,
      "max_height": null,
      "max_width": null,
      "min_height": null,
      "min_width": null,
      "object_fit": null,
      "object_position": null,
      "order": null,
      "overflow": null,
      "overflow_x": null,
      "overflow_y": null,
      "padding": null,
      "right": null,
      "top": null,
      "visibility": null,
      "width": null
     }
    },
    "67e2b9f372504ad0a6e2b7a0bddf23e8": {
     "model_module": "@jupyter-widgets/controls",
     "model_module_version": "1.5.0",
     "model_name": "DescriptionStyleModel",
     "state": {
      "_model_module": "@jupyter-widgets/controls",
      "_model_module_version": "1.5.0",
      "_model_name": "DescriptionStyleModel",
      "_view_count": null,
      "_view_module": "@jupyter-widgets/base",
      "_view_module_version": "1.2.0",
      "_view_name": "StyleView",
      "description_width": ""
     }
    },
    "6a8ea5fea18d40a1a17ad4ea6b20c539": {
     "model_module": "@jupyter-widgets/controls",
     "model_module_version": "1.5.0",
     "model_name": "FloatProgressModel",
     "state": {
      "_dom_classes": [],
      "_model_module": "@jupyter-widgets/controls",
      "_model_module_version": "1.5.0",
      "_model_name": "FloatProgressModel",
      "_view_count": null,
      "_view_module": "@jupyter-widgets/controls",
      "_view_module_version": "1.5.0",
      "_view_name": "ProgressView",
      "bar_style": "success",
      "description": "",
      "description_tooltip": null,
      "layout": "IPY_MODEL_9e31541d6a1743bfb3213e154d70e391",
      "max": 62511014,
      "min": 0,
      "orientation": "horizontal",
      "style": "IPY_MODEL_de43172eff04432a96e002577423ff21",
      "value": 62511014
     }
    },
    "6be08804666242ff9ecd3a55060357ef": {
     "model_module": "@jupyter-widgets/controls",
     "model_module_version": "1.5.0",
     "model_name": "HBoxModel",
     "state": {
      "_dom_classes": [],
      "_model_module": "@jupyter-widgets/controls",
      "_model_module_version": "1.5.0",
      "_model_name": "HBoxModel",
      "_view_count": null,
      "_view_module": "@jupyter-widgets/controls",
      "_view_module_version": "1.5.0",
      "_view_name": "HBoxView",
      "box_style": "",
      "children": [
       "IPY_MODEL_85a0522ffbaa402aa73873e47b81d781",
       "IPY_MODEL_6e8a0b0a030241d085a6dbde6a3251ee",
       "IPY_MODEL_c546868882b842439db2bb3107c32f59"
      ],
      "layout": "IPY_MODEL_1f2f66f621294998bacf05fb4e0ab80c"
     }
    },
    "6e8a0b0a030241d085a6dbde6a3251ee": {
     "model_module": "@jupyter-widgets/controls",
     "model_module_version": "1.5.0",
     "model_name": "FloatProgressModel",
     "state": {
      "_dom_classes": [],
      "_model_module": "@jupyter-widgets/controls",
      "_model_module_version": "1.5.0",
      "_model_name": "FloatProgressModel",
      "_view_count": null,
      "_view_module": "@jupyter-widgets/controls",
      "_view_module_version": "1.5.0",
      "_view_name": "ProgressView",
      "bar_style": "",
      "description": "",
      "description_tooltip": null,
      "layout": "IPY_MODEL_49ed11d34c7d4626b38b3096d9c9920f",
      "max": 2,
      "min": 0,
      "orientation": "horizontal",
      "style": "IPY_MODEL_dc7a478317ec4ddabc9612ec2fe031e7",
      "value": 2
     }
    },
    "856d9267d7bf4995b630d14024c979f2": {
     "model_module": "@jupyter-widgets/base",
     "model_module_version": "1.2.0",
     "model_name": "LayoutModel",
     "state": {
      "_model_module": "@jupyter-widgets/base",
      "_model_module_version": "1.2.0",
      "_model_name": "LayoutModel",
      "_view_count": null,
      "_view_module": "@jupyter-widgets/base",
      "_view_module_version": "1.2.0",
      "_view_name": "LayoutView",
      "align_content": null,
      "align_items": null,
      "align_self": null,
      "border": null,
      "bottom": null,
      "display": null,
      "flex": null,
      "flex_flow": null,
      "grid_area": null,
      "grid_auto_columns": null,
      "grid_auto_flow": null,
      "grid_auto_rows": null,
      "grid_column": null,
      "grid_gap": null,
      "grid_row": null,
      "grid_template_areas": null,
      "grid_template_columns": null,
      "grid_template_rows": null,
      "height": null,
      "justify_content": null,
      "justify_items": null,
      "left": null,
      "margin": null,
      "max_height": null,
      "max_width": null,
      "min_height": null,
      "min_width": null,
      "object_fit": null,
      "object_position": null,
      "order": null,
      "overflow": null,
      "overflow_x": null,
      "overflow_y": null,
      "padding": null,
      "right": null,
      "top": null,
      "visibility": null,
      "width": null
     }
    },
    "85a0522ffbaa402aa73873e47b81d781": {
     "model_module": "@jupyter-widgets/controls",
     "model_module_version": "1.5.0",
     "model_name": "HTMLModel",
     "state": {
      "_dom_classes": [],
      "_model_module": "@jupyter-widgets/controls",
      "_model_module_version": "1.5.0",
      "_model_name": "HTMLModel",
      "_view_count": null,
      "_view_module": "@jupyter-widgets/controls",
      "_view_module_version": "1.5.0",
      "_view_name": "HTMLView",
      "description": "",
      "description_tooltip": null,
      "layout": "IPY_MODEL_4268ff40b5794523b7840badbdc62395",
      "placeholder": "​",
      "style": "IPY_MODEL_ea56c4c6d90f404cba9c4c1917b20c26",
      "value": "Sanity Checking DataLoader 0: 100%"
     }
    },
    "8daf9b06f74449ac82786d7795c75828": {
     "model_module": "@jupyter-widgets/controls",
     "model_module_version": "1.5.0",
     "model_name": "HBoxModel",
     "state": {
      "_dom_classes": [],
      "_model_module": "@jupyter-widgets/controls",
      "_model_module_version": "1.5.0",
      "_model_name": "HBoxModel",
      "_view_count": null,
      "_view_module": "@jupyter-widgets/controls",
      "_view_module_version": "1.5.0",
      "_view_name": "HBoxView",
      "box_style": "",
      "children": [
       "IPY_MODEL_121b0324f36141738e053404c717fd45",
       "IPY_MODEL_00c224c49b4f4b3da1847432024639a6",
       "IPY_MODEL_03543318b39445b1864dc385fcc1ca96"
      ],
      "layout": "IPY_MODEL_d9d8edbb3ac7476e888c621b6e1a305b"
     }
    },
    "9e31541d6a1743bfb3213e154d70e391": {
     "model_module": "@jupyter-widgets/base",
     "model_module_version": "1.2.0",
     "model_name": "LayoutModel",
     "state": {
      "_model_module": "@jupyter-widgets/base",
      "_model_module_version": "1.2.0",
      "_model_name": "LayoutModel",
      "_view_count": null,
      "_view_module": "@jupyter-widgets/base",
      "_view_module_version": "1.2.0",
      "_view_name": "LayoutView",
      "align_content": null,
      "align_items": null,
      "align_self": null,
      "border": null,
      "bottom": null,
      "display": null,
      "flex": null,
      "flex_flow": null,
      "grid_area": null,
      "grid_auto_columns": null,
      "grid_auto_flow": null,
      "grid_auto_rows": null,
      "grid_column": null,
      "grid_gap": null,
      "grid_row": null,
      "grid_template_areas": null,
      "grid_template_columns": null,
      "grid_template_rows": null,
      "height": null,
      "justify_content": null,
      "justify_items": null,
      "left": null,
      "margin": null,
      "max_height": null,
      "max_width": null,
      "min_height": null,
      "min_width": null,
      "object_fit": null,
      "object_position": null,
      "order": null,
      "overflow": null,
      "overflow_x": null,
      "overflow_y": null,
      "padding": null,
      "right": null,
      "top": null,
      "visibility": null,
      "width": null
     }
    },
    "b5abb820d6264dcdbaea1e7add9983d0": {
     "model_module": "@jupyter-widgets/controls",
     "model_module_version": "1.5.0",
     "model_name": "HBoxModel",
     "state": {
      "_dom_classes": [],
      "_model_module": "@jupyter-widgets/controls",
      "_model_module_version": "1.5.0",
      "_model_name": "HBoxModel",
      "_view_count": null,
      "_view_module": "@jupyter-widgets/controls",
      "_view_module_version": "1.5.0",
      "_view_name": "HBoxView",
      "box_style": "",
      "children": [
       "IPY_MODEL_d620d41d978149aeb9cc522d2fe8bf5b",
       "IPY_MODEL_6a8ea5fea18d40a1a17ad4ea6b20c539",
       "IPY_MODEL_0d51c3022f3a43338532d4919d0b1b3d"
      ],
      "layout": "IPY_MODEL_0c36afc4682c4d4f9dbb22b855d16f35"
     }
    },
    "c217827e3e144f87994ca0240d8ae30d": {
     "model_module": "@jupyter-widgets/base",
     "model_module_version": "1.2.0",
     "model_name": "LayoutModel",
     "state": {
      "_model_module": "@jupyter-widgets/base",
      "_model_module_version": "1.2.0",
      "_model_name": "LayoutModel",
      "_view_count": null,
      "_view_module": "@jupyter-widgets/base",
      "_view_module_version": "1.2.0",
      "_view_name": "LayoutView",
      "align_content": null,
      "align_items": null,
      "align_self": null,
      "border": null,
      "bottom": null,
      "display": null,
      "flex": null,
      "flex_flow": null,
      "grid_area": null,
      "grid_auto_columns": null,
      "grid_auto_flow": null,
      "grid_auto_rows": null,
      "grid_column": null,
      "grid_gap": null,
      "grid_row": null,
      "grid_template_areas": null,
      "grid_template_columns": null,
      "grid_template_rows": null,
      "height": null,
      "justify_content": null,
      "justify_items": null,
      "left": null,
      "margin": null,
      "max_height": null,
      "max_width": null,
      "min_height": null,
      "min_width": null,
      "object_fit": null,
      "object_position": null,
      "order": null,
      "overflow": null,
      "overflow_x": null,
      "overflow_y": null,
      "padding": null,
      "right": null,
      "top": null,
      "visibility": null,
      "width": null
     }
    },
    "c26efb5330f448fe99662c4b1d8a9592": {
     "model_module": "@jupyter-widgets/controls",
     "model_module_version": "1.5.0",
     "model_name": "DescriptionStyleModel",
     "state": {
      "_model_module": "@jupyter-widgets/controls",
      "_model_module_version": "1.5.0",
      "_model_name": "DescriptionStyleModel",
      "_view_count": null,
      "_view_module": "@jupyter-widgets/base",
      "_view_module_version": "1.2.0",
      "_view_name": "StyleView",
      "description_width": ""
     }
    },
    "c546868882b842439db2bb3107c32f59": {
     "model_module": "@jupyter-widgets/controls",
     "model_module_version": "1.5.0",
     "model_name": "HTMLModel",
     "state": {
      "_dom_classes": [],
      "_model_module": "@jupyter-widgets/controls",
      "_model_module_version": "1.5.0",
      "_model_name": "HTMLModel",
      "_view_count": null,
      "_view_module": "@jupyter-widgets/controls",
      "_view_module_version": "1.5.0",
      "_view_name": "HTMLView",
      "description": "",
      "description_tooltip": null,
      "layout": "IPY_MODEL_1306ba9387e740eaaaa2045a8db739d0",
      "placeholder": "​",
      "style": "IPY_MODEL_cb1d3e85311b4b3d955220a0240a1f51",
      "value": " 2/2 [01:13&lt;00:00,  0.03it/s]"
     }
    },
    "cb1d3e85311b4b3d955220a0240a1f51": {
     "model_module": "@jupyter-widgets/controls",
     "model_module_version": "1.5.0",
     "model_name": "DescriptionStyleModel",
     "state": {
      "_model_module": "@jupyter-widgets/controls",
      "_model_module_version": "1.5.0",
      "_model_name": "DescriptionStyleModel",
      "_view_count": null,
      "_view_module": "@jupyter-widgets/base",
      "_view_module_version": "1.2.0",
      "_view_name": "StyleView",
      "description_width": ""
     }
    },
    "d620d41d978149aeb9cc522d2fe8bf5b": {
     "model_module": "@jupyter-widgets/controls",
     "model_module_version": "1.5.0",
     "model_name": "HTMLModel",
     "state": {
      "_dom_classes": [],
      "_model_module": "@jupyter-widgets/controls",
      "_model_module_version": "1.5.0",
      "_model_name": "HTMLModel",
      "_view_count": null,
      "_view_module": "@jupyter-widgets/controls",
      "_view_module_version": "1.5.0",
      "_view_name": "HTMLView",
      "description": "",
      "description_tooltip": null,
      "layout": "IPY_MODEL_c217827e3e144f87994ca0240d8ae30d",
      "placeholder": "​",
      "style": "IPY_MODEL_c26efb5330f448fe99662c4b1d8a9592",
      "value": "model.safetensors: 100%"
     }
    },
    "d6813a96323f4d549843d64e3a146e43": {
     "model_module": "@jupyter-widgets/base",
     "model_module_version": "1.2.0",
     "model_name": "LayoutModel",
     "state": {
      "_model_module": "@jupyter-widgets/base",
      "_model_module_version": "1.2.0",
      "_model_name": "LayoutModel",
      "_view_count": null,
      "_view_module": "@jupyter-widgets/base",
      "_view_module_version": "1.2.0",
      "_view_name": "LayoutView",
      "align_content": null,
      "align_items": null,
      "align_self": null,
      "border": null,
      "bottom": null,
      "display": null,
      "flex": "2",
      "flex_flow": null,
      "grid_area": null,
      "grid_auto_columns": null,
      "grid_auto_flow": null,
      "grid_auto_rows": null,
      "grid_column": null,
      "grid_gap": null,
      "grid_row": null,
      "grid_template_areas": null,
      "grid_template_columns": null,
      "grid_template_rows": null,
      "height": null,
      "justify_content": null,
      "justify_items": null,
      "left": null,
      "margin": null,
      "max_height": null,
      "max_width": null,
      "min_height": null,
      "min_width": null,
      "object_fit": null,
      "object_position": null,
      "order": null,
      "overflow": null,
      "overflow_x": null,
      "overflow_y": null,
      "padding": null,
      "right": null,
      "top": null,
      "visibility": null,
      "width": null
     }
    },
    "d9d8edbb3ac7476e888c621b6e1a305b": {
     "model_module": "@jupyter-widgets/base",
     "model_module_version": "1.2.0",
     "model_name": "LayoutModel",
     "state": {
      "_model_module": "@jupyter-widgets/base",
      "_model_module_version": "1.2.0",
      "_model_name": "LayoutModel",
      "_view_count": null,
      "_view_module": "@jupyter-widgets/base",
      "_view_module_version": "1.2.0",
      "_view_name": "LayoutView",
      "align_content": null,
      "align_items": null,
      "align_self": null,
      "border": null,
      "bottom": null,
      "display": "inline-flex",
      "flex": null,
      "flex_flow": "row wrap",
      "grid_area": null,
      "grid_auto_columns": null,
      "grid_auto_flow": null,
      "grid_auto_rows": null,
      "grid_column": null,
      "grid_gap": null,
      "grid_row": null,
      "grid_template_areas": null,
      "grid_template_columns": null,
      "grid_template_rows": null,
      "height": null,
      "justify_content": null,
      "justify_items": null,
      "left": null,
      "margin": null,
      "max_height": null,
      "max_width": null,
      "min_height": null,
      "min_width": null,
      "object_fit": null,
      "object_position": null,
      "order": null,
      "overflow": null,
      "overflow_x": null,
      "overflow_y": null,
      "padding": null,
      "right": null,
      "top": null,
      "visibility": null,
      "width": "100%"
     }
    },
    "dc7a478317ec4ddabc9612ec2fe031e7": {
     "model_module": "@jupyter-widgets/controls",
     "model_module_version": "1.5.0",
     "model_name": "ProgressStyleModel",
     "state": {
      "_model_module": "@jupyter-widgets/controls",
      "_model_module_version": "1.5.0",
      "_model_name": "ProgressStyleModel",
      "_view_count": null,
      "_view_module": "@jupyter-widgets/base",
      "_view_module_version": "1.2.0",
      "_view_name": "StyleView",
      "bar_color": null,
      "description_width": ""
     }
    },
    "de43172eff04432a96e002577423ff21": {
     "model_module": "@jupyter-widgets/controls",
     "model_module_version": "1.5.0",
     "model_name": "ProgressStyleModel",
     "state": {
      "_model_module": "@jupyter-widgets/controls",
      "_model_module_version": "1.5.0",
      "_model_name": "ProgressStyleModel",
      "_view_count": null,
      "_view_module": "@jupyter-widgets/base",
      "_view_module_version": "1.2.0",
      "_view_name": "StyleView",
      "bar_color": null,
      "description_width": ""
     }
    },
    "ea56c4c6d90f404cba9c4c1917b20c26": {
     "model_module": "@jupyter-widgets/controls",
     "model_module_version": "1.5.0",
     "model_name": "DescriptionStyleModel",
     "state": {
      "_model_module": "@jupyter-widgets/controls",
      "_model_module_version": "1.5.0",
      "_model_name": "DescriptionStyleModel",
      "_view_count": null,
      "_view_module": "@jupyter-widgets/base",
      "_view_module_version": "1.2.0",
      "_view_name": "StyleView",
      "description_width": ""
     }
    },
    "f17faf1ee8d04d95933e2047d0bcb435": {
     "model_module": "@jupyter-widgets/controls",
     "model_module_version": "1.5.0",
     "model_name": "ProgressStyleModel",
     "state": {
      "_model_module": "@jupyter-widgets/controls",
      "_model_module_version": "1.5.0",
      "_model_name": "ProgressStyleModel",
      "_view_count": null,
      "_view_module": "@jupyter-widgets/base",
      "_view_module_version": "1.2.0",
      "_view_name": "StyleView",
      "bar_color": null,
      "description_width": ""
     }
    }
   }
  }
 },
 "nbformat": 4,
 "nbformat_minor": 0
}
