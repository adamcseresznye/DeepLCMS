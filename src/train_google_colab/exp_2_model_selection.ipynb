{
 "cells": [
  {
   "cell_type": "markdown",
   "metadata": {
    "id": "M7o1Je1x0XQU"
   },
   "source": [
    "# Mount drive and append path to PYTONPATH\n"
   ]
  },
  {
   "cell_type": "code",
   "execution_count": null,
   "metadata": {
    "colab": {
     "base_uri": "https://localhost:8080/"
    },
    "executionInfo": {
     "elapsed": 19644,
     "status": "ok",
     "timestamp": 1701545338575,
     "user": {
      "displayName": "Adam Cseresznye",
      "userId": "14068185396312405589"
     },
     "user_tz": -60
    },
    "id": "S9vhq3fcEHwj",
    "outputId": "eff8fdfc-3d40-45b6-bb04-e3b503ac3456"
   },
   "outputs": [],
   "source": [
    "import os\n",
    "import sys\n",
    "\n",
    "from google.colab import drive\n",
    "\n",
    "drive.mount(\"/content/drive\")\n",
    "sys.path.append(\"/content/drive/MyDrive/DeepLCMS/train_google_colab\")"
   ]
  },
  {
   "cell_type": "markdown",
   "metadata": {
    "id": "B10ISUtcE4nE"
   },
   "source": [
    "# Import and install libraries"
   ]
  },
  {
   "cell_type": "code",
   "execution_count": null,
   "metadata": {
    "executionInfo": {
     "elapsed": 31451,
     "status": "ok",
     "timestamp": 1701545370019,
     "user": {
      "displayName": "Adam Cseresznye",
      "userId": "14068185396312405589"
     },
     "user_tz": -60
    },
    "id": "EaleshIpENkS"
   },
   "outputs": [],
   "source": [
    "%%capture\n",
    "!pip install lightning\n",
    "!pip install timm\n",
    "!pip install torchinfo"
   ]
  },
  {
   "cell_type": "code",
   "execution_count": null,
   "metadata": {
    "executionInfo": {
     "elapsed": 6,
     "status": "ok",
     "timestamp": 1701545960956,
     "user": {
      "displayName": "Adam Cseresznye",
      "userId": "14068185396312405589"
     },
     "user_tz": -60
    },
    "id": "eQbyJQmAXznU"
   },
   "outputs": [],
   "source": [
    "import gc\n",
    "from typing import Optional, Tuple\n",
    "\n",
    "import colab_functions\n",
    "import colab_utils\n",
    "import pandas as pd\n",
    "import prepare_data\n",
    "import pytorch_lightning as pl\n",
    "import timm\n",
    "import torch\n",
    "import torch.nn as nn\n",
    "import torch.nn.functional as F\n",
    "import torchinfo\n",
    "import train_NN\n",
    "from google.colab import drive\n",
    "from lightning.pytorch.loggers import CSVLogger\n",
    "from pytorch_lightning import LightningModule\n",
    "from pytorch_lightning.callbacks import Callback, EarlyStopping\n",
    "from pytorch_lightning.trainer.trainer import Trainer\n",
    "from timm import create_model\n",
    "from torchmetrics.classification import (\n",
    "    BinaryAUROC,\n",
    "    BinaryF1Score,\n",
    "    BinaryPrecision,\n",
    "    BinaryRecall,\n",
    ")\n",
    "import seaborn as sns"
   ]
  },
  {
   "cell_type": "code",
   "execution_count": null,
   "metadata": {
    "executionInfo": {
     "elapsed": 22,
     "status": "ok",
     "timestamp": 1701545391625,
     "user": {
      "displayName": "Adam Cseresznye",
      "userId": "14068185396312405589"
     },
     "user_tz": -60
    },
    "id": "gvVdxwYfiHwl"
   },
   "outputs": [],
   "source": [
    "# Set the CUDA_VISIBLE_DEVICES environment variable\n",
    "os.environ[\"CUDA_VISIBLE_DEVICES\"] = \"0\""
   ]
  },
  {
   "cell_type": "markdown",
   "metadata": {
    "id": "yjCM3Grt0NWP"
   },
   "source": [
    "# Unzip data"
   ]
  },
  {
   "cell_type": "code",
   "execution_count": null,
   "metadata": {
    "executionInfo": {
     "elapsed": 539,
     "status": "ok",
     "timestamp": 1701539781526,
     "user": {
      "displayName": "Adam Cseresznye",
      "userId": "14068185396312405589"
     },
     "user_tz": -60
    },
    "id": "vYo52Rm30Q-k"
   },
   "outputs": [],
   "source": [
    "!unzip -q experiment.zip"
   ]
  },
  {
   "cell_type": "markdown",
   "metadata": {
    "id": "EqmzdwGyVGvJ"
   },
   "source": [
    "# Check if GPU is used"
   ]
  },
  {
   "cell_type": "code",
   "execution_count": null,
   "metadata": {
    "colab": {
     "base_uri": "https://localhost:8080/"
    },
    "executionInfo": {
     "elapsed": 5,
     "status": "ok",
     "timestamp": 1701545461568,
     "user": {
      "displayName": "Adam Cseresznye",
      "userId": "14068185396312405589"
     },
     "user_tz": -60
    },
    "id": "Jh0cGdllMv8h",
    "outputId": "11c18e7f-8ff7-40d3-f613-3fcd46e4975d"
   },
   "outputs": [],
   "source": [
    "device = colab_functions.get_device()"
   ]
  },
  {
   "cell_type": "markdown",
   "metadata": {
    "id": "KL9-cKprC9D_"
   },
   "source": [
    "# Findings the best version of resnet\n"
   ]
  },
  {
   "cell_type": "code",
   "execution_count": null,
   "metadata": {
    "colab": {
     "base_uri": "https://localhost:8080/"
    },
    "executionInfo": {
     "elapsed": 279,
     "status": "ok",
     "timestamp": 1701545268217,
     "user": {
      "displayName": "Adam Cseresznye",
      "userId": "14068185396312405589"
     },
     "user_tz": -60
    },
    "id": "2MY-xqwszWIk",
    "outputId": "ed13ea51-b8d1-48cb-f52c-caf3fcdc211e"
   },
   "outputs": [],
   "source": [
    "%%script echo skipping\n",
    "\n",
    "resnet_models = timm.list_models(\"resnet*\", pretrained=True)[90:]\n",
    "\n",
    "\n",
    "for pretrained_model in resnet_models:\n",
    "    try:\n",
    "        temp_model = train_NN.PretrainedModelEvaluator(pretrained_model)\n",
    "\n",
    "        (\n",
    "            preprocess_train,\n",
    "            preprocess_val,\n",
    "            preprocess_test,\n",
    "        ) = prepare_data.get_timm_transforms(temp_model)\n",
    "\n",
    "        (\n",
    "            train_dataloader,\n",
    "            val_dataloader,\n",
    "            test_dataloader,\n",
    "        ) = prepare_data.get_dataloaders(\n",
    "            preprocess_train=preprocess_train,\n",
    "            preprocess_val=preprocess_val,\n",
    "            preprocess_test=preprocess_test,\n",
    "        )\n",
    "\n",
    "        # metrics_callback = train_NN.MetricsCallback()\n",
    "        logger = CSVLogger(\"logs\", name=str(pretrained_model))\n",
    "\n",
    "        trainer = Trainer(\n",
    "            max_epochs=50,\n",
    "            log_every_n_steps=1,\n",
    "            logger=logger,\n",
    "            callbacks=[EarlyStopping(monitor=\"val_loss\", mode=\"min\")],\n",
    "        )\n",
    "\n",
    "        trainer.fit(\n",
    "            model=temp_model,\n",
    "            train_dataloaders=train_dataloader,\n",
    "            val_dataloaders=val_dataloader,\n",
    "        )\n",
    "\n",
    "        # Clean up resources\n",
    "        resources_to_delete = [\n",
    "            temp_model,\n",
    "            preprocess_train,\n",
    "            preprocess_val,\n",
    "            preprocess_test,\n",
    "            train_dataloader,\n",
    "            val_dataloader,\n",
    "            test_dataloader,\n",
    "            trainer,\n",
    "        ]\n",
    "\n",
    "        gc.collect()\n",
    "    except RuntimeError or ValueError as e:\n",
    "        pass\n",
    "\n",
    "results_df = colab_functions.get_experiment_results()\n",
    "results_df.to_csv(\"resnet_models_results_part2.csv\", index=True)\n",
    "colab_functions.plot_experiment_results(results_df)"
   ]
  },
  {
   "cell_type": "code",
   "execution_count": null,
   "metadata": {
    "colab": {
     "base_uri": "https://localhost:8080/",
     "height": 455
    },
    "executionInfo": {
     "elapsed": 11,
     "status": "ok",
     "timestamp": 1701545793044,
     "user": {
      "displayName": "Adam Cseresznye",
      "userId": "14068185396312405589"
     },
     "user_tz": -60
    },
    "id": "QaUXvaxjk4_T",
    "outputId": "e3b829a5-394e-42da-f52a-c31c48aef829"
   },
   "outputs": [],
   "source": [
    "# Load saved result from disk\n",
    "results_df = pd.read_csv(\"resnet_models_results.csv\")\n",
    "\n",
    "# Filter rows with variable containing 'val'\n",
    "filtered_df = results_df[results_df[\"variable\"].str.contains(\"val\")]\n",
    "\n",
    "\n",
    "# Apply aggregation with groupby and calculate max and min values per metric\n",
    "result_df_max = (\n",
    "    filtered_df.groupby([\"variable\", \"experiment\"])\n",
    "    .value.max()\n",
    "    .to_frame()\n",
    "    .reset_index(drop=False)\n",
    "    .query('variable != \"val_loss\"')\n",
    "    .pivot(index=\"experiment\", columns=\"variable\", values=\"value\")\n",
    "    .round(3)\n",
    ")\n",
    "\n",
    "result_df_min = (\n",
    "    filtered_df.groupby([\"variable\", \"experiment\"])\n",
    "    .value.min()\n",
    "    .to_frame()\n",
    "    .reset_index(drop=False)\n",
    "    .query('variable == \"val_loss\"')\n",
    "    .pivot(index=\"experiment\", columns=\"variable\", values=\"value\")\n",
    "    .round(3)\n",
    ")\n",
    "\n",
    "# concatanate the two dfs\n",
    "score_board = pd.concat([result_df_max, result_df_min], axis=\"columns\").sort_values(\n",
    "    by=\"val_loss\"\n",
    ")\n",
    "score_board"
   ]
  },
  {
   "cell_type": "code",
   "execution_count": null,
   "metadata": {
    "id": "ui-iocVxCVyS"
   },
   "outputs": [],
   "source": [
    "timm_model_db = pd.read_csv(\n",
    "    \"https://raw.githubusercontent.com/huggingface/pytorch-image-models/main/results/results-imagenet.csv\"\n",
    ")"
   ]
  },
  {
   "cell_type": "code",
   "execution_count": null,
   "metadata": {
    "executionInfo": {
     "elapsed": 328,
     "status": "ok",
     "timestamp": 1701548140353,
     "user": {
      "displayName": "Adam Cseresznye",
      "userId": "14068185396312405589"
     },
     "user_tz": -60
    },
    "id": "12ulnMdpBL3m"
   },
   "outputs": [],
   "source": [
    "score_board_w_params = (\n",
    "    score_board.merge(\n",
    "        timm_model_db.loc[lambda df: df.model.isin(score_board.index), :][\n",
    "            [\"model\", \"param_count\"]\n",
    "        ],\n",
    "        left_index=True,\n",
    "        right_on=\"model\",\n",
    "    )\n",
    "    .sort_values(by=\"val_loss\")\n",
    "    .assign(param_count=lambda df: df.param_count.astype(float))\n",
    "    .drop(columns=\"val_recall\")\n",
    "    .melt(id_vars=[\"model\", \"param_count\"])\n",
    "    .replace(\n",
    "        {\n",
    "            \"val_acc\": \"Validation accuracy\",\n",
    "            \"val_loss\": \"Validation loss\",\n",
    "            \"val_precision\": \"Validation precision\",\n",
    "            \"val_f1\": \"Validation F1\",\n",
    "        }\n",
    "    )\n",
    ")"
   ]
  },
  {
   "cell_type": "code",
   "execution_count": null,
   "metadata": {
    "colab": {
     "base_uri": "https://localhost:8080/",
     "height": 994
    },
    "executionInfo": {
     "elapsed": 3356,
     "status": "ok",
     "timestamp": 1701547880422,
     "user": {
      "displayName": "Adam Cseresznye",
      "userId": "14068185396312405589"
     },
     "user_tz": -60
    },
    "id": "ZW6dt5QqCnCV",
    "outputId": "6ca6b14e-40d7-4892-deba-40845e5a4059"
   },
   "outputs": [],
   "source": [
    "with sns.plotting_context(\"talk\", font_scale=0.8):\n",
    "    grid = sns.lmplot(\n",
    "        data=score_board_w_params,\n",
    "        x=\"param_count\",\n",
    "        y=\"value\",\n",
    "        col=\"variable\",\n",
    "        col_wrap=2,\n",
    "        facet_kws=dict(sharex=False, sharey=False),\n",
    "        scatter_kws={\"s\": 100, \"alpha\": 0.5},\n",
    "    )\n",
    "    grid.set_titles(\n",
    "        row_template=\"{row_name}\", col_template=\"{col_name}\", fontweight=\"bold\", size=16\n",
    "    )\n",
    "    grid.savefig(\"resnet_results_w_parameters.png\")"
   ]
  },
  {
   "cell_type": "code",
   "execution_count": null,
   "metadata": {
    "id": "GtYiUERZ6Xql"
   },
   "outputs": [],
   "source": [
    "%reload_ext tensorboard\n",
    "%tensorboard --logdir='/content/lightning_logs'"
   ]
  }
 ],
 "metadata": {
  "colab": {
   "provenance": [
    {
     "file_id": "1FxpkTpMoivSD7nQRkqJsjJ_UhxNTpzed",
     "timestamp": 1700942428337
    }
   ]
  },
  "kernelspec": {
   "display_name": "Python 3",
   "name": "python3"
  },
  "language_info": {
   "codemirror_mode": {
    "name": "ipython",
    "version": 3
   },
   "file_extension": ".py",
   "mimetype": "text/x-python",
   "name": "python",
   "nbconvert_exporter": "python",
   "pygments_lexer": "ipython3",
   "version": "3.9.18"
  }
 },
 "nbformat": 4,
 "nbformat_minor": 0
}
