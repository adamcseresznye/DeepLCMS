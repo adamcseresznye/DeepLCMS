{
 "cells": [
  {
   "cell_type": "markdown",
   "metadata": {
    "id": "M7o1Je1x0XQU"
   },
   "source": [
    "# Mount drive and append path to PYTONPATH\n"
   ]
  },
  {
   "cell_type": "code",
   "execution_count": null,
   "metadata": {
    "colab": {
     "base_uri": "https://localhost:8080/"
    },
    "executionInfo": {
     "elapsed": 1899,
     "status": "ok",
     "timestamp": 1702325336381,
     "user": {
      "displayName": "Adam Cseresznye",
      "userId": "14068185396312405589"
     },
     "user_tz": -60
    },
    "id": "S9vhq3fcEHwj",
    "outputId": "ec702196-e0ac-4118-ce6d-08739a11f649"
   },
   "outputs": [],
   "source": [
    "import os\n",
    "import sys\n",
    "\n",
    "from google.colab import drive\n",
    "\n",
    "drive.mount(\"/content/drive\")\n",
    "sys.path.append(\"/content/drive/MyDrive/DeepLCMS/train_google_colab\")"
   ]
  },
  {
   "cell_type": "markdown",
   "metadata": {
    "id": "B10ISUtcE4nE"
   },
   "source": [
    "# Import and install libraries"
   ]
  },
  {
   "cell_type": "code",
   "execution_count": null,
   "metadata": {
    "executionInfo": {
     "elapsed": 60398,
     "status": "ok",
     "timestamp": 1702312296573,
     "user": {
      "displayName": "Adam Cseresznye",
      "userId": "14068185396312405589"
     },
     "user_tz": -60
    },
    "id": "EaleshIpENkS"
   },
   "outputs": [],
   "source": [
    "%%capture\n",
    "!pip install lightning\n",
    "!pip install timm\n",
    "!pip install torchinfo\n",
    "!pip install scikit-posthocs\n",
    "!pip install optuna\n",
    "!pip install torchcam"
   ]
  },
  {
   "cell_type": "code",
   "execution_count": null,
   "metadata": {
    "executionInfo": {
     "elapsed": 14993,
     "status": "ok",
     "timestamp": 1702325351373,
     "user": {
      "displayName": "Adam Cseresznye",
      "userId": "14068185396312405589"
     },
     "user_tz": -60
    },
    "id": "eQbyJQmAXznU"
   },
   "outputs": [],
   "source": [
    "import colab_functions\n",
    "import colab_utils\n",
    "import pandas as pd\n",
    "import prepare_data\n",
    "import timm\n",
    "import train_NN\n",
    "from lightning.pytorch import loggers, callbacks, tuner, trainer\n",
    "from pathlib import Path\n",
    "from tqdm import tqdm\n",
    "from IPython.display import clear_output\n",
    "import seaborn as sns"
   ]
  },
  {
   "cell_type": "code",
   "execution_count": null,
   "metadata": {
    "id": "gvVdxwYfiHwl"
   },
   "outputs": [],
   "source": [
    "# Set the CUDA_VISIBLE_DEVICES environment variable\n",
    "os.environ[\"CUDA_VISIBLE_DEVICES\"] = \"0\""
   ]
  },
  {
   "cell_type": "markdown",
   "metadata": {
    "id": "yjCM3Grt0NWP"
   },
   "source": [
    "# Unzip data"
   ]
  },
  {
   "cell_type": "code",
   "execution_count": null,
   "metadata": {
    "id": "vYo52Rm30Q-k"
   },
   "outputs": [],
   "source": [
    "!unzip -q experiment.zip"
   ]
  },
  {
   "cell_type": "markdown",
   "metadata": {
    "id": "EqmzdwGyVGvJ"
   },
   "source": [
    "# Check if GPU is used"
   ]
  },
  {
   "cell_type": "code",
   "execution_count": null,
   "metadata": {
    "colab": {
     "base_uri": "https://localhost:8080/"
    },
    "executionInfo": {
     "elapsed": 425,
     "status": "ok",
     "timestamp": 1702312433580,
     "user": {
      "displayName": "Adam Cseresznye",
      "userId": "14068185396312405589"
     },
     "user_tz": -60
    },
    "id": "Jh0cGdllMv8h",
    "outputId": "a10cdd3e-5d25-4443-c8ec-f612c4e49909"
   },
   "outputs": [],
   "source": [
    "device = colab_functions.get_device()"
   ]
  },
  {
   "cell_type": "markdown",
   "metadata": {
    "id": "KL9-cKprC9D_"
   },
   "source": [
    "# Getting the candidate models based on Experiment #1\n"
   ]
  },
  {
   "cell_type": "code",
   "execution_count": null,
   "metadata": {
    "executionInfo": {
     "elapsed": 250,
     "status": "ok",
     "timestamp": 1702325370261,
     "user": {
      "displayName": "Adam Cseresznye",
      "userId": "14068185396312405589"
     },
     "user_tz": -60
    },
    "id": "zU6zGXoKuuzq"
   },
   "outputs": [],
   "source": [
    "candidates_df = pd.read_csv(\"exp_2_candidates.csv\")\n",
    "\n",
    "pretrained_models = candidates_df.model"
   ]
  },
  {
   "cell_type": "markdown",
   "metadata": {
    "id": "y4RpaR-3vJ1Y"
   },
   "source": [
    "#Inspect a model and its dataloader\n"
   ]
  },
  {
   "cell_type": "code",
   "execution_count": null,
   "metadata": {
    "id": "pw0M1mj1vL4N"
   },
   "outputs": [],
   "source": [
    "PRETRAINED_MODEL = \"convnextv2_nano.fcmae_ft_in22k_in1k_384\"\n",
    "\n",
    "model = train_NN.PretrainedModel(\n",
    "    pretrained_model_name=PRETRAINED_MODEL, learning_rate=0.001\n",
    ")\n",
    "datamodule = prepare_data.LCMSDataModule(\n",
    "    model,\n",
    "    data_dir=Path(\"/content/ST001618_Opium_study_LC_MS_500\"),\n",
    ")\n",
    "model.show_architecture()"
   ]
  },
  {
   "cell_type": "code",
   "execution_count": null,
   "metadata": {
    "id": "KYgsNZw2vfRQ"
   },
   "outputs": [],
   "source": [
    "datamodule.inspect_dataloader(\"train\")"
   ]
  },
  {
   "cell_type": "markdown",
   "metadata": {
    "id": "fytR753ZvhQp"
   },
   "source": [
    "# Training loop"
   ]
  },
  {
   "cell_type": "code",
   "execution_count": null,
   "metadata": {
    "id": "2MY-xqwszWIk"
   },
   "outputs": [],
   "source": [
    "for model_name in tqdm(pretrained_models):\n",
    "    try:\n",
    "        model = train_NN.PretrainedModel(\n",
    "            pretrained_model_name=model_name, learning_rate=0.001\n",
    "        )\n",
    "        datamodule = prepare_data.LCMSDataModule(\n",
    "            model,\n",
    "            data_dir=Path(\"/content/ST001618_Opium_study_LC_MS_500\"),\n",
    "        )\n",
    "\n",
    "        logger = loggers.CSVLogger(\"logs\", name=str(model_name))\n",
    "\n",
    "        trainer_ = trainer.Trainer(\n",
    "            max_epochs=50,\n",
    "            log_every_n_steps=1,\n",
    "            logger=logger,\n",
    "            precision=\"16-mixed\",\n",
    "            callbacks=[\n",
    "                callbacks.EarlyStopping(monitor=\"val_loss\", mode=\"min\", patience=10)\n",
    "            ],\n",
    "        )\n",
    "        # # Create a Tuner\n",
    "        # tuner_ = tuner.Tuner(trainer_)\n",
    "\n",
    "        # # Find optimal learning rate\n",
    "        # lr_finder = tuner_.lr_find(model,\n",
    "        #                            datamodule = datamodule,\n",
    "        #                            early_stop_threshold=None)\n",
    "\n",
    "        # # Extract best learning rate\n",
    "        # best_lr = lr_finder.suggestion()\n",
    "\n",
    "        # Train the model using the found learning rate\n",
    "        trainer_.fit(model=model, datamodule=datamodule)\n",
    "\n",
    "        del model, datamodule, trainer_\n",
    "        clear_output(wait=True)\n",
    "\n",
    "    except RuntimeError as e:\n",
    "        print(f\"{model_name} could not run because {e}\")\n",
    "\n",
    "results_df = colab_functions.get_experiment_results()\n",
    "results_df.to_csv(\"pretrained_model_results.csv\", index=False)"
   ]
  },
  {
   "cell_type": "markdown",
   "metadata": {
    "id": "cQnvoaKpxMli"
   },
   "source": [
    "# Results"
   ]
  },
  {
   "cell_type": "code",
   "execution_count": null,
   "metadata": {
    "colab": {
     "base_uri": "https://localhost:8080/",
     "height": 424
    },
    "executionInfo": {
     "elapsed": 437,
     "status": "ok",
     "timestamp": 1702325375519,
     "user": {
      "displayName": "Adam Cseresznye",
      "userId": "14068185396312405589"
     },
     "user_tz": -60
    },
    "id": "fNxLGgZVwNU4",
    "outputId": "c05b7d20-756b-4afa-dc4a-f98ff5300479"
   },
   "outputs": [],
   "source": [
    "# This experiment was divided in two parts, hence the two csv files read_ins\n",
    "results_df = (\n",
    "    pd.concat(\n",
    "        [\n",
    "            pd.read_csv(csv_file)\n",
    "            for csv_file in list(Path.cwd().glob(\"pretrained_model_results*\"))\n",
    "        ],\n",
    "        axis=\"index\",\n",
    "    )\n",
    "    .reset_index(drop=True)\n",
    "    .assign(\n",
    "        param_count=lambda df: df.experiment.map(\n",
    "            candidates_df.loc[:, [\"model\", \"param_count\"]]\n",
    "            .set_index(\"model\")\n",
    "            .squeeze()\n",
    "            .to_dict()\n",
    "        )\n",
    "    )\n",
    ")\n",
    "\n",
    "results_df"
   ]
  },
  {
   "cell_type": "code",
   "execution_count": null,
   "metadata": {
    "colab": {
     "base_uri": "https://localhost:8080/",
     "height": 363
    },
    "executionInfo": {
     "elapsed": 259,
     "status": "ok",
     "timestamp": 1702325378815,
     "user": {
      "displayName": "Adam Cseresznye",
      "userId": "14068185396312405589"
     },
     "user_tz": -60
    },
    "id": "QaUXvaxjk4_T",
    "outputId": "4a5dde6d-2bff-4909-a3a6-5e7fd696b56f"
   },
   "outputs": [],
   "source": [
    "# next we take a look at what models achieved the lowest val_losses\n",
    "\n",
    "best_models = (\n",
    "    results_df.pivot(\n",
    "        index=[\"epoch\", \"experiment\", \"param_count\"], columns=\"variable\", values=\"value\"\n",
    "    )\n",
    "    .reset_index()\n",
    "    .sort_values(by=[\"experiment\", \"epoch\"])\n",
    "    .loc[lambda df: df.groupby(\"experiment\")[\"val_loss\"].idxmin()]\n",
    "    .sort_values([\"val_loss\", \"val_f1\"], ascending=[True, False])\n",
    ")\n",
    "\n",
    "best_models.head(10)"
   ]
  },
  {
   "cell_type": "code",
   "execution_count": null,
   "metadata": {
    "colab": {
     "base_uri": "https://localhost:8080/",
     "height": 458
    },
    "executionInfo": {
     "elapsed": 242,
     "status": "ok",
     "timestamp": 1702325380789,
     "user": {
      "displayName": "Adam Cseresznye",
      "userId": "14068185396312405589"
     },
     "user_tz": -60
    },
    "id": "_ItrQvAqQ7UA",
    "outputId": "5c1c0ae0-6801-4bbf-ffd4-21d09284c987"
   },
   "outputs": [],
   "source": [
    "best_models_melted = (\n",
    "    best_models.assign(\n",
    "        family=lambda df: df.experiment.str.split(\"_\", expand=True)[0]\n",
    "        .str.split(\".\", expand=True)[0]\n",
    "        .str.replace(\"\\d+\", \"\")\n",
    "        .replace({\"convnextv\": \"convnext\", \"densenetblurd\": \"densenet\"})\n",
    "    )\n",
    "    .loc[\n",
    "        :,\n",
    "        [\n",
    "            \"experiment\",\n",
    "            \"param_count\",\n",
    "            \"val_accuracy\",\n",
    "            \"val_f1\",\n",
    "            \"val_loss\",\n",
    "            \"val_precision\",\n",
    "            \"val_recall\",\n",
    "            \"family\",\n",
    "        ],\n",
    "    ]\n",
    "    .melt(\n",
    "        id_vars=[\"experiment\", \"family\", \"param_count\"],\n",
    "        value_vars=[\n",
    "            \"val_accuracy\",\n",
    "            \"val_f1\",\n",
    "            \"val_loss\",\n",
    "            \"val_precision\",\n",
    "            \"val_recall\",\n",
    "        ],\n",
    "    )\n",
    ")\n",
    "best_models_melted"
   ]
  },
  {
   "cell_type": "code",
   "execution_count": null,
   "metadata": {
    "colab": {
     "base_uri": "https://localhost:8080/",
     "height": 294
    },
    "executionInfo": {
     "elapsed": 7221,
     "status": "ok",
     "timestamp": 1702325392881,
     "user": {
      "displayName": "Adam Cseresznye",
      "userId": "14068185396312405589"
     },
     "user_tz": -60
    },
    "id": "2RoCa5_HVeVo",
    "outputId": "2f8dd36a-9ba9-440f-a98a-02bb3d069fb6"
   },
   "outputs": [],
   "source": [
    "with sns.plotting_context(\"talk\", font_scale=0.8):\n",
    "    grid = sns.lmplot(\n",
    "        x=\"param_count\",\n",
    "        y=\"value\",\n",
    "        hue=\"variable\",\n",
    "        col=\"family\",\n",
    "        data=best_models_melted,\n",
    "        height=3,\n",
    "        facet_kws=dict(sharex=False, sharey=True),\n",
    "    )\n",
    "    # Add a main title to the entire FacetGrid\n",
    "    # grid.fig.suptitle(f\"{metric}\", fontweight=\"bold\", size=16, y=1.05)\n",
    "    grid.set_titles(\n",
    "        row_template=\"{row_name}\", col_template=\"{col_name}\", fontweight=\"bold\", size=16\n",
    "    )\n",
    "    grid.savefig(\"summary.png\")"
   ]
  }
 ],
 "metadata": {
  "colab": {
   "provenance": [
    {
     "file_id": "1FxpkTpMoivSD7nQRkqJsjJ_UhxNTpzed",
     "timestamp": 1700942428337
    }
   ]
  },
  "kernelspec": {
   "display_name": "Python 3",
   "name": "python3"
  },
  "language_info": {
   "codemirror_mode": {
    "name": "ipython",
    "version": 3
   },
   "file_extension": ".py",
   "mimetype": "text/x-python",
   "name": "python",
   "nbconvert_exporter": "python",
   "pygments_lexer": "ipython3",
   "version": "3.9.18"
  }
 },
 "nbformat": 4,
 "nbformat_minor": 0
}
