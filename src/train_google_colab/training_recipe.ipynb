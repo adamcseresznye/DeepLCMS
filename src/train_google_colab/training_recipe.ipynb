{
 "cells": [
  {
   "cell_type": "code",
   "execution_count": null,
   "metadata": {
    "colab": {
     "base_uri": "https://localhost:8080/"
    },
    "id": "eQbyJQmAXznU",
    "outputId": "7423ace0-2e1d-4942-9b24-1939e1f2e313"
   },
   "outputs": [],
   "source": [
    "import sys\n",
    "\n",
    "from google.colab import drive\n",
    "drive.mount('/content/drive')\n",
    "sys.path.append('/content/drive/MyDrive/DeepLCMS/train_google_colab')"
   ]
  },
  {
   "cell_type": "code",
   "execution_count": null,
   "metadata": {
    "id": "lb5ogoi3Z7aK"
   },
   "outputs": [],
   "source": [
    "import train_NN, colab_utils, colab_functions"
   ]
  },
  {
   "cell_type": "code",
   "execution_count": null,
   "metadata": {
    "id": "4QDUpeFufJ26"
   },
   "outputs": [],
   "source": [
    "!unzip -q experiment.zip"
   ]
  },
  {
   "cell_type": "markdown",
   "metadata": {
    "id": "2aVhaJSvRKg7"
   },
   "source": [
    "\n",
    "# Import and install libraries"
   ]
  },
  {
   "cell_type": "code",
   "execution_count": null,
   "metadata": {
    "id": "-otLDeutK72E"
   },
   "outputs": [],
   "source": [
    "import torch\n",
    "import torchvision\n",
    "\n",
    "from torch import nn\n",
    "from torch.autograd import Variable\n",
    "from torch.optim.lr_scheduler import CosineAnnealingLR\n",
    "from torch.utils.data import DataLoader\n",
    "from torchvision import datasets, models, transforms\n",
    "from torchvision.transforms import ToTensor\n",
    "from torchvision.utils import make_grid\n",
    "from tqdm.auto import tqdm"
   ]
  },
  {
   "cell_type": "code",
   "execution_count": null,
   "metadata": {
    "id": "r0ALswbQkrlq"
   },
   "outputs": [],
   "source": [
    "!pip install lightning\n",
    "!pip install timm\n",
    "import timm"
   ]
  },
  {
   "cell_type": "code",
   "execution_count": null,
   "metadata": {
    "id": "E4lHCGtHKqmj"
   },
   "outputs": [],
   "source": [
    "if int(torchvision.__version__.split(sep=\".\")[1]) < 13:\n",
    "    !conda uninstall pytorch\n",
    "    !pip uninstall torch --yes\n",
    "    !pip uninstall torch --yes# run this command twice\n",
    "\n",
    "    !conda uninstall torchvision\n",
    "    !pip uninstall torchvision --yes\n",
    "    !pip uninstall torchvision --yes # run this command twice\n",
    "\n",
    "    !conda install --yes pytorch torchvision\n",
    "    import torch\n",
    "    import torchvision\n",
    "\n",
    "    print(f\"Current version of torch: {torch.__version__}\")\n",
    "    print(f\"Current version of torchvision: {torchvision.__version__}\")\n",
    "\n",
    "else:\n",
    "    import torch\n",
    "    import torchvision\n",
    "\n",
    "    print(f\"Current version of torch: {torch.__version__}\")\n",
    "    print(f\"Current version of torchvision: {torchvision.__version__}\")"
   ]
  },
  {
   "cell_type": "code",
   "execution_count": null,
   "metadata": {
    "id": "7xYwKpJiMrZj"
   },
   "outputs": [],
   "source": [
    "if importlib.util.find_spec(\"torchinfo\") is None:\n",
    "    print(\"torchinfo\" + \" is not installed\")\n",
    "    !pip install torchinfo\n",
    "    from torchinfo import summary\n",
    "    from tqdm.auto import tqdm\n",
    "else:\n",
    "    from torchinfo import summary\n",
    "    from tqdm.auto import tqdm"
   ]
  },
  {
   "cell_type": "markdown",
   "metadata": {
    "id": "EqmzdwGyVGvJ"
   },
   "source": [
    "# Check if GPU is used"
   ]
  },
  {
   "cell_type": "code",
   "execution_count": null,
   "metadata": {
    "id": "HkGrPItlMEzc"
   },
   "outputs": [],
   "source": [
    "device = \"cuda\" if torch.cuda.is_available() else \"cpu\"\n",
    "if device == \"cuda\":\n",
    "    print(torch.cuda.get_device_name(0))\n",
    "device"
   ]
  },
  {
   "cell_type": "markdown",
   "metadata": {
    "id": "fhAx0mUyVU-g"
   },
   "source": [
    "# Unzip folder"
   ]
  },
  {
   "cell_type": "code",
   "execution_count": null,
   "metadata": {
    "id": "eCeOGhC0HhL5"
   },
   "outputs": [],
   "source": [
    "# !unzip -q experiment.zip"
   ]
  },
  {
   "cell_type": "markdown",
   "metadata": {
    "id": "6361mqZXFIJe"
   },
   "source": [
    "List available pretrained models:"
   ]
  },
  {
   "cell_type": "code",
   "execution_count": null,
   "metadata": {
    "id": "6YjtjfJBQPOv"
   },
   "outputs": [],
   "source": [
    "timm.list_models(\"resnet*\", pretrained=True)"
   ]
  },
  {
   "cell_type": "markdown",
   "metadata": {
    "id": "hti2PslGVgWn"
   },
   "source": [
    "# Build model convnext_xlarge_in22ft1k"
   ]
  },
  {
   "cell_type": "code",
   "execution_count": null,
   "metadata": {
    "id": "EqksuWXymBpS"
   },
   "outputs": [],
   "source": [
    "import pytorch_lightning as pl\n",
    "import torch.nn.functional as F\n",
    "from pytorch_lightning.callbacks import Callback\n",
    "from timm import create_model\n",
    "from torchmetrics import Accuracy\n",
    "from torchmetrics.classification import BinaryAUROC, BinaryF1Score, BinaryConfusionMatrix\n",
    "\n",
    "\n",
    "class MetricsCallback(Callback):\n",
    "    def __init__(self):\n",
    "        super().__init__()\n",
    "        self.metrics = []\n",
    "\n",
    "    def on_validation_end(self, trainer, pl_module):\n",
    "        self.metrics.append(trainer.logged_metrics)\n",
    "\n",
    "\n",
    "class LitModel(pl.LightningModule):\n",
    "    def __init__(self):\n",
    "        super().__init__()\n",
    "        self.model = create_model(\n",
    "            \"resnet14t.c3_in1k\", pretrained=True, num_classes=1\n",
    "        )\n",
    "\n",
    "        # Freeze all layers except for the last one\n",
    "        for param in self.model.parameters():\n",
    "            param.requires_grad = False\n",
    "\n",
    "        self.model.fc = torch.nn.Sequential(\n",
    "            torch.nn.Linear(in_features=2048, out_features=512, bias=True),\n",
    "            torch.nn.ReLU(),\n",
    "            torch.nn.Dropout(p=0.3),\n",
    "            torch.nn.Linear(in_features=512, out_features=256, bias=True),\n",
    "            torch.nn.ReLU(),\n",
    "            torch.nn.Linear(in_features=256, out_features=1, bias=True),\n",
    "        )\n",
    "        # self.model.fc = torch.nn.Sequential(\n",
    "        #     torch.nn.Linear(in_features=512, out_features=256, bias=True),\n",
    "        #     torch.nn.ReLU(),\n",
    "        #     torch.nn.Dropout(p=0.3),\n",
    "        #     torch.nn.Linear(in_features=256, out_features=128, bias=True),\n",
    "        #     torch.nn.ReLU(),\n",
    "        #     torch.nn.Linear(in_features=128, out_features=1, bias=True),\n",
    "        # )\n",
    "\n",
    "\n",
    "    def forward(self, x):\n",
    "        x = self.model(x)\n",
    "        return x\n",
    "\n",
    "    def training_step(self, batch, batch_idx):\n",
    "        x, y = batch\n",
    "\n",
    "        loss_fn = nn.BCELoss()\n",
    "\n",
    "        y_pred_logits = self(x).squeeze()\n",
    "        y_pred = torch.sigmoid(y_pred_logits)\n",
    "        loss = loss_fn(y_pred, y.float())\n",
    "        self.log(\"train_loss\", loss)\n",
    "\n",
    "        # Calculate metrics\n",
    "        y_pred_class = torch.round(y_pred)\n",
    "        acc = (y_pred_class == y).sum().item() / len(y_pred)\n",
    "        self.log(\"train_acc\", acc)\n",
    "\n",
    "        metric_f1 = BinaryF1Score().to(y.device)\n",
    "        f1 = metric_f1(y_pred_class, y)\n",
    "        self.log(\"train_f1\", f1)\n",
    "\n",
    "        return loss\n",
    "\n",
    "    def validation_step(self, batch, batch_idx):\n",
    "        x, y = batch\n",
    "\n",
    "        loss_fn = nn.BCELoss()\n",
    "\n",
    "        y_pred_logits = self(x).squeeze()\n",
    "        y_pred = torch.sigmoid(y_pred_logits)\n",
    "        loss = loss_fn(y_pred, y.float())\n",
    "        self.log(\"val_loss\", loss)\n",
    "\n",
    "        # Calculate metrics\n",
    "        y_pred_class = torch.round(y_pred)\n",
    "        acc = (y_pred_class == y).sum().item() / len(y_pred)\n",
    "        self.log(\"val_acc\", acc)\n",
    "\n",
    "        metric_f1 = BinaryF1Score().to(y.device)\n",
    "        f1 = metric_f1(y_pred_class, y)\n",
    "        self.log(\"val_f1\", f1)\n",
    "\n",
    "    def predict_step(self, batch, batch_idx, dataloader_idx=0):\n",
    "      if isinstance(batch, list):\n",
    "          # Assuming the first element in the list is the input tensor\n",
    "          input_tensor = batch[0]\n",
    "          return self(input_tensor)\n",
    "      else:\n",
    "          # If batch is already a tensor, proceed as usual\n",
    "          print(\"Input Shape:\", batch.shape)\n",
    "          return self(batch)\n",
    "\n",
    "    def configure_optimizers(self):\n",
    "        optimizer = torch.optim.Adam(\n",
    "            self.parameters(),\n",
    "            lr=0.001,\n",
    "            weight_decay=2e-5,\n",
    "        )\n",
    "        scheduler = torch.optim.lr_scheduler.CosineAnnealingLR(\n",
    "            optimizer, T_max=20, eta_min=0\n",
    "        )\n",
    "        return [optimizer], [scheduler]"
   ]
  },
  {
   "cell_type": "code",
   "execution_count": null,
   "metadata": {
    "id": "LPZ_Bp_xodgd"
   },
   "outputs": [],
   "source": [
    "model = LitModel()\n",
    "\n",
    "summary(\n",
    "    model=model,\n",
    "    input_size=(32, 3, 384, 384),\n",
    "    col_names=[\"input_size\", \"output_size\", \"num_params\", \"trainable\"],\n",
    "    col_width=20,\n",
    "    row_settings=[\"var_names\"],\n",
    ")"
   ]
  },
  {
   "cell_type": "code",
   "execution_count": null,
   "metadata": {
    "id": "zgf_8JAEq-mt"
   },
   "outputs": [],
   "source": [
    "# Resolve data configuration for the model\n",
    "data_cfg = timm.data.resolve_data_config(model.model.default_cfg)\n",
    "\n",
    "preprocess_val = timm.data.create_transform(**data_cfg, is_training=False)\n",
    "\n",
    "# Create the transform object\n",
    "preprocess_train = timm.data.create_transform(\n",
    "    **data_cfg,\n",
    "    is_training=False,\n",
    "    # no_aug = True,\n",
    "    # re_prob=0.1,\n",
    "    # re_mode=\"pixel\",\n",
    "    # auto_augment=\"rand-m1-mstd0.1-inc0\",\n",
    ")"
   ]
  },
  {
   "cell_type": "code",
   "execution_count": null,
   "metadata": {
    "id": "NDr9XN0b6wvC"
   },
   "outputs": [],
   "source": [
    "BATCH_SIZE = 32\n",
    "NUM_WORKERS = os.cpu_count()\n",
    "\n",
    "train_data = datasets.ImageFolder(\n",
    "    root=train_dir,\n",
    "    transform=preprocess_train,\n",
    "    target_transform=None,\n",
    ")\n",
    "\n",
    "val_data = datasets.ImageFolder(\n",
    "    root=train_dir,\n",
    "    transform=preprocess_val,\n",
    "    target_transform=None,\n",
    ")\n",
    "\n",
    "train_dataloader = DataLoader(\n",
    "    train_data,\n",
    "    batch_size=BATCH_SIZE,\n",
    "    shuffle=True,\n",
    "    num_workers=NUM_WORKERS,\n",
    "    pin_memory=True,\n",
    ")\n",
    "\n",
    "val_dataloader = DataLoader(\n",
    "    val_data,\n",
    "    batch_size=BATCH_SIZE,\n",
    "    shuffle=False,\n",
    "    num_workers=NUM_WORKERS,\n",
    "    pin_memory=True,\n",
    ")"
   ]
  },
  {
   "cell_type": "code",
   "execution_count": null,
   "metadata": {
    "id": "l6-MNMQ-sBBE"
   },
   "outputs": [],
   "source": [
    "images, labels = next(iter(train_dataloader))\n",
    "grid = make_grid(images)\n",
    "\n",
    "plt.figure(figsize=(15, 25))\n",
    "\n",
    "img = plt.imshow(grid.permute(1, 2, 0)).figure\n",
    "plt.axis(\"off\")\n",
    "plt.tight_layout()\n",
    "\n",
    "img.savefig(\"transformed_grid.png\", dpi=300)"
   ]
  },
  {
   "cell_type": "code",
   "execution_count": null,
   "metadata": {
    "id": "GtYiUERZ6Xql"
   },
   "outputs": [],
   "source": [
    "%reload_ext tensorboard\n",
    "%tensorboard --logdir='/content/lightning_logs'"
   ]
  },
  {
   "cell_type": "markdown",
   "metadata": {
    "id": "5SuO9lqiVp3g"
   },
   "source": [
    "# Train model"
   ]
  },
  {
   "cell_type": "code",
   "execution_count": null,
   "metadata": {
    "id": "s90-lDhXtCkU"
   },
   "outputs": [],
   "source": [
    "# Set the CUDA_VISIBLE_DEVICES environment variable\n",
    "os.environ[\"CUDA_VISIBLE_DEVICES\"] = \"0\"\n",
    "\n",
    "metrics_callback = MetricsCallback()\n",
    "\n",
    "trainer = pl.Trainer(max_epochs=20, callbacks=[metrics_callback], log_every_n_steps=1)\n",
    "trainer.fit(\n",
    "    model=model, train_dataloaders=train_dataloader, val_dataloaders=val_dataloader\n",
    ")"
   ]
  },
  {
   "cell_type": "code",
   "execution_count": null,
   "metadata": {
    "id": "-JKvF-JrT7gb"
   },
   "outputs": [],
   "source": [
    "# https://github.com/frgfm/torch-cam"
   ]
  },
  {
   "cell_type": "markdown",
   "metadata": {
    "id": "sjz4qnZHLu_g"
   },
   "source": [
    "# Evaluate the test set\n"
   ]
  },
  {
   "cell_type": "code",
   "execution_count": null,
   "metadata": {
    "id": "FvS5udQOL7jF"
   },
   "outputs": [],
   "source": [
    "preprocess_test = timm.data.create_transform(**data_cfg, is_training=False)\n",
    "\n",
    "test_data = datasets.ImageFolder(\n",
    "    root=test_dir,\n",
    "    transform=preprocess_test,\n",
    "    target_transform=None,\n",
    ")\n",
    "\n",
    "test_dataloader = DataLoader(\n",
    "    test_data,\n",
    "    batch_size=BATCH_SIZE,\n",
    "    shuffle=False,\n",
    "    num_workers=NUM_WORKERS,\n",
    "    drop_last=False,\n",
    "    pin_memory=True,\n",
    ")\n",
    "\n",
    "model.eval()\n",
    "predictions = trainer.predict(model, test_dataloader)"
   ]
  },
  {
   "cell_type": "code",
   "execution_count": null,
   "metadata": {
    "id": "nZjkhj5pTvH8"
   },
   "outputs": [],
   "source": [
    "all_labels = torch.tensor(test_dataloader.dataset.targets)\n",
    "all_labels"
   ]
  },
  {
   "cell_type": "code",
   "execution_count": null,
   "metadata": {
    "id": "RugisgJRXGP_"
   },
   "outputs": [],
   "source": [
    "probabilities = torch.sigmoid((torch.cat(predictions, dim=0)))\n",
    "\n",
    "# Threshold probabilities to get binary predictions (0 or 1)\n",
    "threshold = 0.5\n",
    "binary_predictions = (probabilities > threshold).float().view(-1)\n",
    "binary_predictions"
   ]
  },
  {
   "cell_type": "code",
   "execution_count": null,
   "metadata": {
    "id": "yWFQo2erdgUT"
   },
   "outputs": [],
   "source": [
    "acc = (all_labels == binary_predictions).sum().item() / len(all_labels)\n",
    "\n",
    "\n",
    "metric_f1 = BinaryF1Score()\n",
    "f1 = metric_f1(all_labels, binary_predictions)\n",
    "\n",
    "\n",
    "bcm = BinaryConfusionMatrix()\n",
    "bcm(all_labels, binary_predictions)\n",
    "fig_, ax_ = bcm.plot()"
   ]
  },
  {
   "cell_type": "code",
   "execution_count": null,
   "metadata": {
    "id": "PiHKqAvCfA6B"
   },
   "outputs": [],
   "source": []
  }
 ],
 "metadata": {
  "colab": {
   "provenance": []
  },
  "kernelspec": {
   "display_name": "Python 3",
   "name": "python3"
  },
  "language_info": {
   "codemirror_mode": {
    "name": "ipython",
    "version": 3
   },
   "file_extension": ".py",
   "mimetype": "text/x-python",
   "name": "python",
   "nbconvert_exporter": "python",
   "pygments_lexer": "ipython3",
   "version": "3.9.18"
  }
 },
 "nbformat": 4,
 "nbformat_minor": 0
}
