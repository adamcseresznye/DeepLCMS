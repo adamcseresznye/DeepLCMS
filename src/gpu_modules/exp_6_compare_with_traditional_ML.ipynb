{
 "cells": [
  {
   "cell_type": "markdown",
   "metadata": {
    "id": "M7o1Je1x0XQU"
   },
   "source": [
    "# Mount drive and append path to PYTONPATH\n"
   ]
  },
  {
   "cell_type": "code",
   "execution_count": null,
   "metadata": {
    "colab": {
     "base_uri": "https://localhost:8080/"
    },
    "executionInfo": {
     "elapsed": 26839,
     "status": "ok",
     "timestamp": 1702985728249,
     "user": {
      "displayName": "Adam Cseresznye",
      "userId": "14068185396312405589"
     },
     "user_tz": -60
    },
    "id": "S9vhq3fcEHwj",
    "outputId": "542dfdbc-c329-48df-beb7-7d67010d21f0"
   },
   "outputs": [],
   "source": [
    "import os\n",
    "import sys\n",
    "\n",
    "from google.colab import drive\n",
    "\n",
    "drive.mount(\"/content/drive\")\n",
    "sys.path.append(\"/content/drive/MyDrive/DeepLCMS/gpu_modules\")"
   ]
  },
  {
   "cell_type": "markdown",
   "metadata": {
    "id": "B10ISUtcE4nE"
   },
   "source": [
    "# Import and install libraries"
   ]
  },
  {
   "cell_type": "code",
   "execution_count": null,
   "metadata": {
    "executionInfo": {
     "elapsed": 68654,
     "status": "ok",
     "timestamp": 1702985796890,
     "user": {
      "displayName": "Adam Cseresznye",
      "userId": "14068185396312405589"
     },
     "user_tz": -60
    },
    "id": "EaleshIpENkS"
   },
   "outputs": [],
   "source": [
    "%%capture\n",
    "!pip install lightning\n",
    "!pip install timm\n",
    "!pip install torchinfo\n",
    "!pip install torchmetrics\n",
    "!pip install torchcam\n",
    "!pip install catboost"
   ]
  },
  {
   "cell_type": "code",
   "execution_count": null,
   "metadata": {
    "executionInfo": {
     "elapsed": 23632,
     "status": "ok",
     "timestamp": 1702985820505,
     "user": {
      "displayName": "Adam Cseresznye",
      "userId": "14068185396312405589"
     },
     "user_tz": -60
    },
    "id": "eQbyJQmAXznU"
   },
   "outputs": [],
   "source": [
    "from pathlib import Path\n",
    "from tqdm.auto import tqdm\n",
    "\n",
    "import colab_functions\n",
    "import colab_utils\n",
    "import pandas as pd\n",
    "import prepare_data\n",
    "import numpy as np\n",
    "import PIL\n",
    "import matplotlib.pyplot as plt\n",
    "from typing import Tuple\n",
    "\n",
    "import catboost\n",
    "import lightgbm as lgb\n",
    "import xgboost\n",
    "from IPython.display import clear_output, display\n",
    "from sklearn import (\n",
    "    compose,\n",
    "    dummy,\n",
    "    ensemble,\n",
    "    impute,\n",
    "    linear_model,\n",
    "    metrics,\n",
    "    model_selection,\n",
    "    pipeline,\n",
    "    preprocessing,\n",
    "    svm,\n",
    "    tree,\n",
    ")"
   ]
  },
  {
   "cell_type": "markdown",
   "metadata": {
    "id": "yjCM3Grt0NWP"
   },
   "source": [
    "# Unzip data"
   ]
  },
  {
   "cell_type": "code",
   "execution_count": null,
   "metadata": {
    "executionInfo": {
     "elapsed": 3911,
     "status": "ok",
     "timestamp": 1702985856144,
     "user": {
      "displayName": "Adam Cseresznye",
      "userId": "14068185396312405589"
     },
     "user_tz": -60
    },
    "id": "vYo52Rm30Q-k"
   },
   "outputs": [],
   "source": [
    "!unzip -q \"/content/drive/MyDrive/DeepLCMS/ST001618_Opium_study_LC_MS_500.zip\""
   ]
  },
  {
   "cell_type": "markdown",
   "metadata": {
    "id": "jza-9oViShwj"
   },
   "source": [
    "# Final training with optimized settings"
   ]
  },
  {
   "cell_type": "code",
   "execution_count": null,
   "metadata": {
    "executionInfo": {
     "elapsed": 17,
     "status": "ok",
     "timestamp": 1702985822113,
     "user": {
      "displayName": "Adam Cseresznye",
      "userId": "14068185396312405589"
     },
     "user_tz": -60
    },
    "id": "053wl8f0CK4K"
   },
   "outputs": [],
   "source": [
    "from pathlib import Path\n",
    "import PIL\n",
    "import numpy as np\n",
    "import pandas as pd\n",
    "from typing import Tuple\n",
    "\n",
    "\n",
    "def convert_images_to_df(\n",
    "    path: str,\n",
    "    size: Tuple[int, int] = (25, 25),\n",
    "    slice: str = \"train\",\n",
    "    img_type: str = \".jpeg\",\n",
    "    last_col_name: str = \"label\",\n",
    ") -> Tuple[pd.Series, pd.DataFrame]:\n",
    "    \"\"\"\n",
    "    Converts images from a specified directory to a pandas DataFrame and a Series.\n",
    "    Each row in the DataFrame corresponds to an image, where each column represents a pixel.\n",
    "    The Series contains the labels of the images.\n",
    "\n",
    "    Parameters:\n",
    "    path (str): The directory path where the images are stored.\n",
    "    size (Tuple[int, int]): The size to which all images will be resized. Default is (25, 25).\n",
    "    slice (str): The name of the subdirectory that contains the images to be processed. Default is \"train\".\n",
    "    img_type (str): The file type of the images. Default is \".jpeg\".\n",
    "    last_col_name (str): The name to be given to the last column of the DataFrame. Default is \"label\".\n",
    "\n",
    "    Returns:\n",
    "    Tuple[pd.Series, pd.DataFrame]: A tuple where the first element is a Series with the labels of the images,\n",
    "    and the second element is a DataFrame where each row corresponds to an image and each column represents a pixel.\n",
    "\n",
    "    Example:\n",
    "    >>> labels, df = convert_images_to_df(path=\"/path/to/images\", size=(50, 50),\n",
    "    slice=\"test\", img_type=\".png\", last_col_name=\"class\")\n",
    "    \"\"\"\n",
    "\n",
    "    # Check if path exists\n",
    "    if not Path(path).exists():\n",
    "        raise ValueError(f\"The path {path} does not exist.\")\n",
    "\n",
    "    # Get all image paths\n",
    "    img_paths = list(Path(path).rglob(f\"*{img_type}\"))\n",
    "\n",
    "    # Check if there are any images\n",
    "    if not img_paths:\n",
    "        raise ValueError(f\"No {img_type} files found in {path}.\")\n",
    "\n",
    "    img_list = []\n",
    "    labels = []\n",
    "    for img_path in img_paths:\n",
    "        if img_path.parents[1].name == slice:\n",
    "            # Open and resize image\n",
    "            img = PIL.Image.open(img_path)\n",
    "            resized_img = img.resize(size)\n",
    "\n",
    "            # Convert image to numpy array and flatten\n",
    "            np_img = np.asarray(resized_img)\n",
    "            np_img_flat = np_img.reshape(-1)\n",
    "\n",
    "            img_list.append(np_img_flat)\n",
    "            labels.append(img_path.parent.name)\n",
    "\n",
    "    flattened_imgs = np.vstack(img_list)\n",
    "\n",
    "    return pd.Series(labels), pd.DataFrame(flattened_imgs)"
   ]
  },
  {
   "cell_type": "markdown",
   "metadata": {
    "id": "NQG_PFddWaF9"
   },
   "source": [
    "# Read in the train and test images and convert to dataframes"
   ]
  },
  {
   "cell_type": "code",
   "execution_count": null,
   "metadata": {
    "colab": {
     "base_uri": "https://localhost:8080/"
    },
    "executionInfo": {
     "elapsed": 6685,
     "status": "ok",
     "timestamp": 1702988371039,
     "user": {
      "displayName": "Adam Cseresznye",
      "userId": "14068185396312405589"
     },
     "user_tz": -60
    },
    "id": "GNI-H9CtWaN8",
    "outputId": "ad1e98ee-fc80-40a3-faa6-f6f74d4924bf"
   },
   "outputs": [],
   "source": [
    "y_train, X_train = convert_images_to_df(\n",
    "    r\"/content/ST001618_Opium_study_LC_MS_500\", slice=\"train\", size=(224, 224)\n",
    ")\n",
    "y_test, X_test = convert_images_to_df(\n",
    "    r\"/content/ST001618_Opium_study_LC_MS_500\", slice=\"test\", size=(224, 224)\n",
    ")\n",
    "\n",
    "print(f\"Shape of train set: {X_train.shape}, shape of test set: {X_test.shape}\")"
   ]
  },
  {
   "cell_type": "code",
   "execution_count": null,
   "metadata": {
    "executionInfo": {
     "elapsed": 15,
     "status": "ok",
     "timestamp": 1702988371039,
     "user": {
      "displayName": "Adam Cseresznye",
      "userId": "14068185396312405589"
     },
     "user_tz": -60
    },
    "id": "90YCl91kchka"
   },
   "outputs": [],
   "source": [
    "# convert targets to numerical values\n",
    "\n",
    "y_test = y_test.map({\"User\": 1, \"Non-User\": 0})\n",
    "y_train = y_train.map({\"User\": 1, \"Non-User\": 0})"
   ]
  },
  {
   "cell_type": "code",
   "execution_count": null,
   "metadata": {
    "executionInfo": {
     "elapsed": 13,
     "status": "ok",
     "timestamp": 1702988371039,
     "user": {
      "displayName": "Adam Cseresznye",
      "userId": "14068185396312405589"
     },
     "user_tz": -60
    },
    "id": "0_qkQdAJiRD6"
   },
   "outputs": [],
   "source": [
    "X_train, y_train = X_train.sample(frac=1, random_state=42), y_train.sample(\n",
    "    frac=1, random_state=42\n",
    ")"
   ]
  },
  {
   "cell_type": "markdown",
   "metadata": {
    "id": "v6KCLRusXFFs"
   },
   "source": [
    "# Assessing the performance of ML algorithms\n"
   ]
  },
  {
   "cell_type": "code",
   "execution_count": null,
   "metadata": {
    "colab": {
     "base_uri": "https://localhost:8080/",
     "height": 300,
     "referenced_widgets": [
      "36176378257046ac91bf9a37f80f3395",
      "00f82fe405914912b3a3b34923805d5f",
      "9e32c889e94445fcae3482c2f6c21f8f",
      "6afbace61fd04de7a85859f49f505582",
      "6b788272f35d4ee8ad9fe63afe810344",
      "9ef29c0b7db94ee98406786cd37f0f09",
      "7e6bfb9cd9f7409f9a9f9a9627480717",
      "159c37e6e2744c6aa40201008481be2e",
      "219058eecdba4d6cb81d4d40e503daf5",
      "a98657d3f21a4307b9fd65a81a29297e",
      "6539f223dd2247b6b69032cfd35ae39a"
     ]
    },
    "executionInfo": {
     "elapsed": 2950031,
     "status": "ok",
     "timestamp": 1702991321058,
     "user": {
      "displayName": "Adam Cseresznye",
      "userId": "14068185396312405589"
     },
     "user_tz": -60
    },
    "id": "57CC1wc2Wvbk",
    "outputId": "3e199842-5f96-4c7c-e893-ff9ac50af011"
   },
   "outputs": [],
   "source": [
    "MLA = [\n",
    "    linear_model.LogisticRegression(),\n",
    "    tree.DecisionTreeClassifier(),\n",
    "    ensemble.RandomForestClassifier(),\n",
    "    ensemble.ExtraTreesClassifier(),\n",
    "    ensemble.AdaBoostClassifier(),\n",
    "    lgb.LGBMClassifier(verbose=-1),\n",
    "    xgboost.XGBClassifier(verbosity=0),\n",
    "    dummy.DummyClassifier(),\n",
    "    # ensemble.GradientBoostingClassifier(),\n",
    "    # catboost.CatBoostClassifier(silent=True),\n",
    "]\n",
    "\n",
    "# note: this is an alternative to train_test_split\n",
    "cv_split = model_selection.RepeatedStratifiedKFold(\n",
    "    n_splits=10, n_repeats=1, random_state=0\n",
    ")\n",
    "\n",
    "# create table to compare MLA metrics\n",
    "MLA_columns = [\n",
    "    \"MLA Name\",\n",
    "    \"MLA Parameters\",\n",
    "    \"Fit Time\",\n",
    "    \"Val Mean Acc\",\n",
    "    \"Val Mean F1\",\n",
    "    \"Val Mean Precision\",\n",
    "    \"Val Mean Recall\",\n",
    "]\n",
    "MLA_compare = pd.DataFrame(columns=MLA_columns)\n",
    "\n",
    "# index through MLA and save performance to table\n",
    "row_index = 0\n",
    "for alg in tqdm(MLA):\n",
    "    # set name and parameters\n",
    "    MLA_name = alg.__class__.__name__\n",
    "    MLA_compare.loc[row_index, \"MLA Name\"] = MLA_name\n",
    "    MLA_compare.loc[row_index, \"MLA Parameters\"] = str(alg.get_params())\n",
    "\n",
    "    model_pipeline = pipeline.Pipeline(\n",
    "        steps=[\n",
    "            (\"pre_processing\", preprocessing.StandardScaler()),\n",
    "            (\"model\", alg),\n",
    "        ]\n",
    "    )\n",
    "\n",
    "    cv_results = model_selection.cross_validate(\n",
    "        model_pipeline,\n",
    "        X_train,\n",
    "        y_train,\n",
    "        cv=cv_split,\n",
    "        scoring={\n",
    "            \"accuracy\": \"accuracy\",\n",
    "            \"f1\": \"f1\",\n",
    "            \"precision\": \"precision\",\n",
    "            \"recall\": \"recall\",\n",
    "        },\n",
    "        return_train_score=True,\n",
    "    )\n",
    "\n",
    "    MLA_compare.loc[row_index, \"Fit Time\"] = cv_results[\"fit_time\"].mean()\n",
    "    MLA_compare.loc[row_index, \"Val Mean Acc\"] = cv_results[\"test_accuracy\"].mean()\n",
    "    MLA_compare.loc[row_index, \"Val Mean F1\"] = cv_results[\"test_f1\"].mean()\n",
    "\n",
    "    MLA_compare.loc[row_index, \"Val Mean Precision\"] = cv_results[\n",
    "        \"test_precision\"\n",
    "    ].mean()\n",
    "    MLA_compare.loc[row_index, \"Val Mean Recall\"] = cv_results[\"test_recall\"].mean()\n",
    "\n",
    "    row_index += 1\n",
    "\n",
    "    clear_output(wait=True)\n",
    "    display(MLA_compare.sort_values(by=[\"Val Mean F1\"], ascending=False))"
   ]
  },
  {
   "cell_type": "markdown",
   "metadata": {
    "id": "r02u3BagwaVg"
   },
   "source": [
    "**AdaBoostClassifier** showed the best performance:\n",
    "\n",
    "\n",
    "*   Val Acc : 0.934\n",
    "*   Val F1 : 0.954\n",
    "*   Val Precision : 0.973\n",
    "*   Val Recall : 0.936\n"
   ]
  },
  {
   "cell_type": "code",
   "execution_count": null,
   "metadata": {
    "executionInfo": {
     "elapsed": 142650,
     "status": "ok",
     "timestamp": 1702991625489,
     "user": {
      "displayName": "Adam Cseresznye",
      "userId": "14068185396312405589"
     },
     "user_tz": -60
    },
    "id": "l4-taAYCvZ5j"
   },
   "outputs": [],
   "source": [
    "model_pipeline = pipeline.Pipeline(\n",
    "    steps=[\n",
    "        (\"pre_processing\", preprocessing.StandardScaler()),\n",
    "        (\n",
    "            \"model\",\n",
    "            lgb.LGBMClassifier(verbose=-1),\n",
    "        ),\n",
    "    ]\n",
    ")\n",
    "\n",
    "model_pipeline.fit(X_train, y_train)\n",
    "predictions = model_pipeline.predict(X_test)"
   ]
  },
  {
   "cell_type": "code",
   "execution_count": null,
   "metadata": {
    "colab": {
     "base_uri": "https://localhost:8080/"
    },
    "executionInfo": {
     "elapsed": 37,
     "status": "ok",
     "timestamp": 1702991625490,
     "user": {
      "displayName": "Adam Cseresznye",
      "userId": "14068185396312405589"
     },
     "user_tz": -60
    },
    "id": "V14HQWl_4tq1",
    "outputId": "f7b84802-52c9-4edd-9e46-88b46dd853d3"
   },
   "outputs": [],
   "source": [
    "print(metrics.classification_report(y_test, predictions))"
   ]
  },
  {
   "cell_type": "code",
   "execution_count": null,
   "metadata": {
    "colab": {
     "base_uri": "https://localhost:8080/",
     "height": 449
    },
    "executionInfo": {
     "elapsed": 1170,
     "status": "ok",
     "timestamp": 1702991690495,
     "user": {
      "displayName": "Adam Cseresznye",
      "userId": "14068185396312405589"
     },
     "user_tz": -60
    },
    "id": "T7q9sdk2-pGP",
    "outputId": "f7c20a23-c604-4c51-ef64-3a158b73f99f"
   },
   "outputs": [],
   "source": [
    "disp = metrics.ConfusionMatrixDisplay(metrics.confusion_matrix(y_test, predictions))\n",
    "disp.plot()\n",
    "plt.savefig(\"ConfusionMatrixDisplay.png\", dpi=300)"
   ]
  },
  {
   "cell_type": "code",
   "execution_count": null,
   "metadata": {
    "executionInfo": {
     "elapsed": 637,
     "status": "ok",
     "timestamp": 1702991674491,
     "user": {
      "displayName": "Adam Cseresznye",
      "userId": "14068185396312405589"
     },
     "user_tz": -60
    },
    "id": "WuE5ag_XLH_j"
   },
   "outputs": [],
   "source": [
    "MLA_compare.to_csv(\"MLA_compare.csv\", index=False)"
   ]
  },
  {
   "cell_type": "code",
   "execution_count": null,
   "metadata": {
    "id": "KPy7oVlWBKNC"
   },
   "outputs": [],
   "source": []
  }
 ],
 "metadata": {
  "colab": {
   "provenance": [
    {
     "file_id": "1FxpkTpMoivSD7nQRkqJsjJ_UhxNTpzed",
     "timestamp": 1700942428337
    }
   ]
  },
  "kernelspec": {
   "display_name": "Python 3",
   "name": "python3"
  },
  "language_info": {
   "codemirror_mode": {
    "name": "ipython",
    "version": 3
   },
   "file_extension": ".py",
   "mimetype": "text/x-python",
   "name": "python",
   "nbconvert_exporter": "python",
   "pygments_lexer": "ipython3",
   "version": "3.9.18"
  },
  "widgets": {
   "application/vnd.jupyter.widget-state+json": {
    "00f82fe405914912b3a3b34923805d5f": {
     "model_module": "@jupyter-widgets/controls",
     "model_module_version": "1.5.0",
     "model_name": "HTMLModel",
     "state": {
      "_dom_classes": [],
      "_model_module": "@jupyter-widgets/controls",
      "_model_module_version": "1.5.0",
      "_model_name": "HTMLModel",
      "_view_count": null,
      "_view_module": "@jupyter-widgets/controls",
      "_view_module_version": "1.5.0",
      "_view_name": "HTMLView",
      "description": "",
      "description_tooltip": null,
      "layout": "IPY_MODEL_9ef29c0b7db94ee98406786cd37f0f09",
      "placeholder": "​",
      "style": "IPY_MODEL_7e6bfb9cd9f7409f9a9f9a9627480717",
      "value": "100%"
     }
    },
    "159c37e6e2744c6aa40201008481be2e": {
     "model_module": "@jupyter-widgets/base",
     "model_module_version": "1.2.0",
     "model_name": "LayoutModel",
     "state": {
      "_model_module": "@jupyter-widgets/base",
      "_model_module_version": "1.2.0",
      "_model_name": "LayoutModel",
      "_view_count": null,
      "_view_module": "@jupyter-widgets/base",
      "_view_module_version": "1.2.0",
      "_view_name": "LayoutView",
      "align_content": null,
      "align_items": null,
      "align_self": null,
      "border": null,
      "bottom": null,
      "display": null,
      "flex": null,
      "flex_flow": null,
      "grid_area": null,
      "grid_auto_columns": null,
      "grid_auto_flow": null,
      "grid_auto_rows": null,
      "grid_column": null,
      "grid_gap": null,
      "grid_row": null,
      "grid_template_areas": null,
      "grid_template_columns": null,
      "grid_template_rows": null,
      "height": null,
      "justify_content": null,
      "justify_items": null,
      "left": null,
      "margin": null,
      "max_height": null,
      "max_width": null,
      "min_height": null,
      "min_width": null,
      "object_fit": null,
      "object_position": null,
      "order": null,
      "overflow": null,
      "overflow_x": null,
      "overflow_y": null,
      "padding": null,
      "right": null,
      "top": null,
      "visibility": null,
      "width": null
     }
    },
    "219058eecdba4d6cb81d4d40e503daf5": {
     "model_module": "@jupyter-widgets/controls",
     "model_module_version": "1.5.0",
     "model_name": "ProgressStyleModel",
     "state": {
      "_model_module": "@jupyter-widgets/controls",
      "_model_module_version": "1.5.0",
      "_model_name": "ProgressStyleModel",
      "_view_count": null,
      "_view_module": "@jupyter-widgets/base",
      "_view_module_version": "1.2.0",
      "_view_name": "StyleView",
      "bar_color": null,
      "description_width": ""
     }
    },
    "36176378257046ac91bf9a37f80f3395": {
     "model_module": "@jupyter-widgets/controls",
     "model_module_version": "1.5.0",
     "model_name": "HBoxModel",
     "state": {
      "_dom_classes": [],
      "_model_module": "@jupyter-widgets/controls",
      "_model_module_version": "1.5.0",
      "_model_name": "HBoxModel",
      "_view_count": null,
      "_view_module": "@jupyter-widgets/controls",
      "_view_module_version": "1.5.0",
      "_view_name": "HBoxView",
      "box_style": "",
      "children": [
       "IPY_MODEL_00f82fe405914912b3a3b34923805d5f",
       "IPY_MODEL_9e32c889e94445fcae3482c2f6c21f8f",
       "IPY_MODEL_6afbace61fd04de7a85859f49f505582"
      ],
      "layout": "IPY_MODEL_6b788272f35d4ee8ad9fe63afe810344"
     }
    },
    "6539f223dd2247b6b69032cfd35ae39a": {
     "model_module": "@jupyter-widgets/controls",
     "model_module_version": "1.5.0",
     "model_name": "DescriptionStyleModel",
     "state": {
      "_model_module": "@jupyter-widgets/controls",
      "_model_module_version": "1.5.0",
      "_model_name": "DescriptionStyleModel",
      "_view_count": null,
      "_view_module": "@jupyter-widgets/base",
      "_view_module_version": "1.2.0",
      "_view_name": "StyleView",
      "description_width": ""
     }
    },
    "6afbace61fd04de7a85859f49f505582": {
     "model_module": "@jupyter-widgets/controls",
     "model_module_version": "1.5.0",
     "model_name": "HTMLModel",
     "state": {
      "_dom_classes": [],
      "_model_module": "@jupyter-widgets/controls",
      "_model_module_version": "1.5.0",
      "_model_name": "HTMLModel",
      "_view_count": null,
      "_view_module": "@jupyter-widgets/controls",
      "_view_module_version": "1.5.0",
      "_view_name": "HTMLView",
      "description": "",
      "description_tooltip": null,
      "layout": "IPY_MODEL_a98657d3f21a4307b9fd65a81a29297e",
      "placeholder": "​",
      "style": "IPY_MODEL_6539f223dd2247b6b69032cfd35ae39a",
      "value": " 8/8 [49:09&lt;00:00, 414.23s/it]"
     }
    },
    "6b788272f35d4ee8ad9fe63afe810344": {
     "model_module": "@jupyter-widgets/base",
     "model_module_version": "1.2.0",
     "model_name": "LayoutModel",
     "state": {
      "_model_module": "@jupyter-widgets/base",
      "_model_module_version": "1.2.0",
      "_model_name": "LayoutModel",
      "_view_count": null,
      "_view_module": "@jupyter-widgets/base",
      "_view_module_version": "1.2.0",
      "_view_name": "LayoutView",
      "align_content": null,
      "align_items": null,
      "align_self": null,
      "border": null,
      "bottom": null,
      "display": null,
      "flex": null,
      "flex_flow": null,
      "grid_area": null,
      "grid_auto_columns": null,
      "grid_auto_flow": null,
      "grid_auto_rows": null,
      "grid_column": null,
      "grid_gap": null,
      "grid_row": null,
      "grid_template_areas": null,
      "grid_template_columns": null,
      "grid_template_rows": null,
      "height": null,
      "justify_content": null,
      "justify_items": null,
      "left": null,
      "margin": null,
      "max_height": null,
      "max_width": null,
      "min_height": null,
      "min_width": null,
      "object_fit": null,
      "object_position": null,
      "order": null,
      "overflow": null,
      "overflow_x": null,
      "overflow_y": null,
      "padding": null,
      "right": null,
      "top": null,
      "visibility": null,
      "width": null
     }
    },
    "7e6bfb9cd9f7409f9a9f9a9627480717": {
     "model_module": "@jupyter-widgets/controls",
     "model_module_version": "1.5.0",
     "model_name": "DescriptionStyleModel",
     "state": {
      "_model_module": "@jupyter-widgets/controls",
      "_model_module_version": "1.5.0",
      "_model_name": "DescriptionStyleModel",
      "_view_count": null,
      "_view_module": "@jupyter-widgets/base",
      "_view_module_version": "1.2.0",
      "_view_name": "StyleView",
      "description_width": ""
     }
    },
    "9e32c889e94445fcae3482c2f6c21f8f": {
     "model_module": "@jupyter-widgets/controls",
     "model_module_version": "1.5.0",
     "model_name": "FloatProgressModel",
     "state": {
      "_dom_classes": [],
      "_model_module": "@jupyter-widgets/controls",
      "_model_module_version": "1.5.0",
      "_model_name": "FloatProgressModel",
      "_view_count": null,
      "_view_module": "@jupyter-widgets/controls",
      "_view_module_version": "1.5.0",
      "_view_name": "ProgressView",
      "bar_style": "success",
      "description": "",
      "description_tooltip": null,
      "layout": "IPY_MODEL_159c37e6e2744c6aa40201008481be2e",
      "max": 8,
      "min": 0,
      "orientation": "horizontal",
      "style": "IPY_MODEL_219058eecdba4d6cb81d4d40e503daf5",
      "value": 8
     }
    },
    "9ef29c0b7db94ee98406786cd37f0f09": {
     "model_module": "@jupyter-widgets/base",
     "model_module_version": "1.2.0",
     "model_name": "LayoutModel",
     "state": {
      "_model_module": "@jupyter-widgets/base",
      "_model_module_version": "1.2.0",
      "_model_name": "LayoutModel",
      "_view_count": null,
      "_view_module": "@jupyter-widgets/base",
      "_view_module_version": "1.2.0",
      "_view_name": "LayoutView",
      "align_content": null,
      "align_items": null,
      "align_self": null,
      "border": null,
      "bottom": null,
      "display": null,
      "flex": null,
      "flex_flow": null,
      "grid_area": null,
      "grid_auto_columns": null,
      "grid_auto_flow": null,
      "grid_auto_rows": null,
      "grid_column": null,
      "grid_gap": null,
      "grid_row": null,
      "grid_template_areas": null,
      "grid_template_columns": null,
      "grid_template_rows": null,
      "height": null,
      "justify_content": null,
      "justify_items": null,
      "left": null,
      "margin": null,
      "max_height": null,
      "max_width": null,
      "min_height": null,
      "min_width": null,
      "object_fit": null,
      "object_position": null,
      "order": null,
      "overflow": null,
      "overflow_x": null,
      "overflow_y": null,
      "padding": null,
      "right": null,
      "top": null,
      "visibility": null,
      "width": null
     }
    },
    "a98657d3f21a4307b9fd65a81a29297e": {
     "model_module": "@jupyter-widgets/base",
     "model_module_version": "1.2.0",
     "model_name": "LayoutModel",
     "state": {
      "_model_module": "@jupyter-widgets/base",
      "_model_module_version": "1.2.0",
      "_model_name": "LayoutModel",
      "_view_count": null,
      "_view_module": "@jupyter-widgets/base",
      "_view_module_version": "1.2.0",
      "_view_name": "LayoutView",
      "align_content": null,
      "align_items": null,
      "align_self": null,
      "border": null,
      "bottom": null,
      "display": null,
      "flex": null,
      "flex_flow": null,
      "grid_area": null,
      "grid_auto_columns": null,
      "grid_auto_flow": null,
      "grid_auto_rows": null,
      "grid_column": null,
      "grid_gap": null,
      "grid_row": null,
      "grid_template_areas": null,
      "grid_template_columns": null,
      "grid_template_rows": null,
      "height": null,
      "justify_content": null,
      "justify_items": null,
      "left": null,
      "margin": null,
      "max_height": null,
      "max_width": null,
      "min_height": null,
      "min_width": null,
      "object_fit": null,
      "object_position": null,
      "order": null,
      "overflow": null,
      "overflow_x": null,
      "overflow_y": null,
      "padding": null,
      "right": null,
      "top": null,
      "visibility": null,
      "width": null
     }
    }
   }
  }
 },
 "nbformat": 4,
 "nbformat_minor": 0
}
