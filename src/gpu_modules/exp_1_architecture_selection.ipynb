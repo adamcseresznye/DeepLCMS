{
 "cells": [
  {
   "cell_type": "markdown",
   "metadata": {
    "id": "M7o1Je1x0XQU"
   },
   "source": [
    "# Mount drive and append path to PYTONPATH\n"
   ]
  },
  {
   "cell_type": "code",
   "execution_count": null,
   "metadata": {
    "colab": {
     "base_uri": "https://localhost:8080/"
    },
    "executionInfo": {
     "elapsed": 1575,
     "status": "ok",
     "timestamp": 1702233941017,
     "user": {
      "displayName": "Adam Cseresznye",
      "userId": "14068185396312405589"
     },
     "user_tz": -60
    },
    "id": "S9vhq3fcEHwj",
    "outputId": "eb219763-57e2-4938-94b8-a2b9caf81460"
   },
   "outputs": [],
   "source": [
    "from google import colab\n",
    "import os\n",
    "import sys\n",
    "\n",
    "colab.drive.mount(\"/content/drive\")\n",
    "sys.path.append(\"/content/drive/MyDrive/DeepLCMS/gpu_modules\")"
   ]
  },
  {
   "cell_type": "markdown",
   "metadata": {
    "id": "B10ISUtcE4nE"
   },
   "source": [
    "# Import and install libraries"
   ]
  },
  {
   "cell_type": "code",
   "execution_count": null,
   "metadata": {
    "executionInfo": {
     "elapsed": 65165,
     "status": "ok",
     "timestamp": 1702233666683,
     "user": {
      "displayName": "Adam Cseresznye",
      "userId": "14068185396312405589"
     },
     "user_tz": -60
    },
    "id": "EaleshIpENkS"
   },
   "outputs": [],
   "source": [
    "%%capture\n",
    "!pip install lightning\n",
    "!pip install timm\n",
    "!pip install torchinfo\n",
    "!pip install scikit-posthocs\n",
    "!pip install optuna\n",
    "!pip install torchcam"
   ]
  },
  {
   "cell_type": "code",
   "execution_count": null,
   "metadata": {
    "executionInfo": {
     "elapsed": 13582,
     "status": "ok",
     "timestamp": 1702233954899,
     "user": {
      "displayName": "Adam Cseresznye",
      "userId": "14068185396312405589"
     },
     "user_tz": -60
    },
    "id": "eQbyJQmAXznU"
   },
   "outputs": [],
   "source": [
    "import colab_functions\n",
    "import colab_utils\n",
    "import pandas as pd\n",
    "import prepare_data\n",
    "import timm\n",
    "import train_NN\n",
    "from lightning.pytorch import loggers, callbacks, tuner, trainer\n",
    "from pathlib import Path"
   ]
  },
  {
   "cell_type": "code",
   "execution_count": null,
   "metadata": {
    "executionInfo": {
     "elapsed": 11,
     "status": "ok",
     "timestamp": 1702219134383,
     "user": {
      "displayName": "Adam Cseresznye",
      "userId": "14068185396312405589"
     },
     "user_tz": -60
    },
    "id": "gvVdxwYfiHwl"
   },
   "outputs": [],
   "source": [
    "# Set the CUDA_VISIBLE_DEVICES environment variable\n",
    "os.environ[\"CUDA_VISIBLE_DEVICES\"] = \"0\""
   ]
  },
  {
   "cell_type": "markdown",
   "metadata": {
    "id": "yjCM3Grt0NWP"
   },
   "source": [
    "# Unzip data"
   ]
  },
  {
   "cell_type": "code",
   "execution_count": null,
   "metadata": {
    "executionInfo": {
     "elapsed": 660,
     "status": "ok",
     "timestamp": 1702219260224,
     "user": {
      "displayName": "Adam Cseresznye",
      "userId": "14068185396312405589"
     },
     "user_tz": -60
    },
    "id": "vYo52Rm30Q-k"
   },
   "outputs": [],
   "source": [
    "!unzip -q \"*.zip\""
   ]
  },
  {
   "cell_type": "markdown",
   "metadata": {
    "id": "EqmzdwGyVGvJ"
   },
   "source": [
    "# Check if GPU is used"
   ]
  },
  {
   "cell_type": "code",
   "execution_count": null,
   "metadata": {
    "colab": {
     "base_uri": "https://localhost:8080/"
    },
    "executionInfo": {
     "elapsed": 10,
     "status": "ok",
     "timestamp": 1702219134383,
     "user": {
      "displayName": "Adam Cseresznye",
      "userId": "14068185396312405589"
     },
     "user_tz": -60
    },
    "id": "Jh0cGdllMv8h",
    "outputId": "158df965-125d-43fa-a4f0-73a6d0326ab5"
   },
   "outputs": [],
   "source": [
    "device = colab_functions.get_device()"
   ]
  },
  {
   "cell_type": "markdown",
   "metadata": {
    "id": "oiz0GYrqCojF"
   },
   "source": [
    "# Taking a look at the list of Timm pretrained models"
   ]
  },
  {
   "cell_type": "code",
   "execution_count": null,
   "metadata": {
    "executionInfo": {
     "elapsed": 337,
     "status": "ok",
     "timestamp": 1702233981922,
     "user": {
      "displayName": "Adam Cseresznye",
      "userId": "14068185396312405589"
     },
     "user_tz": -60
    },
    "id": "_cNwQ-zGzDZn"
   },
   "outputs": [],
   "source": [
    "timm_model_db = pd.read_csv(\n",
    "    \"https://raw.githubusercontent.com/huggingface/pytorch-image-models/main/results/results-imagenet.csv\"\n",
    ").assign(param_count=lambda df: df.param_count.str.replace(\",\", \"\").astype(float))"
   ]
  },
  {
   "cell_type": "code",
   "execution_count": null,
   "metadata": {
    "colab": {
     "base_uri": "https://localhost:8080/"
    },
    "executionInfo": {
     "elapsed": 2,
     "status": "ok",
     "timestamp": 1702233982266,
     "user": {
      "displayName": "Adam Cseresznye",
      "userId": "14068185396312405589"
     },
     "user_tz": -60
    },
    "id": "sFw7B8w-LfEA",
    "outputId": "a8c48d5a-3d83-4f5a-d747-210796878974"
   },
   "outputs": [],
   "source": [
    "timm_family_list = [\n",
    "    \"Aggregating Nested Transformers\",\n",
    "    \"BiT\",\n",
    "    \"Bottleneck Transformers\",\n",
    "    \"CaiT\",\n",
    "    \"CoaT\",\n",
    "    \"CoAtNet\",\n",
    "    \"ConvNeXt\",\n",
    "    \"ConvNeXt-V2\",\n",
    "    \"ConViT\",\n",
    "    \"CspNet\",\n",
    "    \"DeiT\",\n",
    "    \"DeiT-III\",\n",
    "    \"DenseNet\",\n",
    "    \"DLA\",\n",
    "    \"DPN\",\n",
    "    \"EdgeNeXt\",\n",
    "    \"EfficientFormer\",\n",
    "    \"EfficientNet\",\n",
    "    \"FBNet\",\n",
    "    \"MixNet\",\n",
    "    \"MNASNet\",\n",
    "    \"MobileNet\",\n",
    "    \"Single-Path NAS\",\n",
    "    \"TinyNet\",\n",
    "    \"EfficientViT\",\n",
    "    \"EVA\",\n",
    "    \"FastViT\",\n",
    "    \"FlexiViT\",\n",
    "    \"FocalNet\",\n",
    "    \"GCViT\",\n",
    "    \"GhostNet\",\n",
    "    \"GhostNet-V2\",\n",
    "    \"gMLP\",\n",
    "    \"HRNet\",\n",
    "    \"InceptionNeXt\",\n",
    "    \"Inception-V3\",\n",
    "    \"Inception-ResNet-V2\",\n",
    "    \"Lambda\",\n",
    "    \"LeViT\",\n",
    "    \"MaxViT\",\n",
    "    \"MobileNet-V3\",\n",
    "    \"LCNet\",\n",
    "    \"MobileOne\",\n",
    "    \"MobileViT\",\n",
    "    \"MobileViT-V2\",\n",
    "    \"MViT-V2\",\n",
    "    \"NASNet-A\",\n",
    "    \"NesT\",\n",
    "    \"NFNet-F\",\n",
    "    \"NF-RegNet\",\n",
    "    \"PNasNet\",\n",
    "    \"RegNet\",\n",
    "    \"RegNetZ\",\n",
    "    \"RepVGG\",\n",
    "    \"RepGhostNet\",\n",
    "    \"RepViT\",\n",
    "    \"ResMLP\",\n",
    "    \"ResNeXt\",\n",
    "    \"SEResNet\",\n",
    "    \"ResNet-RS\",\n",
    "    \"Res2Net\",\n",
    "    \"ResNeSt\",\n",
    "    \"ReXNet\",\n",
    "    \"Swin\",\n",
    "    \"TResNet\",\n",
    "    \"Twins\",\n",
    "    \"Xception\",\n",
    "    \"XCiT\",\n",
    "]\n",
    "len(timm_family_list)"
   ]
  },
  {
   "cell_type": "code",
   "execution_count": null,
   "metadata": {
    "executionInfo": {
     "elapsed": 261,
     "status": "ok",
     "timestamp": 1702233984959,
     "user": {
      "displayName": "Adam Cseresznye",
      "userId": "14068185396312405589"
     },
     "user_tz": -60
    },
    "id": "HCRWKSopLfGt"
   },
   "outputs": [],
   "source": [
    "cleaned_timm_model_list = pd.Series(timm_family_list).str.replace(\" \", \"\").str.lower()"
   ]
  },
  {
   "cell_type": "code",
   "execution_count": null,
   "metadata": {
    "colab": {
     "base_uri": "https://localhost:8080/",
     "height": 1000
    },
    "executionInfo": {
     "elapsed": 260,
     "status": "ok",
     "timestamp": 1702233985585,
     "user": {
      "displayName": "Adam Cseresznye",
      "userId": "14068185396312405589"
     },
     "user_tz": -60
    },
    "id": "-r0ZHNIK3-4y",
    "outputId": "51f215de-47df-4781-c1cc-94515db03a49"
   },
   "outputs": [],
   "source": [
    "models_by_family = []\n",
    "\n",
    "for model_name in cleaned_timm_model_list:\n",
    "    query_result = (\n",
    "        timm_model_db.query(\"model.str.contains(@model_name) and 10 < param_count < 20\")\n",
    "        .sort_values(by=\"param_count\")\n",
    "        .head(1)\n",
    "    )\n",
    "\n",
    "    if query_result.shape[0] != 0:\n",
    "        result_dict = {\n",
    "            \"model_family\": query_result.model.values[0],\n",
    "            \"minimal_param_model_count\": query_result.param_count.values[0],\n",
    "        }\n",
    "\n",
    "        models_by_family.append(result_dict)\n",
    "\n",
    "models_by_family_df = pd.DataFrame(models_by_family)\n",
    "\n",
    "models_by_family_df.sort_values(by=\"model_family\")"
   ]
  },
  {
   "cell_type": "markdown",
   "metadata": {
    "id": "5OtPJbjSBY48"
   },
   "source": [
    "# Inspect a model and its dataloader\n"
   ]
  },
  {
   "cell_type": "code",
   "execution_count": null,
   "metadata": {
    "id": "PELiE8AGL9C2"
   },
   "outputs": [],
   "source": [
    "PRETRAINED_MODEL = \"convnextv2_nano.fcmae_ft_in22k_in1k_384\"\n",
    "\n",
    "model = train_NN.PretrainedModel(\n",
    "    pretrained_model_name=PRETRAINED_MODEL, learning_rate=0.001\n",
    ")\n",
    "datamodule = prepare_data.LCMSDataModule(\n",
    "    model,\n",
    "    data_dir=Path(\"/content/ST001618_Opium_study_LC_MS_500\"),\n",
    ")\n",
    "model.show_architecture()"
   ]
  },
  {
   "cell_type": "code",
   "execution_count": null,
   "metadata": {
    "id": "6wbI02c8WD-m"
   },
   "outputs": [],
   "source": [
    "datamodule.inspect_dataloader(\"train\")"
   ]
  },
  {
   "cell_type": "markdown",
   "metadata": {
    "id": "fxFOLJIvlm7K"
   },
   "source": [
    "# Training loop"
   ]
  },
  {
   "cell_type": "code",
   "execution_count": null,
   "metadata": {
    "id": "Ua-N7ZDyY06T"
   },
   "outputs": [],
   "source": [
    "for model_name in models_by_family_df.model_family:\n",
    "    try:\n",
    "        model = train_NN.PretrainedModel(\n",
    "            pretrained_model_name=model_name, learning_rate=0.001\n",
    "        )\n",
    "        datamodule = prepare_data.LCMSDataModule(\n",
    "            model,\n",
    "            data_dir=Path(\"/content/ST001618_Opium_study_LC_MS_500\"),\n",
    "        )\n",
    "\n",
    "        logger = loggers.CSVLogger(\"logs\", name=str(model_name))\n",
    "\n",
    "        trainer_ = trainer.Trainer(\n",
    "            max_epochs=50,\n",
    "            log_every_n_steps=1,\n",
    "            logger=logger,\n",
    "            precision=\"16-mixed\",\n",
    "            callbacks=[\n",
    "                callbacks.EarlyStopping(monitor=\"val_loss\", mode=\"min\", patience=10)\n",
    "            ],\n",
    "        )\n",
    "        \"\"\"\n",
    "    Note: tried using auto_lr tuner before each model training\n",
    "    but sometimes got very high lr values, such as 0.5, so\n",
    "    decided not to use this feature.\n",
    "\n",
    "    In case needed, here is the implementation (no need to\n",
    "    change lr manually, this autoupdates it):\n",
    "\n",
    "    # # Create a Tuner\n",
    "    # tuner_ = tuner.Tuner(trainer_)\n",
    "\n",
    "    # # Find optimal learning rate\n",
    "    # lr_finder = tuner_.lr_find(model,\n",
    "    #                            datamodule = datamodule,\n",
    "    #                            early_stop_threshold=None)\n",
    "\n",
    "    # # Extract best learning rate\n",
    "    # best_lr = lr_finder.suggestion()\n",
    "\n",
    "    \"\"\"\n",
    "        # Train the model using the found learning rate\n",
    "        trainer_.fit(model=model, datamodule=datamodule)\n",
    "\n",
    "        del model, datamodule, trainer_\n",
    "\n",
    "    except RuntimeError as e:\n",
    "        print(f\"{model_name} could not run because {e}\")"
   ]
  },
  {
   "cell_type": "code",
   "execution_count": null,
   "metadata": {
    "id": "VCc1uFrRVGtm"
   },
   "outputs": [],
   "source": [
    "results_df = colab_functions.get_experiment_results()\n",
    "results_df.to_csv(\"pretrained_model_results.csv\", index=False)\n",
    "colab_functions.plot_experiment_results(results_df)"
   ]
  },
  {
   "cell_type": "code",
   "execution_count": null,
   "metadata": {
    "executionInfo": {
     "elapsed": 3,
     "status": "ok",
     "timestamp": 1702234078991,
     "user": {
      "displayName": "Adam Cseresznye",
      "userId": "14068185396312405589"
     },
     "user_tz": -60
    },
    "id": "7HsZIQiuk6Vp"
   },
   "outputs": [],
   "source": [
    "df = pd.read_csv(\"pretrained_model_results.csv\")"
   ]
  },
  {
   "cell_type": "code",
   "execution_count": null,
   "metadata": {
    "colab": {
     "base_uri": "https://localhost:8080/",
     "height": 443
    },
    "executionInfo": {
     "elapsed": 32417,
     "status": "ok",
     "timestamp": 1702234197702,
     "user": {
      "displayName": "Adam Cseresznye",
      "userId": "14068185396312405589"
     },
     "user_tz": -60
    },
    "id": "Bn0_oWWxDsxS",
    "outputId": "e43b0a57-72c9-43a8-a4a1-207fe6b14290"
   },
   "outputs": [],
   "source": [
    "colab_functions.plot_experiment_results(df, bbox_to_anchor=(1.2, 0.97))"
   ]
  },
  {
   "cell_type": "code",
   "execution_count": null,
   "metadata": {
    "executionInfo": {
     "elapsed": 3,
     "status": "ok",
     "timestamp": 1702234279902,
     "user": {
      "displayName": "Adam Cseresznye",
      "userId": "14068185396312405589"
     },
     "user_tz": -60
    },
    "id": "uatc6Ot9fYsR"
   },
   "outputs": [],
   "source": [
    "# Filter rows with variable containing 'val'\n",
    "filtered_df = df[df[\"variable\"].str.contains(\"val\")]\n",
    "\n",
    "\n",
    "# Apply aggregation with groupby and calculate max and min values per metric\n",
    "result_df_max = (\n",
    "    filtered_df.groupby([\"variable\", \"experiment\"])\n",
    "    .value.max()\n",
    "    .to_frame()\n",
    "    .reset_index(drop=False)\n",
    "    .query('variable != \"val_loss\"')\n",
    "    .pivot(index=\"experiment\", columns=\"variable\", values=\"value\")\n",
    "    .round(3)\n",
    ")\n",
    "\n",
    "result_df_min = (\n",
    "    filtered_df.groupby([\"variable\", \"experiment\"])\n",
    "    .value.min()\n",
    "    .to_frame()\n",
    "    .reset_index(drop=False)\n",
    "    .query('variable == \"val_loss\"')\n",
    "    .pivot(index=\"experiment\", columns=\"variable\", values=\"value\")\n",
    "    .round(3)\n",
    ")\n",
    "\n",
    "# concatanate the two dfs\n",
    "result_df = pd.concat([result_df_max, result_df_min], axis=\"columns\").sort_values(\n",
    "    by=\"val_loss\"\n",
    ")"
   ]
  },
  {
   "cell_type": "code",
   "execution_count": null,
   "metadata": {
    "colab": {
     "base_uri": "https://localhost:8080/",
     "height": 1000
    },
    "executionInfo": {
     "elapsed": 5,
     "status": "ok",
     "timestamp": 1702234719369,
     "user": {
      "displayName": "Adam Cseresznye",
      "userId": "14068185396312405589"
     },
     "user_tz": -60
    },
    "id": "erdRE6wOEdph",
    "outputId": "38f8d469-6fe1-4ec5-b295-332aca36b94e"
   },
   "outputs": [],
   "source": [
    "result_df.merge(\n",
    "    models_by_family_df, left_index=True, right_on=\"model_family\"\n",
    ").set_index(\"model_family\")"
   ]
  },
  {
   "cell_type": "markdown",
   "metadata": {
    "id": "to9gdCVQGzOB"
   },
   "source": [
    "# Candidates for next experiment"
   ]
  },
  {
   "cell_type": "code",
   "execution_count": null,
   "metadata": {
    "colab": {
     "base_uri": "https://localhost:8080/",
     "height": 424
    },
    "executionInfo": {
     "elapsed": 4,
     "status": "ok",
     "timestamp": 1702236862343,
     "user": {
      "displayName": "Adam Cseresznye",
      "userId": "14068185396312405589"
     },
     "user_tz": -60
    },
    "id": "mzxTQt_7GKhp",
    "outputId": "224ee81d-17f3-4880-df15-5b25940e5209"
   },
   "outputs": [],
   "source": [
    "top_5_model_families = [\"mobileone\", \"densenet\", \"mobilevitv2\", \"convnext\", \"repvit\"]\n",
    "\n",
    "top_models_by_family = []\n",
    "for model_family in top_5_model_families:\n",
    "    query_result = timm_model_db.query(\"model.str.contains(@model_family)\")\n",
    "    top_models_by_family.append(query_result)\n",
    "\n",
    "pd.concat(top_models_by_family)"
   ]
  }
 ],
 "metadata": {
  "colab": {
   "provenance": [
    {
     "file_id": "1FxpkTpMoivSD7nQRkqJsjJ_UhxNTpzed",
     "timestamp": 1700942428337
    }
   ]
  },
  "kernelspec": {
   "display_name": "Python 3",
   "name": "python3"
  },
  "language_info": {
   "codemirror_mode": {
    "name": "ipython",
    "version": 3
   },
   "file_extension": ".py",
   "mimetype": "text/x-python",
   "name": "python",
   "nbconvert_exporter": "python",
   "pygments_lexer": "ipython3",
   "version": "3.9.18"
  }
 },
 "nbformat": 4,
 "nbformat_minor": 0
}
