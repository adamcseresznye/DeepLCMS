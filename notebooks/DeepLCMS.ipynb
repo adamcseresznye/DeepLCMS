{
 "cells": [
  {
   "cell_type": "raw",
   "id": "ecb309f7",
   "metadata": {},
   "source": [
    "---\n",
    "title: 'DeepLCMS: Leveraging transfer learning for the classification of pseudo images in mass spectrometry-based analysis.'\n",
    "author: Adam Cseresznye\n",
    "date: '2023-19-12'\n",
    "categories:\n",
    "  - DeepLCMS\n",
    "jupyter: python3\n",
    "toc: true\n",
    "format:\n",
    "  html:\n",
    "    code-fold: true\n",
    "    code-tools: true\n",
    "---"
   ]
  },
  {
   "cell_type": "markdown",
   "id": "aab5a692-e95d-4785-8d85-ed1cc10b4056",
   "metadata": {
    "tags": []
   },
   "source": [
    "![Representative examples of DeepLCMS predictions accompanied by their corresponding probability estimates.](../data/experiment_results/exp-5-final_evaluation/prediction_matrix.png){fig-align=\"center\" width=50%}\n"
   ]
  },
  {
   "cell_type": "markdown",
   "id": "e955da8b-ac66-47c9-95ba-2c66f68fe821",
   "metadata": {},
   "source": [
    "Welcome to **DeepLCMS**! This project harnesses the power of deep learning to classify mass spectrometry-based pseudo images. The fully trained neural network empowers researchers to perform supervised classifications using a pretrained ResNeXt network. It also facilitates insights into the network's decision-making process via the TorchCam library, assisting researchers in narrowing down potential compound classes of interest based on retention time and molecular weight."
   ]
  },
  {
   "cell_type": "markdown",
   "id": "7af189aa",
   "metadata": {},
   "source": [
    "# Introduction"
   ]
  },
  {
   "cell_type": "markdown",
   "id": "1db8e967-a3d9-4e57-a0f0-a034d3160f75",
   "metadata": {},
   "source": [
    "While computer vision has gained widespread adoption in various aspects of our lives, its application in medical imaging and biosciences has lagged behind, primarily due to limitations in clinical dataset size, accessibility, privacy concerns, experimental complexity, and high acquisition costs. For such applications, transfer learning has emerged as a potential solution. This technique is particularly effective with small datasets, requiring fewer computational resources while achieving good classification accuracy compared to models built from scratch. Transfer learning involves a two-step process. Initially, a robust data representation is learned by training a model on a dataset comprising a vast amount of annotated data encompassing numerous categories (ImageNet for example). This representation is then utilized to construct a new model based on a smaller annotated dataset containing fewer categories. The model can be trained either by exclusively training the final decision layer(s) or by further fine-tuning the entire model with the reduced category set.\n",
    "\n",
    "This project was designed to identify the most suitable architecture family, drawn from the timm library, for our specific task. Within this selected family, we aimed to pinpoint the optimal model, including its appropriate size, based on validation metrics such as F1, precision, and recall throughout the training process. "
   ]
  },
  {
   "cell_type": "markdown",
   "id": "97dc28ea-df1c-4007-bf52-327b8a7ec8e1",
   "metadata": {},
   "source": [
    "![Proposed conditions for evaluating selected image characteristics as hyperparameters.](../data/external/experimental_plan.jpg){#fig-1 fig-align=\"center\" width=50%}\n"
   ]
  },
  {
   "cell_type": "markdown",
   "id": "3b4ade18-4cc3-4eca-aa38-48f089a609e1",
   "metadata": {},
   "source": [
    "# How to use the App\n",
    "\n",
    "1. Upload your CP-Seeker output files [here](https://cpseeker-postprocess.streamlit.app/).\n",
    "2. Optionally adjust the confidence level, which is set to 80% by default.\n",
    "3. Download the filtered and merged dataset.\n",
    "\n",
    "# Get in touch\n",
    "\n",
    "Did the app help with your research? Any ideas for making it better? Get in touch! I would love to hear from you."
   ]
  }
 ],
 "metadata": {
  "kernelspec": {
   "display_name": "Python 3 (ipykernel)",
   "language": "python",
   "name": "python3"
  },
  "language_info": {
   "codemirror_mode": {
    "name": "ipython",
    "version": 3
   },
   "file_extension": ".py",
   "mimetype": "text/x-python",
   "name": "python",
   "nbconvert_exporter": "python",
   "pygments_lexer": "ipython3",
   "version": "3.9.18"
  },
  "toc-autonumbering": false,
  "toc-showcode": false,
  "toc-showmarkdowntxt": false,
  "varInspector": {
   "cols": {
    "lenName": 16,
    "lenType": 16,
    "lenVar": 40
   },
   "kernels_config": {
    "python": {
     "delete_cmd_postfix": "",
     "delete_cmd_prefix": "del ",
     "library": "var_list.py",
     "varRefreshCmd": "print(var_dic_list())"
    },
    "r": {
     "delete_cmd_postfix": ") ",
     "delete_cmd_prefix": "rm(",
     "library": "var_list.r",
     "varRefreshCmd": "cat(var_dic_list()) "
    }
   },
   "types_to_exclude": [
    "module",
    "function",
    "builtin_function_or_method",
    "instance",
    "_Feature"
   ],
   "window_display": false
  }
 },
 "nbformat": 4,
 "nbformat_minor": 5
}
