{
 "cells": [
  {
   "cell_type": "raw",
   "id": "ecb309f7",
   "metadata": {},
   "source": [
    "---\n",
    "title: 'DeepLCMS: Leveraging transfer learning for the classification of pseudo images in mass spectrometry-based analysis.'\n",
    "author: Adam Cseresznye\n",
    "date: '2023-19-12'\n",
    "categories:\n",
    "  - DeepLCMS\n",
    "jupyter: python3\n",
    "toc: true\n",
    "format:\n",
    "  html:\n",
    "    code-fold: true\n",
    "    code-tools: true\n",
    "---"
   ]
  },
  {
   "cell_type": "markdown",
   "id": "aab5a692-e95d-4785-8d85-ed1cc10b4056",
   "metadata": {
    "tags": []
   },
   "source": [
    "![Representative examples of DeepLCMS predictions accompanied by their corresponding probability estimates.](../data/experiment_results/exp-5-final_evaluation/prediction_matrix.png){fig-align=\"center\" width=50%}\n"
   ]
  },
  {
   "cell_type": "markdown",
   "id": "e955da8b-ac66-47c9-95ba-2c66f68fe821",
   "metadata": {},
   "source": [
    "Welcome to **DeepLCMS**! This project harnesses the power of deep learning to classify mass spectrometry-based pseudo images. The fully trained neural network empowers researchers to perform supervised classifications using a pretrained ResNeXt network. It also facilitates insights into the network's decision-making process via the TorchCam library, assisting researchers in narrowing down potential compound classes of interest based on retention time and molecular weight."
   ]
  },
  {
   "cell_type": "markdown",
   "id": "7af189aa",
   "metadata": {},
   "source": [
    "# Introduction"
   ]
  },
  {
   "cell_type": "markdown",
   "id": "821aab42-6ea3-4277-9c47-01586fc1b53f",
   "metadata": {},
   "source": [
    "While computer vision has gained widespread adoption in various aspects of our lives[@dobson_birth_2023], its application in medical imaging and biosciences has lagged behind, primarily due to limitations in clinical dataset size, accessibility, privacy concerns, experimental complexity, and high acquisition costs. For such applications, transfer learning has emerged as a potential solution[@seddiki_towards_2020]. This technique is particularly effective with small datasets, requiring fewer computational resources while achieving good classification accuracy compared to models built from scratch. Transfer learning involves a two-step process. Initially, a robust data representation is learned by training a model on a dataset comprising a vast amount of annotated data encompassing numerous categories (ImageNet for example). This representation is then utilized to construct a new model based on a smaller annotated dataset containing fewer categories. The model can be trained either by exclusively training the final decision layer(s) or by further fine-tuning the entire model with the reduced category set.\n",
    "\n",
    "## Application of Pretrained Neural Networks for Mass Spectrometry Data\n",
    "\n",
    "The use of pre-trained neural networks for mass spectrometry data analysis is a relatively new field, with only a handful of publications available to date. These studies have demonstrated the potential of deep learning models to extract meaningful information from raw mass spectrometry data and perform predictive tasks without the need for protein quantification.\n",
    "\n",
    "## Previous Research\n",
    "\n",
    "In 2020, a study utilized MALDI-TOF images of rat brain samples to assess the ability of three different Convolutional Neural Networks (CNN) architectures – LeNet, Lecun, and VGG9 – to differentiate between different types of cancers based on their molecular profiles.\n",
    "\n",
    "In 2021, Cadow et al. explored the use of pre-trained networks for the classification of tumors from normal prostate biopsies derived from SWATH-MS data. They delved into the potential of deep learning models for analyzing raw mass spectrometry data and performing predictive tasks without the need for protein quantification. To process raw MS images, the authors employed pre-trained neural network models to convert them into numerical vectors, enabling further processing. They then compared several classifiers, including logistic regression, support vector machines, and random forests, to accurately predict the phenotype.\n",
    "\n",
    "In 2022, deepPseudoMSI, a deep learning-based pseudo-mass spectrometry imaging platform, was released to predict gestational age in pregnant women based on LC-MS-based metabolomics data. This application consists of two main components:\r\n",
    "\r\n",
    "Pseudo-MS Image Converter: This component converts LC-MS data into pseudo-images that can be processed by deep learning models. This process involves transforming mass spectrometry data into 2D images, where each pixel represents the intensity of a specific molecular feature.\n",
    "\n",
    "DeepLCMS Project\n",
    "\n",
    "The DeepLCMS project aims to provide researchers with a reproducible source code for leveraging deep learning for mass spectrometry data analysis. It distinguishes itself from previous studies by:\n",
    "\n",
    "Comparing Diverse Architecture Families: Employing a broader range of architecture families, including cutting-edge architectures like vision transformers.\n",
    "\n",
    "Hyperparameter Tuning: Conducting basic hyperparameter tuning to optimize the learning rate, optimizer, and learning rate scheduler – crucial aspects beyond the architecture itself.\n",
    "\n",
    "Image Quality Analysis: Investigating the impact of image quality on validation metrics, examining image sharpness and image augmentation techniques.\n",
    "\n",
    "Regularization Techniques: Employing regularization techniques like random-tilting images and random erasing during training to improve model generalization.\n",
    "\n",
    "Interpreting Pretrained Network Decisions: Analyzing how the pre-trained network makes its decisions using TorchVision.\n",
    "\n",
    "The DeepLCMS project aims to identify the most suitable architecture family from the timm library for a specific task and determine the optimal model size within that family based on validation metrics such as F1, precision, and recall throughout the training process. This approach aims to provide researchers with a valuable tool for harnessing the power of deep learning in mass spectrometry data analysis.\n"
   ]
  },
  {
   "cell_type": "markdown",
   "id": "97dc28ea-df1c-4007-bf52-327b8a7ec8e1",
   "metadata": {},
   "source": [
    "![Proposed conditions for evaluating selected image characteristics as hyperparameters.](../data/external/experimental_plan.jpg){#fig-1 fig-align=\"center\" width=50%}\n"
   ]
  },
  {
   "cell_type": "markdown",
   "id": "3b4ade18-4cc3-4eca-aa38-48f089a609e1",
   "metadata": {},
   "source": [
    "# How to use the App\n",
    "\n",
    "1. Upload your CP-Seeker output files [here](https://cpseeker-postprocess.streamlit.app/).\n",
    "2. Optionally adjust the confidence level, which is set to 80% by default.\n",
    "3. Download the filtered and merged dataset.\n",
    "\n",
    "# Get in touch\n",
    "\n",
    "Did the app help with your research? Any ideas for making it better? Get in touch! I would love to hear from you."
   ]
  }
 ],
 "metadata": {
  "kernelspec": {
   "display_name": "Python 3 (ipykernel)",
   "language": "python",
   "name": "python3"
  },
  "language_info": {
   "codemirror_mode": {
    "name": "ipython",
    "version": 3
   },
   "file_extension": ".py",
   "mimetype": "text/x-python",
   "name": "python",
   "nbconvert_exporter": "python",
   "pygments_lexer": "ipython3",
   "version": "3.9.18"
  },
  "toc-autonumbering": false,
  "toc-showcode": false,
  "toc-showmarkdowntxt": false,
  "varInspector": {
   "cols": {
    "lenName": 16,
    "lenType": 16,
    "lenVar": 40
   },
   "kernels_config": {
    "python": {
     "delete_cmd_postfix": "",
     "delete_cmd_prefix": "del ",
     "library": "var_list.py",
     "varRefreshCmd": "print(var_dic_list())"
    },
    "r": {
     "delete_cmd_postfix": ") ",
     "delete_cmd_prefix": "rm(",
     "library": "var_list.r",
     "varRefreshCmd": "cat(var_dic_list()) "
    }
   },
   "types_to_exclude": [
    "module",
    "function",
    "builtin_function_or_method",
    "instance",
    "_Feature"
   ],
   "window_display": false
  }
 },
 "nbformat": 4,
 "nbformat_minor": 5
}
