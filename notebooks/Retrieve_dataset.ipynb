{
 "cells": [
  {
   "cell_type": "code",
   "execution_count": 1,
   "id": "542cb42f-d723-46d4-bd64-6afa270b999d",
   "metadata": {},
   "outputs": [],
   "source": [
    "from typing import Optional\n",
    "\n",
    "import DeepLCMS_utils as utils\n",
    "import pandas as pd\n",
    "from DeepLCMS_data import inspect_database"
   ]
  },
  {
   "cell_type": "markdown",
   "id": "56c1be32-d7ae-449d-bd0c-41c76dc77551",
   "metadata": {},
   "source": [
    "# Inspecting the list of available metabolomics studies from the Metabolomics Workbench website"
   ]
  },
  {
   "cell_type": "code",
   "execution_count": 2,
   "id": "10893ed6-6ddb-4eb1-9f56-4c0c532bd875",
   "metadata": {},
   "outputs": [],
   "source": [
    "datasets = inspect_database.return_metabolomics_workbench_studies()"
   ]
  },
  {
   "cell_type": "code",
   "execution_count": 3,
   "id": "612bff35-b879-4aad-bd1d-0cf8d1d6ffef",
   "metadata": {},
   "outputs": [
    {
     "data": {
      "text/html": [
       "<div>\n",
       "<style scoped>\n",
       "    .dataframe tbody tr th:only-of-type {\n",
       "        vertical-align: middle;\n",
       "    }\n",
       "\n",
       "    .dataframe tbody tr th {\n",
       "        vertical-align: top;\n",
       "    }\n",
       "\n",
       "    .dataframe thead th {\n",
       "        text-align: right;\n",
       "    }\n",
       "</style>\n",
       "<table border=\"1\" class=\"dataframe\">\n",
       "  <thead>\n",
       "    <tr style=\"text-align: right;\">\n",
       "      <th></th>\n",
       "      <th>Study ID</th>\n",
       "      <th>Study Title</th>\n",
       "      <th>Species</th>\n",
       "      <th>Institute</th>\n",
       "      <th>Analysis</th>\n",
       "      <th>Released</th>\n",
       "      <th>Version</th>\n",
       "      <th>Samples</th>\n",
       "      <th>format</th>\n",
       "      <th>file_size_number</th>\n",
       "      <th>file_size_metric</th>\n",
       "    </tr>\n",
       "  </thead>\n",
       "  <tbody>\n",
       "    <tr>\n",
       "      <th>349</th>\n",
       "      <td>ST002482</td>\n",
       "      <td>Non-targeted screening of natural products fro...</td>\n",
       "      <td>Alternaria / Aspergillus / Botrytis / Anthosto...</td>\n",
       "      <td>Agriculture and Agri-Food Canada</td>\n",
       "      <td>LC-MS#</td>\n",
       "      <td>2023-07-02</td>\n",
       "      <td>1</td>\n",
       "      <td>325</td>\n",
       "      <td>mzML</td>\n",
       "      <td>1.7</td>\n",
       "      <td>G</td>\n",
       "    </tr>\n",
       "    <tr>\n",
       "      <th>80</th>\n",
       "      <td>ST002790</td>\n",
       "      <td>Community metabolomes reflect taxon-specific f...</td>\n",
       "      <td>Marine plankton</td>\n",
       "      <td>University of Washington</td>\n",
       "      <td>LC-MS#</td>\n",
       "      <td>2023-08-07</td>\n",
       "      <td>1</td>\n",
       "      <td>232</td>\n",
       "      <td>mzML</td>\n",
       "      <td>3.1</td>\n",
       "      <td>G</td>\n",
       "    </tr>\n",
       "    <tr>\n",
       "      <th>383</th>\n",
       "      <td>ST002432</td>\n",
       "      <td>Metabolic impacts of metformin to seasonal inf...</td>\n",
       "      <td>Homo sapiens</td>\n",
       "      <td>The Jackson Laboratory for Genomic Medicine</td>\n",
       "      <td>LC-MS#</td>\n",
       "      <td>2023-01-20</td>\n",
       "      <td>1</td>\n",
       "      <td>360</td>\n",
       "      <td>mzML</td>\n",
       "      <td>3.9</td>\n",
       "      <td>G</td>\n",
       "    </tr>\n",
       "    <tr>\n",
       "      <th>612</th>\n",
       "      <td>ST002168</td>\n",
       "      <td>Multi-omics analyses of 398 foxtail millet acc...</td>\n",
       "      <td>Foxtail millet (Setaria italica)</td>\n",
       "      <td>Shanxi Agricultural University</td>\n",
       "      <td>LC-MS#</td>\n",
       "      <td>2022-05-31</td>\n",
       "      <td>1</td>\n",
       "      <td>1088</td>\n",
       "      <td>mzML</td>\n",
       "      <td>4.9</td>\n",
       "      <td>G</td>\n",
       "    </tr>\n",
       "    <tr>\n",
       "      <th>848</th>\n",
       "      <td>ST001926</td>\n",
       "      <td>Modular evolution of the Drosophila metabolome</td>\n",
       "      <td>Drosophila melanogaster</td>\n",
       "      <td>University of Washington</td>\n",
       "      <td>LC-MS#</td>\n",
       "      <td>2022-02-02</td>\n",
       "      <td>1</td>\n",
       "      <td>261</td>\n",
       "      <td>mzXML</td>\n",
       "      <td>5.2</td>\n",
       "      <td>G</td>\n",
       "    </tr>\n",
       "  </tbody>\n",
       "</table>\n",
       "</div>"
      ],
      "text/plain": [
       "     Study ID                                        Study Title  \\\n",
       "349  ST002482  Non-targeted screening of natural products fro...   \n",
       "80   ST002790  Community metabolomes reflect taxon-specific f...   \n",
       "383  ST002432  Metabolic impacts of metformin to seasonal inf...   \n",
       "612  ST002168  Multi-omics analyses of 398 foxtail millet acc...   \n",
       "848  ST001926     Modular evolution of the Drosophila metabolome   \n",
       "\n",
       "                                               Species  \\\n",
       "349  Alternaria / Aspergillus / Botrytis / Anthosto...   \n",
       "80                                     Marine plankton   \n",
       "383                                       Homo sapiens   \n",
       "612                   Foxtail millet (Setaria italica)   \n",
       "848                            Drosophila melanogaster   \n",
       "\n",
       "                                       Institute Analysis    Released Version  \\\n",
       "349             Agriculture and Agri-Food Canada   LC-MS#  2023-07-02       1   \n",
       "80                      University of Washington   LC-MS#  2023-08-07       1   \n",
       "383  The Jackson Laboratory for Genomic Medicine   LC-MS#  2023-01-20       1   \n",
       "612               Shanxi Agricultural University   LC-MS#  2022-05-31       1   \n",
       "848                     University of Washington   LC-MS#  2022-02-02       1   \n",
       "\n",
       "     Samples format  file_size_number file_size_metric  \n",
       "349      325   mzML               1.7                G  \n",
       "80       232   mzML               3.1                G  \n",
       "383      360   mzML               3.9                G  \n",
       "612     1088   mzML               4.9                G  \n",
       "848      261  mzXML               5.2                G  "
      ]
     },
     "execution_count": 3,
     "metadata": {},
     "output_type": "execute_result"
    }
   ],
   "source": [
    "inspect_database.filter_and_sort_datasets(datasets, min_samples=200).head(5)"
   ]
  },
  {
   "cell_type": "markdown",
   "id": "89669310-79c2-4858-9adc-7910dfd8627e",
   "metadata": {},
   "source": [
    "# Taking a look at ST002432"
   ]
  },
  {
   "cell_type": "code",
   "execution_count": 4,
   "id": "9cd3c136-45e6-42ce-8f13-73758c5c7bed",
   "metadata": {},
   "outputs": [],
   "source": [
    "sample_list = (\n",
    "    pd.read_html(\n",
    "        \"https://www.metabolomicsworkbench.org/data/subject_fetch.php?STUDY_ID=ST002432&STUDY_TYPE=MS&RESULT_TYPE=5\"\n",
    "    )[1]\n",
    "    .rename(columns=lambda x: x.replace(\" \", \"_\").lower().split(\":\")[0])\n",
    "    .drop(columns=[\"subject_name\", \"sample_data\"])\n",
    "    .assign(sample_name=lambda df: df.sample_name.str.split(\".\", expand=True)[0])\n",
    ")"
   ]
  },
  {
   "cell_type": "code",
   "execution_count": 5,
   "id": "6636276a-b9d7-44a1-b535-dce687e9b538",
   "metadata": {},
   "outputs": [
    {
     "name": "stdout",
     "output_type": "stream",
     "text": [
      "mb_sample_id\n",
      "SA243004    1\n",
      "SA243246    1\n",
      "SA243260    1\n",
      "SA243244    1\n",
      "SA243262    1\n",
      "           ..\n",
      "SA243103    1\n",
      "SA243106    1\n",
      "SA243113    1\n",
      "SA243091    1\n",
      "SA243329    1\n",
      "Name: count, Length: 360, dtype: int64\n",
      "\n",
      "\n",
      "sample_name\n",
      "YW_20201206_071    1\n",
      "YW_20201206_112    1\n",
      "YW_20201206_096    1\n",
      "YW_20201206_095    1\n",
      "YW_20201206_086    1\n",
      "                  ..\n",
      "YW_20201210_247    1\n",
      "YW_20201210_238    1\n",
      "YW_20201210_237    1\n",
      "YW_20201210_192    1\n",
      "YW_20201210_256    1\n",
      "Name: count, Length: 360, dtype: int64\n",
      "\n",
      "\n",
      "visit\n",
      "V1    60\n",
      "V2    60\n",
      "V3    60\n",
      "V4    60\n",
      "V5    60\n",
      "V6    60\n",
      "Name: count, dtype: int64\n",
      "\n",
      "\n",
      "treatment\n",
      "Metformin    192\n",
      "Placebo      168\n",
      "Name: count, dtype: int64\n",
      "\n",
      "\n"
     ]
    }
   ],
   "source": [
    "for column in sample_list:\n",
    "    print(sample_list[column].value_counts(), end=3 * \"\\n\")"
   ]
  },
  {
   "cell_type": "markdown",
   "id": "b4cd72ec-ca81-44b6-88a9-be376869b268",
   "metadata": {},
   "source": [
    "When first checking the data, we noticed a mismatch in the number of files listed on the Metabolomics Workbench website. They claimed there were 360 mzML files, but after downloading and unzipping, we ended up with over 500 files. Since we're unsure about the diagnosis for the extra samples, we'll exclude them from our study by removing them."
   ]
  },
  {
   "cell_type": "code",
   "execution_count": 6,
   "id": "1d905404-ef37-4889-ba9d-d03dd6b9e0e4",
   "metadata": {},
   "outputs": [
    {
     "name": "stdout",
     "output_type": "stream",
     "text": [
      "Couldn't find program: 'echo'\n"
     ]
    }
   ],
   "source": [
    "%%script echo skipping\n",
    "\n",
    "data_path = utils.Configuration.RAW_DATA_PATH.joinpath(\"ST002432_IIV_Metformin\")\n",
    "\n",
    "MS_files = pd.Series([item.stem for item in list(data_path.rglob(\"*.mzML\"))])\n",
    "print(\n",
    "    f\" Number of raw data files dowloaded from Metabolomics Workbench : {len(MS_files)}\"\n",
    ")\n",
    "print(\n",
    "    f\" Number of unique raw data files amongst them : {(MS_files.str[:15].value_counts().sort_values(ascending=False).values == 1).sum()}\"\n",
    ")"
   ]
  },
  {
   "cell_type": "code",
   "execution_count": 7,
   "id": "aadddb4e-aa94-468e-9d0c-d8a573dbda4a",
   "metadata": {},
   "outputs": [
    {
     "name": "stdout",
     "output_type": "stream",
     "text": [
      "Couldn't find program: 'echo'\n"
     ]
    }
   ],
   "source": [
    "%%script echo skipping\n",
    "\n",
    "# identify files that are unique to the ones saved on the hard drive, we will delete these\n",
    "files_to_delete = MS_files[~MS_files.isin(sample_list.sample_name)]\n",
    "\n",
    "# delete the surplus files\n",
    "[\n",
    "    item.unlink()\n",
    "    for item in list(data_path.rglob(\"*.mzML\"))\n",
    "    if item.stem in list(files_to_delete)\n",
    "]"
   ]
  },
  {
   "cell_type": "code",
   "execution_count": 8,
   "id": "f7b1acc9-436c-43e1-85aa-37272ddcc2f8",
   "metadata": {},
   "outputs": [
    {
     "name": "stdout",
     "output_type": "stream",
     "text": [
      " Number of raw data files dowloaded from Metabolomics Workbench : 355\n"
     ]
    },
    {
     "data": {
      "text/plain": [
       "0      YW_20201206_033_20201208153824\n",
       "1      YW_20201206_034_20201208154344\n",
       "2      YW_20201206_035_20201208154904\n",
       "3      YW_20201206_036_20201208155425\n",
       "4      YW_20201206_037_20201208155945\n",
       "                    ...              \n",
       "350                   YW_20201210_252\n",
       "351                   YW_20201210_253\n",
       "352                   YW_20201210_254\n",
       "353                   YW_20201210_255\n",
       "354                   YW_20201210_256\n",
       "Length: 355, dtype: object"
      ]
     },
     "execution_count": 8,
     "metadata": {},
     "output_type": "execute_result"
    }
   ],
   "source": [
    "data_path = utils.Configuration.RAW_DATA_PATH.joinpath(\"ST002432_IIV_Metformin\")\n",
    "\n",
    "MS_files = pd.Series([item.stem for item in list(data_path.rglob(\"*.mzML\"))])\n",
    "print(\n",
    "    f\" Number of raw data files dowloaded from Metabolomics Workbench : {len(MS_files)}\"\n",
    ")\n",
    "\n",
    "MS_files[MS_files.isin(sample_list.sample_name)]"
   ]
  },
  {
   "cell_type": "markdown",
   "id": "6707c4c7-87f7-4a6f-adfb-e0969fd5f71f",
   "metadata": {},
   "source": [
    "As observed, we've saved 355 files on disk, while the Metabolomics Workbench website lists 360, indicating 5 missing files. Not a problem. Our plan is to filter out those 5 missing sample IDs from our sample list and then save the updated sample list to disk."
   ]
  },
  {
   "cell_type": "code",
   "execution_count": 10,
   "id": "9e36d9cf-f674-4d95-8b07-3a2aa73af70b",
   "metadata": {},
   "outputs": [],
   "source": [
    "final_sample_list = sample_list[sample_list.sample_name.isin(MS_files)]\n",
    "\n",
    "final_sample_list.to_parquet(\n",
    "    f\"{utils.Configuration.RAW_DATA_PATH.joinpath('sample_list')}.parquet.gzip\",\n",
    "    compression=\"gzip\",\n",
    ")"
   ]
  },
  {
   "cell_type": "code",
   "execution_count": 11,
   "id": "dd42356c-7fb4-4d69-971f-db64145bcade",
   "metadata": {},
   "outputs": [
    {
     "data": {
      "text/html": [
       "<div>\n",
       "<style scoped>\n",
       "    .dataframe tbody tr th:only-of-type {\n",
       "        vertical-align: middle;\n",
       "    }\n",
       "\n",
       "    .dataframe tbody tr th {\n",
       "        vertical-align: top;\n",
       "    }\n",
       "\n",
       "    .dataframe thead th {\n",
       "        text-align: right;\n",
       "    }\n",
       "</style>\n",
       "<table border=\"1\" class=\"dataframe\">\n",
       "  <thead>\n",
       "    <tr style=\"text-align: right;\">\n",
       "      <th></th>\n",
       "      <th>mb_sample_id</th>\n",
       "      <th>sample_name</th>\n",
       "      <th>visit</th>\n",
       "      <th>treatment</th>\n",
       "    </tr>\n",
       "  </thead>\n",
       "  <tbody>\n",
       "    <tr>\n",
       "      <th>0</th>\n",
       "      <td>SA243004</td>\n",
       "      <td>YW_20201206_071</td>\n",
       "      <td>V1</td>\n",
       "      <td>Metformin</td>\n",
       "    </tr>\n",
       "    <tr>\n",
       "      <th>1</th>\n",
       "      <td>SA243001</td>\n",
       "      <td>YW_20201206_072</td>\n",
       "      <td>V1</td>\n",
       "      <td>Metformin</td>\n",
       "    </tr>\n",
       "    <tr>\n",
       "      <th>2</th>\n",
       "      <td>SA243002</td>\n",
       "      <td>YW_20201206_089</td>\n",
       "      <td>V1</td>\n",
       "      <td>Metformin</td>\n",
       "    </tr>\n",
       "    <tr>\n",
       "      <th>3</th>\n",
       "      <td>SA243010</td>\n",
       "      <td>YW_20201206_090</td>\n",
       "      <td>V1</td>\n",
       "      <td>Metformin</td>\n",
       "    </tr>\n",
       "    <tr>\n",
       "      <th>4</th>\n",
       "      <td>SA242999</td>\n",
       "      <td>YW_20201206_101</td>\n",
       "      <td>V1</td>\n",
       "      <td>Metformin</td>\n",
       "    </tr>\n",
       "    <tr>\n",
       "      <th>...</th>\n",
       "      <td>...</td>\n",
       "      <td>...</td>\n",
       "      <td>...</td>\n",
       "      <td>...</td>\n",
       "    </tr>\n",
       "    <tr>\n",
       "      <th>355</th>\n",
       "      <td>SA243335</td>\n",
       "      <td>YW_20201210_186</td>\n",
       "      <td>V6</td>\n",
       "      <td>Placebo</td>\n",
       "    </tr>\n",
       "    <tr>\n",
       "      <th>356</th>\n",
       "      <td>SA243340</td>\n",
       "      <td>YW_20201210_233</td>\n",
       "      <td>V6</td>\n",
       "      <td>Placebo</td>\n",
       "    </tr>\n",
       "    <tr>\n",
       "      <th>357</th>\n",
       "      <td>SA243345</td>\n",
       "      <td>YW_20201210_234</td>\n",
       "      <td>V6</td>\n",
       "      <td>Placebo</td>\n",
       "    </tr>\n",
       "    <tr>\n",
       "      <th>358</th>\n",
       "      <td>SA243343</td>\n",
       "      <td>YW_20201210_255</td>\n",
       "      <td>V6</td>\n",
       "      <td>Placebo</td>\n",
       "    </tr>\n",
       "    <tr>\n",
       "      <th>359</th>\n",
       "      <td>SA243329</td>\n",
       "      <td>YW_20201210_256</td>\n",
       "      <td>V6</td>\n",
       "      <td>Placebo</td>\n",
       "    </tr>\n",
       "  </tbody>\n",
       "</table>\n",
       "<p>355 rows × 4 columns</p>\n",
       "</div>"
      ],
      "text/plain": [
       "    mb_sample_id      sample_name visit  treatment\n",
       "0       SA243004  YW_20201206_071    V1  Metformin\n",
       "1       SA243001  YW_20201206_072    V1  Metformin\n",
       "2       SA243002  YW_20201206_089    V1  Metformin\n",
       "3       SA243010  YW_20201206_090    V1  Metformin\n",
       "4       SA242999  YW_20201206_101    V1  Metformin\n",
       "..           ...              ...   ...        ...\n",
       "355     SA243335  YW_20201210_186    V6    Placebo\n",
       "356     SA243340  YW_20201210_233    V6    Placebo\n",
       "357     SA243345  YW_20201210_234    V6    Placebo\n",
       "358     SA243343  YW_20201210_255    V6    Placebo\n",
       "359     SA243329  YW_20201210_256    V6    Placebo\n",
       "\n",
       "[355 rows x 4 columns]"
      ]
     },
     "execution_count": 11,
     "metadata": {},
     "output_type": "execute_result"
    }
   ],
   "source": [
    "final_sample_list"
   ]
  }
 ],
 "metadata": {
  "kernelspec": {
   "display_name": "Python 3 (ipykernel)",
   "language": "python",
   "name": "python3"
  },
  "language_info": {
   "codemirror_mode": {
    "name": "ipython",
    "version": 3
   },
   "file_extension": ".py",
   "mimetype": "text/x-python",
   "name": "python",
   "nbconvert_exporter": "python",
   "pygments_lexer": "ipython3",
   "version": "3.10.13"
  }
 },
 "nbformat": 4,
 "nbformat_minor": 5
}
