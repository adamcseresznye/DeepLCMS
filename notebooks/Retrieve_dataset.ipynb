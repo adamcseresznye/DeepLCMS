{
 "cells": [
  {
   "cell_type": "code",
   "execution_count": 1,
   "id": "542cb42f-d723-46d4-bd64-6afa270b999d",
   "metadata": {},
   "outputs": [],
   "source": [
    "from typing import Optional\n",
    "\n",
    "import pandas as pd"
   ]
  },
  {
   "cell_type": "code",
   "execution_count": 2,
   "id": "10893ed6-6ddb-4eb1-9f56-4c0c532bd875",
   "metadata": {},
   "outputs": [
    {
     "ename": "NameError",
     "evalue": "name 'return_metabolomics_workbench_dataset' is not defined",
     "output_type": "error",
     "traceback": [
      "\u001b[1;31m---------------------------------------------------------------------------\u001b[0m",
      "\u001b[1;31mNameError\u001b[0m                                 Traceback (most recent call last)",
      "Cell \u001b[1;32mIn[2], line 16\u001b[0m\n\u001b[0;32m      2\u001b[0m \u001b[38;5;250m    \u001b[39m\u001b[38;5;124;03m\"\"\"\u001b[39;00m\n\u001b[0;32m      3\u001b[0m \u001b[38;5;124;03m    Fetches the available metabolomics study dataset from the Metabolomics Workbench website.\u001b[39;00m\n\u001b[0;32m      4\u001b[0m \n\u001b[1;32m   (...)\u001b[0m\n\u001b[0;32m      9\u001b[0m \u001b[38;5;124;03m    >>> metabolomics_data = return_metabolomics_workbench_dataset()\u001b[39;00m\n\u001b[0;32m     10\u001b[0m \u001b[38;5;124;03m    \"\"\"\u001b[39;00m\n\u001b[0;32m     11\u001b[0m     \u001b[38;5;28;01mreturn\u001b[39;00m pd\u001b[38;5;241m.\u001b[39mread_html(\n\u001b[0;32m     12\u001b[0m         \u001b[38;5;124m\"\u001b[39m\u001b[38;5;124mhttps://www.metabolomicsworkbench.org/data/DRCCStudySummary.php?Mode=StudySummary&SortBy=Study\u001b[39m\u001b[38;5;124m%\u001b[39m\u001b[38;5;124m20ID&AscDesc=desc&ResultsPerPage=2000\u001b[39m\u001b[38;5;124m\"\u001b[39m\n\u001b[0;32m     13\u001b[0m     )[\u001b[38;5;241m2\u001b[39m]\n\u001b[1;32m---> 16\u001b[0m datasets \u001b[38;5;241m=\u001b[39m \u001b[43mreturn_metabolomics_workbench_dataset\u001b[49m()\n",
      "\u001b[1;31mNameError\u001b[0m: name 'return_metabolomics_workbench_dataset' is not defined"
     ]
    }
   ],
   "source": [
    "def return_metabolomics_workbench_studies() -> pd.DataFrame:\n",
    "    \"\"\"\n",
    "    Fetches the available metabolomics study dataset from the Metabolomics Workbench website.\n",
    "\n",
    "    Returns:\n",
    "        pd.DataFrame: Metabolomics dataset.\n",
    "\n",
    "    Example:\n",
    "    >>> metabolomics_data = return_metabolomics_workbench_dataset()\n",
    "    \"\"\"\n",
    "    return pd.read_html(\n",
    "        \"https://www.metabolomicsworkbench.org/data/DRCCStudySummary.php?Mode=StudySummary&SortBy=Study%20ID&AscDesc=desc&ResultsPerPage=2000\"\n",
    "    )[2]\n",
    "\n",
    "\n",
    "datasets = return_metabolomics_workbench_dataset()"
   ]
  },
  {
   "cell_type": "code",
   "execution_count": null,
   "id": "612bff35-b879-4aad-bd1d-0cf8d1d6ffef",
   "metadata": {},
   "outputs": [],
   "source": [
    "def filter_and_sort_datasets(\n",
    "    df: pd.DataFrame, min_samples: int = 1, max_samples: Optional[int] = None\n",
    ") -> pd.DataFrame:\n",
    "    \"\"\"\n",
    "    Filters and sorts a DataFrame based on specific conditions related to samples, analysis, and file size metrics.\n",
    "\n",
    "    Parameters:\n",
    "        df (pd.DataFrame): The DataFrame to be filtered and sorted.\n",
    "        min_samples (int): Minimum number of samples (default: 1).\n",
    "        max_samples (int, optional): Maximum number of samples (default: None).\n",
    "\n",
    "    Returns:\n",
    "        pd.DataFrame: Filtered and sorted DataFrame.\n",
    "\n",
    "    Example:\n",
    "    >>> filtered_data = filter_and_sort_datasets(df, min_samples=50, max_samples=100)\n",
    "    \"\"\"\n",
    "    df = (\n",
    "        df.rename(columns={\"Download(* : Contains raw data)\": \"file_size\"})\n",
    "        .assign(\n",
    "            format=lambda df: df.file_size.str.extract(r\"Data format:(\\w+)\"),\n",
    "            file_size=lambda df: df.file_size.str.extract(\"(\\d+\\.*\\d+[a-zA-Z]+)\"),\n",
    "            file_size_number=lambda df: df.file_size.str.extract(\"(\\d+\\.*\\d+)\").astype(\n",
    "                \"float\"\n",
    "            ),\n",
    "            file_size_metric=lambda df: df.file_size.str.extract(\"([a-zA-Z])\"),\n",
    "        )\n",
    "        .drop(columns=\"file_size\")\n",
    "        .sort_values(by=\"Samples\", ascending=False)\n",
    "        .dropna(subset=\"format\")\n",
    "    )\n",
    "\n",
    "    if max_samples is None:\n",
    "        return df.query(\n",
    "            \"(Samples > @min_samples) and (Analysis == 'LC-MS#') and (file_size_metric != 'T') and (~format.isin(['d', 'wiff']))\"\n",
    "        ).sort_values(by=[\"file_size_number\", \"Samples\"], ascending=[True, False])\n",
    "    else:\n",
    "        return df.query(\n",
    "            \"(@min_samples < Samples < @max_samples) and (Analysis == 'LC-MS#') and (file_size_metric != 'T') and (~format.isin(['d', 'wiff']))\"\n",
    "        ).sort_values(by=[\"file_size_number\", \"Samples\"], ascending=[True, False])\n",
    "\n",
    "\n",
    "filter_and_sort_datasets(datasets, min_samples=300).head(20)"
   ]
  },
  {
   "cell_type": "code",
   "execution_count": null,
   "id": "a59ed4ba-5d8f-4458-abf4-ebab1e4397b5",
   "metadata": {},
   "outputs": [],
   "source": []
  }
 ],
 "metadata": {
  "kernelspec": {
   "display_name": "Python 3 (ipykernel)",
   "language": "python",
   "name": "python3"
  },
  "language_info": {
   "codemirror_mode": {
    "name": "ipython",
    "version": 3
   },
   "file_extension": ".py",
   "mimetype": "text/x-python",
   "name": "python",
   "nbconvert_exporter": "python",
   "pygments_lexer": "ipython3",
   "version": "3.10.13"
  }
 },
 "nbformat": 4,
 "nbformat_minor": 5
}
