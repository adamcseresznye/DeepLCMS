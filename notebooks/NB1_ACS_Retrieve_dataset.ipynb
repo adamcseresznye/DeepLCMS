{
 "cells": [
  {
   "cell_type": "code",
   "execution_count": null,
   "id": "542cb42f-d723-46d4-bd64-6afa270b999d",
   "metadata": {},
   "outputs": [],
   "source": [
    "from typing import Optional\n",
    "\n",
    "import pandas as pd\n",
    "\n",
    "from deeplcms_functions import inspect_database, utils"
   ]
  },
  {
   "cell_type": "markdown",
   "id": "56c1be32-d7ae-449d-bd0c-41c76dc77551",
   "metadata": {},
   "source": [
    "# Inspecting the list of available metabolomics studies from the Metabolomics Workbench website"
   ]
  },
  {
   "cell_type": "code",
   "execution_count": null,
   "id": "10893ed6-6ddb-4eb1-9f56-4c0c532bd875",
   "metadata": {},
   "outputs": [],
   "source": [
    "datasets = inspect_database.return_metabolomics_workbench_studies()"
   ]
  },
  {
   "cell_type": "code",
   "execution_count": null,
   "id": "612bff35-b879-4aad-bd1d-0cf8d1d6ffef",
   "metadata": {},
   "outputs": [],
   "source": [
    "inspect_database.filter_and_sort_datasets(datasets, min_samples=200).head(20)"
   ]
  },
  {
   "cell_type": "markdown",
   "id": "89669310-79c2-4858-9adc-7910dfd8627e",
   "metadata": {},
   "source": [
    "# Taking a look at ST001618"
   ]
  },
  {
   "cell_type": "code",
   "execution_count": null,
   "id": "9cd3c136-45e6-42ce-8f13-73758c5c7bed",
   "metadata": {},
   "outputs": [],
   "source": [
    "sample_list = (\n",
    "    pd.read_html(\n",
    "        \"https://www.metabolomicsworkbench.org/data/subject_fetch.php?STUDY_ID=ST001618&STUDY_TYPE=MS&RESULT_TYPE=5\"\n",
    "    )[1]\n",
    "    .rename(columns=lambda x: x.replace(\" \", \"_\").lower().split(\":\")[0])\n",
    "    .drop(columns=[\"subject_name\", \"sample_data\"])\n",
    "    .assign(sample_name=lambda df: df.sample_name.str.split(\".\", expand=True)[0])\n",
    "    .query(\"sample_name.str.contains('U')\")  # filtered out the study pools samples\n",
    ")\n",
    "sample_list"
   ]
  },
  {
   "cell_type": "code",
   "execution_count": null,
   "id": "6636276a-b9d7-44a1-b535-dce687e9b538",
   "metadata": {},
   "outputs": [],
   "source": [
    "for column in sample_list:\n",
    "    print(sample_list[column].value_counts(), end=3 * \"\\n\")"
   ]
  },
  {
   "cell_type": "markdown",
   "id": "b4cd72ec-ca81-44b6-88a9-be376869b268",
   "metadata": {},
   "source": [
    "When first checking the data, we noticed a mismatch in the number of files listed on the Metabolomics Workbench website. They claimed there were 360 mzML files, but after downloading and unzipping, we ended up with over 500 files. Since we're unsure about the diagnosis for the extra samples, we'll exclude them from our study by removing them."
   ]
  },
  {
   "cell_type": "code",
   "execution_count": null,
   "id": "1d905404-ef37-4889-ba9d-d03dd6b9e0e4",
   "metadata": {},
   "outputs": [],
   "source": [
    "data_path = utils.Configuration.RAW_DATA_PATH.joinpath(\"ST001618_Opium_study_LC_MS\")\n",
    "\n",
    "MS_files = pd.Series([item.stem for item in list(data_path.rglob(\"*.mzML\"))])\n",
    "print(\n",
    "    f\" Number of raw data files dowloaded from Metabolomics Workbench : {len(MS_files)}\"\n",
    ")\n",
    "print(\n",
    "    f\" Number of unique raw data files amongst them : {(MS_files.str[:15].value_counts().sort_values(ascending=False).values == 1).sum()}\"\n",
    ")"
   ]
  },
  {
   "cell_type": "markdown",
   "id": "6707c4c7-87f7-4a6f-adfb-e0969fd5f71f",
   "metadata": {},
   "source": [
    "As observed, we've saved 355 files on disk, while the Metabolomics Workbench website lists 360, indicating 5 missing files. Not a problem. Our plan is to filter out those 5 missing sample IDs from our sample list and then save the updated sample list to disk."
   ]
  },
  {
   "cell_type": "code",
   "execution_count": null,
   "id": "9e36d9cf-f674-4d95-8b07-3a2aa73af70b",
   "metadata": {},
   "outputs": [],
   "source": [
    "sample_list.to_parquet(\n",
    "    f\"{utils.Configuration.RAW_DATA_PATH.joinpath('sample_list')}.parquet.gzip\",\n",
    "    compression=\"gzip\",\n",
    ")"
   ]
  },
  {
   "cell_type": "code",
   "execution_count": null,
   "id": "dd42356c-7fb4-4d69-971f-db64145bcade",
   "metadata": {},
   "outputs": [],
   "source": [
    "pd.read_parquet(utils.Configuration.RAW_DATA_PATH.joinpath(\"sample_list.parquet.gzip\"))"
   ]
  },
  {
   "cell_type": "code",
   "execution_count": null,
   "id": "c5a1850b-f51b-4e4d-8377-19ba84ddab3e",
   "metadata": {},
   "outputs": [],
   "source": [
    "# Perform a sanity check to see if the MS files have the same name as the ones in the sample list\n",
    "# if this is not the case, we will have an error here\n",
    "assert MS_files.isin(sample_list.sample_name).sum() == sample_list.shape[0]"
   ]
  }
 ],
 "metadata": {
  "kernelspec": {
   "display_name": "Python 3 (ipykernel)",
   "language": "python",
   "name": "python3"
  },
  "language_info": {
   "codemirror_mode": {
    "name": "ipython",
    "version": 3
   },
   "file_extension": ".py",
   "mimetype": "text/x-python",
   "name": "python",
   "nbconvert_exporter": "python",
   "pygments_lexer": "ipython3",
   "version": "3.11.4"
  }
 },
 "nbformat": 4,
 "nbformat_minor": 5
}
