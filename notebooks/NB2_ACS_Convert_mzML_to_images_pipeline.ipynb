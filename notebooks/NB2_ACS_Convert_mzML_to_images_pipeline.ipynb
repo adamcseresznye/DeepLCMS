{
 "cells": [
  {
   "cell_type": "markdown",
   "id": "15eba5d0-f1e8-4bcb-b749-efdb6788c9d5",
   "metadata": {
    "id": "15eba5d0-f1e8-4bcb-b749-efdb6788c9d5"
   },
   "source": [
    "# Import libraries"
   ]
  },
  {
   "cell_type": "code",
   "execution_count": null,
   "id": "c75cf81a-8f5e-4b8f-ad24-9bc3d9e355be",
   "metadata": {
    "id": "c75cf81a-8f5e-4b8f-ad24-9bc3d9e355be"
   },
   "outputs": [],
   "source": [
    "from pathlib import Path\n",
    "\n",
    "import matplotlib.pyplot as plt\n",
    "import numpy as np\n",
    "import pandas as pd\n",
    "from PIL import Image, ImageChops\n",
    "from tqdm import tqdm\n",
    "\n",
    "from deeplcms_functions import convert_lcms_files, inspect_database, utils"
   ]
  },
  {
   "cell_type": "markdown",
   "id": "11e7d0db-231b-4a3f-8bc2-42759d2f3acb",
   "metadata": {},
   "source": [
    "# Inspect some images"
   ]
  },
  {
   "cell_type": "code",
   "execution_count": null,
   "id": "c4d156dc-826a-4973-950b-b0047a3b18e6",
   "metadata": {},
   "outputs": [],
   "source": [
    "example_file = utils.Configuration.RAW_DATA_PATH.joinpath(\n",
    "    \"ST001618_Opium_study_LC_MS/U_1.mzML\"\n",
    ")"
   ]
  },
  {
   "cell_type": "code",
   "execution_count": null,
   "id": "39d94aec-044f-4bb2-a833-3fc0d398f69e",
   "metadata": {},
   "outputs": [],
   "source": [
    "convert_lcms_files.plot_2D_spectra_overview(example_file, save=False, nx=1000, ny=1000)"
   ]
  },
  {
   "cell_type": "markdown",
   "id": "ca29614a-f136-4d61-82cb-fa0a1d94aaaf",
   "metadata": {},
   "source": [
    "![Elephant](experimental_plan.jpg){fig-alt=\"Expeimental plan.\" fig-align=\"center\" width=50%}\n"
   ]
  },
  {
   "cell_type": "markdown",
   "id": "a7e5993d-1678-4adf-967e-745b77bd65d4",
   "metadata": {},
   "source": [
    "# Step 1: Create directories"
   ]
  },
  {
   "cell_type": "code",
   "execution_count": null,
   "id": "c93e51ac-8320-4bb9-878b-90832e023daa",
   "metadata": {},
   "outputs": [],
   "source": [
    "%%script echo skipping\n",
    "\n",
    "convert_lcms_files.create_train_val_test_directories(\n",
    "    study_name=\"ST001618_Opium_study_LC_MS_500\",\n",
    "    path=utils.Configuration.RAW_DATA_PATH,\n",
    "    group_1=\"Non-User\",\n",
    "    group_2=\"User\",\n",
    ")"
   ]
  },
  {
   "cell_type": "markdown",
   "id": "85b56fea-db45-4252-91c7-8879fb51cb2c",
   "metadata": {},
   "source": [
    "# Step 2: Split data into train/test/val "
   ]
  },
  {
   "cell_type": "code",
   "execution_count": null,
   "id": "fd8c8429-628c-421e-9486-d74a5fd69863",
   "metadata": {},
   "outputs": [],
   "source": [
    "file_path = utils.Configuration.RAW_DATA_PATH.joinpath(\"sample_list.parquet.gzip\")\n",
    "\n",
    "# pd.read_parquet(file_path)\n",
    "train_test_val_split_df = convert_lcms_files.get_train_val_test_split(\n",
    "    path=file_path, test_portion=0.1, val_portion=0.2\n",
    ")\n",
    "print(train_test_val_split_df)\n",
    "train_test_val_split_df.groupby(\"split\").phenotype.value_counts()"
   ]
  },
  {
   "cell_type": "markdown",
   "id": "9f8c14be-5736-4065-9d12-d96a8ef991cc",
   "metadata": {},
   "source": [
    "# Cheking a few examples "
   ]
  },
  {
   "cell_type": "code",
   "execution_count": null,
   "id": "9d316f8b-eca5-498f-8306-bab46b6f66ff",
   "metadata": {},
   "outputs": [],
   "source": [
    "data_folder = utils.Configuration.RAW_DATA_PATH.joinpath(\"ST001618_Opium_study_LC_MS\")\n",
    "\n",
    "fig = plt.figure(figsize=(6, 6))\n",
    "rows, cols = 3, 3\n",
    "\n",
    "for idx, file_ in enumerate(train_test_val_split_df.sample_name.sample(9), 1):\n",
    "    fig.add_subplot(rows, cols, idx)\n",
    "    file = Path(f\"{data_folder.joinpath(file_)}.mzML\")\n",
    "    plt.imshow(\n",
    "        convert_lcms_files.plot_2D_spectra_overview(file, save=False, nx=1000, ny=1000)\n",
    "    )\n",
    "    plt.title(\n",
    "        train_test_val_split_df.query(\"sample_name == @file_\").phenotype.values[0]\n",
    "    )\n",
    "    plt.axis(False)\n",
    "\n",
    "plt.tight_layout()\n",
    "plt.show()"
   ]
  },
  {
   "cell_type": "markdown",
   "id": "770e83fb-8b74-4822-b3d3-7b7a6842ec4a",
   "metadata": {},
   "source": [
    "# Step 3: Convert LCMS files and move images to target directories"
   ]
  },
  {
   "cell_type": "code",
   "execution_count": null,
   "id": "19ad7a68-c9ad-473c-a7cf-a81425417a54",
   "metadata": {},
   "outputs": [],
   "source": [
    "%%script echo skipping\n",
    "\n",
    "convert_lcms_files.convert_LCMS_files_and_move_images(\n",
    "    source_folder=utils.Configuration.RAW_DATA_PATH.joinpath(\n",
    "        \"ST001618_Opium_study_LC_MS\"\n",
    "    ),\n",
    "    df=train_test_val_split_df,\n",
    "    destination_folder=utils.Configuration.RAW_DATA_PATH.joinpath(\n",
    "        \"ST001618_Opium_study_LC_MS_1000\"\n",
    "    ),\n",
    "    target_col=\"phenotype\",\n",
    "    nx=1000,\n",
    "    ny=1000,\n",
    ")"
   ]
  },
  {
   "cell_type": "markdown",
   "id": "0aaa8deb-0700-405b-a4af-ef8b446a2000",
   "metadata": {},
   "source": [
    "# Manual data augmentation"
   ]
  },
  {
   "cell_type": "code",
   "execution_count": null,
   "id": "0d8836ab-fbba-4a75-8fcf-6ba38a175c13",
   "metadata": {},
   "outputs": [],
   "source": [
    "location = np.random.choice(\n",
    "    list(utils.Configuration.RAW_DATA_PATH.joinpath(\"image_examples\").glob(\"*.jpeg\"))\n",
    ")\n",
    "\n",
    "convert_lcms_files.augment_images(location, save=False)"
   ]
  },
  {
   "cell_type": "code",
   "execution_count": null,
   "id": "10637b78-3f13-4112-b25d-5d75bd2daa6e",
   "metadata": {},
   "outputs": [],
   "source": [
    "location = list(\n",
    "    utils.Configuration.RAW_DATA_PATH.joinpath(\n",
    "        \"ST001618_Opium_study_LC_MS_500_augmented/train\"\n",
    "    ).glob(\"*/*.jpeg\")\n",
    ")\n",
    "location"
   ]
  }
 ],
 "metadata": {
  "colab": {
   "provenance": []
  },
  "kernelspec": {
   "display_name": "Python 3 (ipykernel)",
   "language": "python",
   "name": "python3"
  },
  "language_info": {
   "codemirror_mode": {
    "name": "ipython",
    "version": 3
   },
   "file_extension": ".py",
   "mimetype": "text/x-python",
   "name": "python",
   "nbconvert_exporter": "python",
   "pygments_lexer": "ipython3",
   "version": "3.9.18"
  }
 },
 "nbformat": 4,
 "nbformat_minor": 5
}
