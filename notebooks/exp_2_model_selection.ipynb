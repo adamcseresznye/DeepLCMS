{
 "cells": [
  {
   "cell_type": "markdown",
   "metadata": {
    "id": "M7o1Je1x0XQU"
   },
   "source": [
    "# Mount drive and append path to PYTONPATH\n"
   ]
  },
  {
   "cell_type": "code",
   "execution_count": null,
   "metadata": {
    "colab": {
     "base_uri": "https://localhost:8080/"
    },
    "executionInfo": {
     "elapsed": 1855,
     "status": "ok",
     "timestamp": 1701452145370,
     "user": {
      "displayName": "Adam Cseresznye",
      "userId": "14068185396312405589"
     },
     "user_tz": -60
    },
    "id": "S9vhq3fcEHwj",
    "outputId": "b48c102f-a50f-43b5-8285-51aa3b6faa9e"
   },
   "outputs": [],
   "source": [
    "import os\n",
    "import sys\n",
    "\n",
    "from google.colab import drive\n",
    "\n",
    "drive.mount(\"/content/drive\")\n",
    "sys.path.append(\"/content/drive/MyDrive/DeepLCMS/train_google_colab\")"
   ]
  },
  {
   "cell_type": "markdown",
   "metadata": {
    "id": "B10ISUtcE4nE"
   },
   "source": [
    "# Import and install libraries"
   ]
  },
  {
   "cell_type": "code",
   "execution_count": null,
   "metadata": {
    "executionInfo": {
     "elapsed": 34993,
     "status": "ok",
     "timestamp": 1701448327599,
     "user": {
      "displayName": "Adam Cseresznye",
      "userId": "14068185396312405589"
     },
     "user_tz": -60
    },
    "id": "EaleshIpENkS"
   },
   "outputs": [],
   "source": [
    "%%capture\n",
    "!pip install lightning\n",
    "!pip install timm\n",
    "!pip install torchinfo"
   ]
  },
  {
   "cell_type": "code",
   "execution_count": null,
   "metadata": {
    "executionInfo": {
     "elapsed": 18230,
     "status": "ok",
     "timestamp": 1701448345826,
     "user": {
      "displayName": "Adam Cseresznye",
      "userId": "14068185396312405589"
     },
     "user_tz": -60
    },
    "id": "eQbyJQmAXznU"
   },
   "outputs": [],
   "source": [
    "import gc\n",
    "from typing import Optional, Tuple\n",
    "\n",
    "import colab_functions\n",
    "import colab_utils\n",
    "import pandas as pd\n",
    "import prepare_data\n",
    "import pytorch_lightning as pl\n",
    "import timm\n",
    "import torch\n",
    "import torch.nn as nn\n",
    "import torch.nn.functional as F\n",
    "import torchinfo\n",
    "import train_NN\n",
    "from google.colab import drive\n",
    "from lightning.pytorch.loggers import CSVLogger\n",
    "from pytorch_lightning import LightningModule\n",
    "from pytorch_lightning.callbacks import Callback, EarlyStopping\n",
    "from pytorch_lightning.trainer.trainer import Trainer\n",
    "from timm import create_model\n",
    "from torchmetrics.classification import (\n",
    "    BinaryAUROC,\n",
    "    BinaryF1Score,\n",
    "    BinaryPrecision,\n",
    "    BinaryRecall,\n",
    ")"
   ]
  },
  {
   "cell_type": "code",
   "execution_count": null,
   "metadata": {
    "executionInfo": {
     "elapsed": 10,
     "status": "ok",
     "timestamp": 1701448345826,
     "user": {
      "displayName": "Adam Cseresznye",
      "userId": "14068185396312405589"
     },
     "user_tz": -60
    },
    "id": "gvVdxwYfiHwl"
   },
   "outputs": [],
   "source": [
    "# Set the CUDA_VISIBLE_DEVICES environment variable\n",
    "os.environ[\"CUDA_VISIBLE_DEVICES\"] = \"0\""
   ]
  },
  {
   "cell_type": "markdown",
   "metadata": {
    "id": "yjCM3Grt0NWP"
   },
   "source": [
    "# Unzip data"
   ]
  },
  {
   "cell_type": "code",
   "execution_count": null,
   "metadata": {
    "executionInfo": {
     "elapsed": 341,
     "status": "ok",
     "timestamp": 1701448409729,
     "user": {
      "displayName": "Adam Cseresznye",
      "userId": "14068185396312405589"
     },
     "user_tz": -60
    },
    "id": "vYo52Rm30Q-k"
   },
   "outputs": [],
   "source": [
    "!unzip -q experiment.zip"
   ]
  },
  {
   "cell_type": "markdown",
   "metadata": {
    "id": "EqmzdwGyVGvJ"
   },
   "source": [
    "# Check if GPU is used"
   ]
  },
  {
   "cell_type": "code",
   "execution_count": null,
   "metadata": {
    "colab": {
     "base_uri": "https://localhost:8080/"
    },
    "executionInfo": {
     "elapsed": 36,
     "status": "ok",
     "timestamp": 1701445287922,
     "user": {
      "displayName": "Adam Cseresznye",
      "userId": "14068185396312405589"
     },
     "user_tz": -60
    },
    "id": "Jh0cGdllMv8h",
    "outputId": "1b68bc87-e97e-4047-c1ad-c6728862ebec"
   },
   "outputs": [],
   "source": [
    "device = colab_functions.get_device()"
   ]
  },
  {
   "cell_type": "markdown",
   "metadata": {
    "id": "oiz0GYrqCojF"
   },
   "source": [
    "# Taking a look at the list of Timm pretrained models"
   ]
  },
  {
   "cell_type": "code",
   "execution_count": null,
   "metadata": {
    "id": "c9mrGzl7vYe9"
   },
   "outputs": [],
   "source": [
    "%%script echo skipping\n",
    "\n",
    "logger = CSVLogger(\"logs\", name=str(PRETRAINED_MODEL))\n",
    "\n",
    "trainer = Trainer(max_epochs=50, log_every_n_steps=1, logger=logger,\n",
    "                     callbacks=[EarlyStopping(monitor=\"val_loss\", mode=\"min\")]\n",
    "                  )\n",
    "trainer.fit(\n",
    "    model=example_model, train_dataloaders=train_dataloader, val_dataloaders=val_dataloader\n",
    ")\n",
    "\n",
    "results_df = colab_functions.get_experiment_results()\n",
    "results_df.to_csv(\"pretrained_model_results.csv\", index=False)\n",
    "colab_functions.plot_experiment_results(results_df)"
   ]
  },
  {
   "cell_type": "markdown",
   "metadata": {
    "id": "KL9-cKprC9D_"
   },
   "source": [
    "# Findings the best version of tf_efficientnetv2\n"
   ]
  },
  {
   "cell_type": "code",
   "execution_count": null,
   "metadata": {
    "id": "2MY-xqwszWIk"
   },
   "outputs": [],
   "source": [
    "%%script echo skipping\n",
    "\n",
    "tf_efficientnetv2_models = timm.list_models(\"tf_efficientnetv2*\", pretrained=True)\n",
    "\n",
    "\n",
    "for pretrained_model in tf_efficientnetv2_models:\n",
    "    try:\n",
    "        temp_model = train_NN.PretrainedModelEvaluator(pretrained_model)\n",
    "\n",
    "        (\n",
    "            preprocess_train,\n",
    "            preprocess_val,\n",
    "            preprocess_test,\n",
    "        ) = prepare_data.get_timm_transforms(temp_model)\n",
    "\n",
    "        (\n",
    "            train_dataloader,\n",
    "            val_dataloader,\n",
    "            test_dataloader,\n",
    "        ) = prepare_data.get_dataloaders(\n",
    "            preprocess_train=preprocess_train,\n",
    "            preprocess_val=preprocess_val,\n",
    "            preprocess_test=preprocess_test,\n",
    "        )\n",
    "\n",
    "        # metrics_callback = train_NN.MetricsCallback()\n",
    "        logger = CSVLogger(\"logs\", name=str(pretrained_model))\n",
    "\n",
    "        # trainer = pl.Trainer(max_epochs=1, callbacks=[metrics_callback], log_every_n_steps=1)\n",
    "        trainer = Trainer(max_epochs=50, log_every_n_steps=1, logger=logger, \n",
    "                     callbacks=[EarlyStopping(monitor=\"val_loss\", mode=\"min\")]\n",
    "                  )\n",
    "\n",
    "        trainer.fit(\n",
    "            model=temp_model,\n",
    "            train_dataloaders=train_dataloader,\n",
    "            val_dataloaders=val_dataloader,\n",
    "        )\n",
    "\n",
    "        # Clean up resources\n",
    "        resources_to_delete = [\n",
    "            temp_model,\n",
    "            preprocess_train,\n",
    "            preprocess_val,\n",
    "            preprocess_test,\n",
    "            train_dataloader,\n",
    "            val_dataloader,\n",
    "            test_dataloader,\n",
    "            trainer,\n",
    "        ]\n",
    "\n",
    "        gc.collect()\n",
    "    except RuntimeError as e:\n",
    "        pass\n",
    "\n",
    "results_df = colab_functions.get_experiment_results()\n",
    "results_df.to_csv(\"resnet_models_results.csv\", index=False)\n",
    "colab_functions.plot_experiment_results(results_df)"
   ]
  },
  {
   "cell_type": "markdown",
   "metadata": {
    "id": "AWwj6aDljKoj"
   },
   "source": [
    "# Finding the best learining rate"
   ]
  },
  {
   "cell_type": "code",
   "execution_count": null,
   "metadata": {
    "id": "GtYiUERZ6Xql"
   },
   "outputs": [],
   "source": [
    "%reload_ext tensorboard\n",
    "%tensorboard --logdir='/content/lightning_logs'"
   ]
  }
 ],
 "metadata": {
  "colab": {
   "provenance": [
    {
     "file_id": "1FxpkTpMoivSD7nQRkqJsjJ_UhxNTpzed",
     "timestamp": 1700942428337
    }
   ]
  },
  "kernelspec": {
   "display_name": "Python 3 (ipykernel)",
   "language": "python",
   "name": "python3"
  },
  "language_info": {
   "codemirror_mode": {
    "name": "ipython",
    "version": 3
   },
   "file_extension": ".py",
   "mimetype": "text/x-python",
   "name": "python",
   "nbconvert_exporter": "python",
   "pygments_lexer": "ipython3",
   "version": "3.9.18"
  }
 },
 "nbformat": 4,
 "nbformat_minor": 4
}
